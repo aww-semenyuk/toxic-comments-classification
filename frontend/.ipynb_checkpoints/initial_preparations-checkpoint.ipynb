{
 "cells": [
  {
   "cell_type": "markdown",
   "id": "1e96d71b-42e7-4e13-8ae6-fbdaea422671",
   "metadata": {},
   "source": [
    "## Подгрузка необходимых библиотек"
   ]
  },
  {
   "cell_type": "code",
   "execution_count": 71,
   "id": "aeb54836-78c9-43b2-af9e-c6df912b3b53",
   "metadata": {},
   "outputs": [
    {
     "name": "stdout",
     "output_type": "stream",
     "text": [
      "INFO: Pandarallel will run on 10 workers.\n",
      "INFO: Pandarallel will use standard multiprocessing data transfer (pipe) to transfer data between the main process and workers.\n"
     ]
    }
   ],
   "source": [
    "# База\n",
    "import re\n",
    "import time\n",
    "import string\n",
    "import numpy as np\n",
    "import pandas as pd\n",
    "import datetime\n",
    "pd.options.display.float_format = '{:.2f}'.format\n",
    "import unicodedata\n",
    "import matplotlib.pyplot as plt\n",
    "from collections import Counter\n",
    "from wordcloud import WordCloud\n",
    "from tqdm.notebook import tqdm\n",
    "from sklearn.pipeline import Pipeline\n",
    "from pandarallel import pandarallel\n",
    "import plotly.express as px\n",
    "from joblib import Parallel, delayed\n",
    "tqdm.pandas()\n",
    "import seaborn as sns\n",
    "# Работа с NLP\n",
    "import nltk\n",
    "from nltk.corpus import wordnet\n",
    "from nltk.stem import WordNetLemmatizer\n",
    "from nltk import pos_tag\n",
    "from nltk.corpus import stopwords\n",
    "from nltk.tokenize import word_tokenize\n",
    "from nltk.corpus import stopwords\n",
    "from nltk.util import ngrams\n",
    "#nltk.download('punkt')\n",
    "#nltk.download('averaged_perceptron_tagger')\n",
    "#nltk.download('wordnet')\n",
    "#nltk.download('stopwords')\n",
    "#nltk.download('universal_tagset')\n",
    "from sklearn.linear_model import LogisticRegression\n",
    "from sklearn.svm import LinearSVC\n",
    "from sklearn.naive_bayes import MultinomialNB\n",
    "from catboost import CatBoostClassifier\n",
    "from xgboost import XGBClassifier\n",
    "from sklearn.multioutput import MultiOutputClassifier\n",
    "\n",
    "# Подбор гиперпараметров, метрики, преобразование переменных\n",
    "import optuna\n",
    "from sklearn.feature_extraction.text import CountVectorizer, TfidfVectorizer\n",
    "from sklearn.metrics import accuracy_score, precision_score, recall_score, f1_score, confusion_matrix, roc_auc_score, roc_curve, precision_recall_curve, auc\n",
    "from sklearn.utils import resample\n",
    "# Дополнительные библиотеки\n",
    "from functools import partial\n",
    "from IPython.display import display, HTML\n",
    "from pandarallel import pandarallel\n",
    "pandarallel.initialize(progress_bar=True)"
   ]
  },
  {
   "cell_type": "markdown",
   "id": "5cf33fb5-e5f0-48d7-bb43-3189c9d483d9",
   "metadata": {},
   "source": [
    "## Подготовка данных для демонстрации сервиса"
   ]
  },
  {
   "cell_type": "markdown",
   "id": "aad5fd92-7660-48ae-b95a-8bc0558c4b45",
   "metadata": {},
   "source": [
    "Так как сервис нужен для демонстрации моделей, а не для реального обучения моделей, то стоит сократить выборку для демонстрационного обучения. В случае, если семпл есть, этот этап нужно пропустить."
   ]
  },
  {
   "cell_type": "code",
   "execution_count": 122,
   "id": "14bfeaac-41c2-47c0-b6c4-206360977ecc",
   "metadata": {},
   "outputs": [],
   "source": [
    "data = pd.read_csv(\"/Users/inreleppik/githubr/toxic-comments-classification/modified_train.csv\")"
   ]
  },
  {
   "cell_type": "code",
   "execution_count": 123,
   "id": "2c70bd98-b31c-4837-9ae4-f01e4b41076c",
   "metadata": {},
   "outputs": [
    {
     "name": "stdout",
     "output_type": "stream",
     "text": [
      "<class 'pandas.core.frame.DataFrame'>\n",
      "RangeIndex: 1799551 entries, 0 to 1799550\n",
      "Data columns (total 39 columns):\n",
      " #   Column                    Dtype  \n",
      "---  ------                    -----  \n",
      " 0   id                        int64  \n",
      " 1   toxicity                  float64\n",
      " 2   comment_text              object \n",
      " 3   severe_toxicity           float64\n",
      " 4   obscene                   float64\n",
      " 5   identity_attack           float64\n",
      " 6   insult                    float64\n",
      " 7   threat                    float64\n",
      " 8   created_date              object \n",
      " 9   parent_id                 float64\n",
      " 10  rating                    object \n",
      " 11  funny                     int64  \n",
      " 12  wow                       int64  \n",
      " 13  sad                       int64  \n",
      " 14  likes                     int64  \n",
      " 15  disagree                  int64  \n",
      " 16  sexual_explicit           float64\n",
      " 17  identity_annotator_count  int64  \n",
      " 18  toxicity_annotator_count  int64  \n",
      " 19  text_length               int64  \n",
      " 20  year                      int64  \n",
      " 21  year_month                object \n",
      " 22  toxicity_b                int64  \n",
      " 23  any_reaction              int64  \n",
      " 24  toxicity_bins             object \n",
      " 25  severe_toxicity_b         int64  \n",
      " 26  obscene_b                 int64  \n",
      " 27  identity_attack_b         int64  \n",
      " 28  insult_b                  int64  \n",
      " 29  threat_b                  int64  \n",
      " 30  sexual_explicit_b         int64  \n",
      " 31  toxicity_any_kind         int64  \n",
      " 32  num_words                 int64  \n",
      " 33  num_sent                  int64  \n",
      " 34  num_punct                 int64  \n",
      " 35  tokens                    object \n",
      " 36  tokens_cnt                int64  \n",
      " 37  tokens_ws                 object \n",
      " 38  ctws                      object \n",
      "dtypes: float64(8), int64(23), object(8)\n",
      "memory usage: 3.2 GB\n"
     ]
    }
   ],
   "source": [
    "data.info(memory_usage='deep')"
   ]
  },
  {
   "cell_type": "code",
   "execution_count": 124,
   "id": "a4d33f8a-b72c-403c-bcc5-77d7ec9141c4",
   "metadata": {},
   "outputs": [
    {
     "data": {
      "text/html": [
       "<div>\n",
       "<style scoped>\n",
       "    .dataframe tbody tr th:only-of-type {\n",
       "        vertical-align: middle;\n",
       "    }\n",
       "\n",
       "    .dataframe tbody tr th {\n",
       "        vertical-align: top;\n",
       "    }\n",
       "\n",
       "    .dataframe thead th {\n",
       "        text-align: right;\n",
       "    }\n",
       "</style>\n",
       "<table border=\"1\" class=\"dataframe\">\n",
       "  <thead>\n",
       "    <tr style=\"text-align: right;\">\n",
       "      <th></th>\n",
       "      <th>id</th>\n",
       "      <th>toxicity</th>\n",
       "      <th>comment_text</th>\n",
       "      <th>severe_toxicity</th>\n",
       "      <th>obscene</th>\n",
       "      <th>identity_attack</th>\n",
       "      <th>insult</th>\n",
       "      <th>threat</th>\n",
       "      <th>created_date</th>\n",
       "      <th>parent_id</th>\n",
       "      <th>...</th>\n",
       "      <th>threat_b</th>\n",
       "      <th>sexual_explicit_b</th>\n",
       "      <th>toxicity_any_kind</th>\n",
       "      <th>num_words</th>\n",
       "      <th>num_sent</th>\n",
       "      <th>num_punct</th>\n",
       "      <th>tokens</th>\n",
       "      <th>tokens_cnt</th>\n",
       "      <th>tokens_ws</th>\n",
       "      <th>ctws</th>\n",
       "    </tr>\n",
       "  </thead>\n",
       "  <tbody>\n",
       "    <tr>\n",
       "      <th>0</th>\n",
       "      <td>5118044</td>\n",
       "      <td>0.98</td>\n",
       "      <td>You can stick your dick up anyone's butt. Why ...</td>\n",
       "      <td>0.13</td>\n",
       "      <td>0.94</td>\n",
       "      <td>0.01</td>\n",
       "      <td>0.25</td>\n",
       "      <td>0.01</td>\n",
       "      <td>2017-04-10 23:30:10.076014+00:00</td>\n",
       "      <td>NaN</td>\n",
       "      <td>...</td>\n",
       "      <td>0</td>\n",
       "      <td>1</td>\n",
       "      <td>1</td>\n",
       "      <td>17</td>\n",
       "      <td>2</td>\n",
       "      <td>3</td>\n",
       "      <td>['you', 'can', 'stick', 'your', 'dick', 'up', ...</td>\n",
       "      <td>15</td>\n",
       "      <td>['stick', 'dick', 'anyone', 'butt', 'law']</td>\n",
       "      <td>stick dick anyone butt law</td>\n",
       "    </tr>\n",
       "    <tr>\n",
       "      <th>1</th>\n",
       "      <td>5380193</td>\n",
       "      <td>0.98</td>\n",
       "      <td>I bet your fat bitter little nerd ass was wait...</td>\n",
       "      <td>0.20</td>\n",
       "      <td>0.94</td>\n",
       "      <td>0.02</td>\n",
       "      <td>0.97</td>\n",
       "      <td>0.02</td>\n",
       "      <td>2017-06-08 18:24:06.236150+00:00</td>\n",
       "      <td>5377903.00</td>\n",
       "      <td>...</td>\n",
       "      <td>0</td>\n",
       "      <td>1</td>\n",
       "      <td>1</td>\n",
       "      <td>30</td>\n",
       "      <td>2</td>\n",
       "      <td>4</td>\n",
       "      <td>['i', 'bet', 'your', 'fat', 'bitter', 'little'...</td>\n",
       "      <td>28</td>\n",
       "      <td>['bet', 'fat', 'bitter', 'little', 'nerd', 'as...</td>\n",
       "      <td>bet fat bitter little nerd as wait day find wa...</td>\n",
       "    </tr>\n",
       "    <tr>\n",
       "      <th>2</th>\n",
       "      <td>5292392</td>\n",
       "      <td>0.95</td>\n",
       "      <td>I hope you die today. The world will be much b...</td>\n",
       "      <td>0.25</td>\n",
       "      <td>0.08</td>\n",
       "      <td>0.01</td>\n",
       "      <td>0.76</td>\n",
       "      <td>0.86</td>\n",
       "      <td>2017-05-23 18:10:27.505027+00:00</td>\n",
       "      <td>5292009.00</td>\n",
       "      <td>...</td>\n",
       "      <td>1</td>\n",
       "      <td>0</td>\n",
       "      <td>1</td>\n",
       "      <td>20</td>\n",
       "      <td>2</td>\n",
       "      <td>2</td>\n",
       "      <td>['i', 'hope', 'you', 'die', 'today', 'the', 'w...</td>\n",
       "      <td>18</td>\n",
       "      <td>['hope', 'die', 'today', 'world', 'much', 'goo...</td>\n",
       "      <td>hope die today world much good without filth like</td>\n",
       "    </tr>\n",
       "    <tr>\n",
       "      <th>3</th>\n",
       "      <td>5481314</td>\n",
       "      <td>0.91</td>\n",
       "      <td>Let them die ..\\nMaybe we should build concent...</td>\n",
       "      <td>0.28</td>\n",
       "      <td>0.01</td>\n",
       "      <td>0.05</td>\n",
       "      <td>0.10</td>\n",
       "      <td>0.88</td>\n",
       "      <td>2017-06-26 21:37:55.561744+00:00</td>\n",
       "      <td>5480942.00</td>\n",
       "      <td>...</td>\n",
       "      <td>1</td>\n",
       "      <td>0</td>\n",
       "      <td>1</td>\n",
       "      <td>22</td>\n",
       "      <td>1</td>\n",
       "      <td>7</td>\n",
       "      <td>['let', 'them', 'die', 'maybe', 'we', 'should'...</td>\n",
       "      <td>18</td>\n",
       "      <td>['let', 'die', 'maybe', 'build', 'concentratio...</td>\n",
       "      <td>let die maybe build concentration camp gas cha...</td>\n",
       "    </tr>\n",
       "    <tr>\n",
       "      <th>4</th>\n",
       "      <td>5588434</td>\n",
       "      <td>0.94</td>\n",
       "      <td>If we shoot them it will be a permanent soluti...</td>\n",
       "      <td>0.15</td>\n",
       "      <td>0.00</td>\n",
       "      <td>0.03</td>\n",
       "      <td>0.50</td>\n",
       "      <td>0.91</td>\n",
       "      <td>2017-07-13 21:15:03.037890+00:00</td>\n",
       "      <td>5586783.00</td>\n",
       "      <td>...</td>\n",
       "      <td>1</td>\n",
       "      <td>0</td>\n",
       "      <td>1</td>\n",
       "      <td>19</td>\n",
       "      <td>2</td>\n",
       "      <td>2</td>\n",
       "      <td>['if', 'we', 'shoot', 'them', 'it', 'will', 'b...</td>\n",
       "      <td>17</td>\n",
       "      <td>['shoot', 'permanent', 'solution', 'creature',...</td>\n",
       "      <td>shoot permanent solution creature waste space</td>\n",
       "    </tr>\n",
       "  </tbody>\n",
       "</table>\n",
       "<p>5 rows × 39 columns</p>\n",
       "</div>"
      ],
      "text/plain": [
       "        id  toxicity                                       comment_text  \\\n",
       "0  5118044      0.98  You can stick your dick up anyone's butt. Why ...   \n",
       "1  5380193      0.98  I bet your fat bitter little nerd ass was wait...   \n",
       "2  5292392      0.95  I hope you die today. The world will be much b...   \n",
       "3  5481314      0.91  Let them die ..\\nMaybe we should build concent...   \n",
       "4  5588434      0.94  If we shoot them it will be a permanent soluti...   \n",
       "\n",
       "   severe_toxicity  obscene  identity_attack  insult  threat  \\\n",
       "0             0.13     0.94             0.01    0.25    0.01   \n",
       "1             0.20     0.94             0.02    0.97    0.02   \n",
       "2             0.25     0.08             0.01    0.76    0.86   \n",
       "3             0.28     0.01             0.05    0.10    0.88   \n",
       "4             0.15     0.00             0.03    0.50    0.91   \n",
       "\n",
       "                       created_date  parent_id  ... threat_b  \\\n",
       "0  2017-04-10 23:30:10.076014+00:00        NaN  ...        0   \n",
       "1  2017-06-08 18:24:06.236150+00:00 5377903.00  ...        0   \n",
       "2  2017-05-23 18:10:27.505027+00:00 5292009.00  ...        1   \n",
       "3  2017-06-26 21:37:55.561744+00:00 5480942.00  ...        1   \n",
       "4  2017-07-13 21:15:03.037890+00:00 5586783.00  ...        1   \n",
       "\n",
       "   sexual_explicit_b  toxicity_any_kind  num_words  num_sent  num_punct  \\\n",
       "0                  1                  1         17         2          3   \n",
       "1                  1                  1         30         2          4   \n",
       "2                  0                  1         20         2          2   \n",
       "3                  0                  1         22         1          7   \n",
       "4                  0                  1         19         2          2   \n",
       "\n",
       "                                              tokens  tokens_cnt  \\\n",
       "0  ['you', 'can', 'stick', 'your', 'dick', 'up', ...          15   \n",
       "1  ['i', 'bet', 'your', 'fat', 'bitter', 'little'...          28   \n",
       "2  ['i', 'hope', 'you', 'die', 'today', 'the', 'w...          18   \n",
       "3  ['let', 'them', 'die', 'maybe', 'we', 'should'...          18   \n",
       "4  ['if', 'we', 'shoot', 'them', 'it', 'will', 'b...          17   \n",
       "\n",
       "                                           tokens_ws  \\\n",
       "0         ['stick', 'dick', 'anyone', 'butt', 'law']   \n",
       "1  ['bet', 'fat', 'bitter', 'little', 'nerd', 'as...   \n",
       "2  ['hope', 'die', 'today', 'world', 'much', 'goo...   \n",
       "3  ['let', 'die', 'maybe', 'build', 'concentratio...   \n",
       "4  ['shoot', 'permanent', 'solution', 'creature',...   \n",
       "\n",
       "                                                ctws  \n",
       "0                         stick dick anyone butt law  \n",
       "1  bet fat bitter little nerd as wait day find wa...  \n",
       "2  hope die today world much good without filth like  \n",
       "3  let die maybe build concentration camp gas cha...  \n",
       "4      shoot permanent solution creature waste space  \n",
       "\n",
       "[5 rows x 39 columns]"
      ]
     },
     "execution_count": 124,
     "metadata": {},
     "output_type": "execute_result"
    }
   ],
   "source": [
    "data.head()"
   ]
  },
  {
   "cell_type": "code",
   "execution_count": 125,
   "id": "b6f80ab2-5571-4a67-9766-b0163670bf5f",
   "metadata": {},
   "outputs": [],
   "source": [
    "data['toxic'] = (data['toxicity'] >= 0.4).astype(int)"
   ]
  },
  {
   "cell_type": "code",
   "execution_count": 126,
   "id": "e929d850-03ff-4443-8808-9d075be46821",
   "metadata": {},
   "outputs": [
    {
     "data": {
      "text/plain": [
       "toxic\n",
       "0   0.89\n",
       "1   0.11\n",
       "Name: proportion, dtype: float64"
      ]
     },
     "execution_count": 126,
     "metadata": {},
     "output_type": "execute_result"
    }
   ],
   "source": [
    "data['toxic'].value_counts(normalize=True)"
   ]
  },
  {
   "cell_type": "code",
   "execution_count": 127,
   "id": "925a61d9-31c5-445e-a495-cfde9c76bbf5",
   "metadata": {},
   "outputs": [],
   "source": [
    "data = data[['toxic', 'comment_text']]"
   ]
  },
  {
   "cell_type": "code",
   "execution_count": 128,
   "id": "f097b068-a562-47cc-8413-c21222120d05",
   "metadata": {},
   "outputs": [
    {
     "data": {
      "text/html": [
       "<div>\n",
       "<style scoped>\n",
       "    .dataframe tbody tr th:only-of-type {\n",
       "        vertical-align: middle;\n",
       "    }\n",
       "\n",
       "    .dataframe tbody tr th {\n",
       "        vertical-align: top;\n",
       "    }\n",
       "\n",
       "    .dataframe thead th {\n",
       "        text-align: right;\n",
       "    }\n",
       "</style>\n",
       "<table border=\"1\" class=\"dataframe\">\n",
       "  <thead>\n",
       "    <tr style=\"text-align: right;\">\n",
       "      <th></th>\n",
       "      <th>toxic</th>\n",
       "      <th>comment_text</th>\n",
       "    </tr>\n",
       "  </thead>\n",
       "  <tbody>\n",
       "    <tr>\n",
       "      <th>0</th>\n",
       "      <td>1</td>\n",
       "      <td>You can stick your dick up anyone's butt. Why ...</td>\n",
       "    </tr>\n",
       "    <tr>\n",
       "      <th>1</th>\n",
       "      <td>1</td>\n",
       "      <td>I bet your fat bitter little nerd ass was wait...</td>\n",
       "    </tr>\n",
       "    <tr>\n",
       "      <th>2</th>\n",
       "      <td>1</td>\n",
       "      <td>I hope you die today. The world will be much b...</td>\n",
       "    </tr>\n",
       "    <tr>\n",
       "      <th>3</th>\n",
       "      <td>1</td>\n",
       "      <td>Let them die ..\\nMaybe we should build concent...</td>\n",
       "    </tr>\n",
       "    <tr>\n",
       "      <th>4</th>\n",
       "      <td>1</td>\n",
       "      <td>If we shoot them it will be a permanent soluti...</td>\n",
       "    </tr>\n",
       "  </tbody>\n",
       "</table>\n",
       "</div>"
      ],
      "text/plain": [
       "   toxic                                       comment_text\n",
       "0      1  You can stick your dick up anyone's butt. Why ...\n",
       "1      1  I bet your fat bitter little nerd ass was wait...\n",
       "2      1  I hope you die today. The world will be much b...\n",
       "3      1  Let them die ..\\nMaybe we should build concent...\n",
       "4      1  If we shoot them it will be a permanent soluti..."
      ]
     },
     "execution_count": 128,
     "metadata": {},
     "output_type": "execute_result"
    }
   ],
   "source": [
    "data.head()"
   ]
  },
  {
   "cell_type": "markdown",
   "id": "df3103f4-dcb0-41f3-bf21-2eb711920b7b",
   "metadata": {},
   "source": [
    "Были оставлены только основные колонки для обучения моделей. Теперь пришло время сделать выборку поменьше из исходных данных."
   ]
  },
  {
   "cell_type": "code",
   "execution_count": 130,
   "id": "7a054b7e-43ca-4844-aca9-9acb12de3433",
   "metadata": {},
   "outputs": [],
   "source": [
    "type_count = data['toxic'].value_counts()\n",
    "sample_size = 100000\n",
    "\n",
    "type_o_size = int(sample_size * type_count[0] / len(data))\n",
    "type_t_size = sample_size - type_o_size \n",
    "\n",
    "ordinary_sample = resample(data[data['toxic'] == 0], n_samples=type_o_size, random_state=42)\n",
    "toxic_sample = resample(data[data['toxic'] == 1], n_samples=type_t_size, random_state=42)\n",
    "\n",
    "s_data = pd.concat([ordinary_sample, toxic_sample]).sample(frac=1, random_state=42).reset_index(drop=True)"
   ]
  },
  {
   "cell_type": "code",
   "execution_count": 131,
   "id": "702d6385-68ae-4a0a-a85d-83b368991c03",
   "metadata": {},
   "outputs": [
    {
     "data": {
      "text/plain": [
       "toxic\n",
       "0   0.89\n",
       "1   0.11\n",
       "Name: proportion, dtype: float64"
      ]
     },
     "execution_count": 131,
     "metadata": {},
     "output_type": "execute_result"
    }
   ],
   "source": [
    "s_data['toxic'].value_counts(normalize=True)"
   ]
  },
  {
   "cell_type": "code",
   "execution_count": 132,
   "id": "5a9c7d98-2a9d-473c-ab05-01b97a6c2e19",
   "metadata": {},
   "outputs": [
    {
     "data": {
      "text/html": [
       "<div>\n",
       "<style scoped>\n",
       "    .dataframe tbody tr th:only-of-type {\n",
       "        vertical-align: middle;\n",
       "    }\n",
       "\n",
       "    .dataframe tbody tr th {\n",
       "        vertical-align: top;\n",
       "    }\n",
       "\n",
       "    .dataframe thead th {\n",
       "        text-align: right;\n",
       "    }\n",
       "</style>\n",
       "<table border=\"1\" class=\"dataframe\">\n",
       "  <thead>\n",
       "    <tr style=\"text-align: right;\">\n",
       "      <th></th>\n",
       "      <th>toxic</th>\n",
       "      <th>comment_text</th>\n",
       "    </tr>\n",
       "  </thead>\n",
       "  <tbody>\n",
       "    <tr>\n",
       "      <th>0</th>\n",
       "      <td>0</td>\n",
       "      <td>Why do I get the feeling this bridge will cost...</td>\n",
       "    </tr>\n",
       "    <tr>\n",
       "      <th>1</th>\n",
       "      <td>0</td>\n",
       "      <td>Great work!  I hope you take it further.  A mo...</td>\n",
       "    </tr>\n",
       "    <tr>\n",
       "      <th>2</th>\n",
       "      <td>0</td>\n",
       "      <td>I do not agree with the policies on the right ...</td>\n",
       "    </tr>\n",
       "    <tr>\n",
       "      <th>3</th>\n",
       "      <td>0</td>\n",
       "      <td>The Denver Post has not been a reliable news s...</td>\n",
       "    </tr>\n",
       "    <tr>\n",
       "      <th>4</th>\n",
       "      <td>1</td>\n",
       "      <td>\" In the meantime, the party is taking advanta...</td>\n",
       "    </tr>\n",
       "  </tbody>\n",
       "</table>\n",
       "</div>"
      ],
      "text/plain": [
       "   toxic                                       comment_text\n",
       "0      0  Why do I get the feeling this bridge will cost...\n",
       "1      0  Great work!  I hope you take it further.  A mo...\n",
       "2      0  I do not agree with the policies on the right ...\n",
       "3      0  The Denver Post has not been a reliable news s...\n",
       "4      1  \" In the meantime, the party is taking advanta..."
      ]
     },
     "execution_count": 132,
     "metadata": {},
     "output_type": "execute_result"
    }
   ],
   "source": [
    "s_data.head()"
   ]
  },
  {
   "cell_type": "markdown",
   "id": "429274c1-ac3f-410a-a153-47d9b5804284",
   "metadata": {},
   "source": [
    "Теперь можно сохранить датасет и приступить к этапу EDA и обучению ML моделей."
   ]
  },
  {
   "cell_type": "code",
   "execution_count": 134,
   "id": "df6ace14-c1f8-425a-9759-a3d0f4c40742",
   "metadata": {},
   "outputs": [],
   "source": [
    "s_data.to_csv('demo_data.csv')"
   ]
  },
  {
   "cell_type": "markdown",
   "id": "9964df21-b5a9-454f-a45c-114da919ef6c",
   "metadata": {},
   "source": [
    "# EDA"
   ]
  },
  {
   "cell_type": "code",
   "execution_count": 3,
   "id": "abdd8d2e-5da5-4302-b4e9-73edec94b491",
   "metadata": {},
   "outputs": [],
   "source": [
    "s_data = pd.read_csv('demo_data.csv', index_col=0)"
   ]
  },
  {
   "cell_type": "code",
   "execution_count": 5,
   "id": "c87e8262-ab01-44c4-8257-a21139ee9cb2",
   "metadata": {},
   "outputs": [
    {
     "data": {
      "text/html": [
       "<div>\n",
       "<style scoped>\n",
       "    .dataframe tbody tr th:only-of-type {\n",
       "        vertical-align: middle;\n",
       "    }\n",
       "\n",
       "    .dataframe tbody tr th {\n",
       "        vertical-align: top;\n",
       "    }\n",
       "\n",
       "    .dataframe thead th {\n",
       "        text-align: right;\n",
       "    }\n",
       "</style>\n",
       "<table border=\"1\" class=\"dataframe\">\n",
       "  <thead>\n",
       "    <tr style=\"text-align: right;\">\n",
       "      <th></th>\n",
       "      <th>toxic</th>\n",
       "      <th>comment_text</th>\n",
       "    </tr>\n",
       "  </thead>\n",
       "  <tbody>\n",
       "    <tr>\n",
       "      <th>0</th>\n",
       "      <td>0</td>\n",
       "      <td>Why do I get the feeling this bridge will cost...</td>\n",
       "    </tr>\n",
       "    <tr>\n",
       "      <th>1</th>\n",
       "      <td>0</td>\n",
       "      <td>Great work!  I hope you take it further.  A mo...</td>\n",
       "    </tr>\n",
       "    <tr>\n",
       "      <th>2</th>\n",
       "      <td>0</td>\n",
       "      <td>I do not agree with the policies on the right ...</td>\n",
       "    </tr>\n",
       "    <tr>\n",
       "      <th>3</th>\n",
       "      <td>0</td>\n",
       "      <td>The Denver Post has not been a reliable news s...</td>\n",
       "    </tr>\n",
       "    <tr>\n",
       "      <th>4</th>\n",
       "      <td>1</td>\n",
       "      <td>\" In the meantime, the party is taking advanta...</td>\n",
       "    </tr>\n",
       "    <tr>\n",
       "      <th>...</th>\n",
       "      <td>...</td>\n",
       "      <td>...</td>\n",
       "    </tr>\n",
       "    <tr>\n",
       "      <th>99995</th>\n",
       "      <td>0</td>\n",
       "      <td>\"It was for me like 'you give so much. You giv...</td>\n",
       "    </tr>\n",
       "    <tr>\n",
       "      <th>99996</th>\n",
       "      <td>0</td>\n",
       "      <td>He voted you the gold star as well. Like our l...</td>\n",
       "    </tr>\n",
       "    <tr>\n",
       "      <th>99997</th>\n",
       "      <td>0</td>\n",
       "      <td>Comey would likely wimp out on providing any i...</td>\n",
       "    </tr>\n",
       "    <tr>\n",
       "      <th>99998</th>\n",
       "      <td>0</td>\n",
       "      <td>How many exactly?</td>\n",
       "    </tr>\n",
       "    <tr>\n",
       "      <th>99999</th>\n",
       "      <td>0</td>\n",
       "      <td>Why bother calculating \"replacement ratio\"? Ju...</td>\n",
       "    </tr>\n",
       "  </tbody>\n",
       "</table>\n",
       "<p>100000 rows × 2 columns</p>\n",
       "</div>"
      ],
      "text/plain": [
       "       toxic                                       comment_text\n",
       "0          0  Why do I get the feeling this bridge will cost...\n",
       "1          0  Great work!  I hope you take it further.  A mo...\n",
       "2          0  I do not agree with the policies on the right ...\n",
       "3          0  The Denver Post has not been a reliable news s...\n",
       "4          1  \" In the meantime, the party is taking advanta...\n",
       "...      ...                                                ...\n",
       "99995      0  \"It was for me like 'you give so much. You giv...\n",
       "99996      0  He voted you the gold star as well. Like our l...\n",
       "99997      0  Comey would likely wimp out on providing any i...\n",
       "99998      0                                  How many exactly?\n",
       "99999      0  Why bother calculating \"replacement ratio\"? Ju...\n",
       "\n",
       "[100000 rows x 2 columns]"
      ]
     },
     "execution_count": 5,
     "metadata": {},
     "output_type": "execute_result"
    }
   ],
   "source": [
    "s_data"
   ]
  },
  {
   "cell_type": "code",
   "execution_count": 7,
   "id": "8a32d2c2-9855-4772-afd4-e6fb86028ac8",
   "metadata": {},
   "outputs": [
    {
     "name": "stdout",
     "output_type": "stream",
     "text": [
      "INFO: Pandarallel will run on 10 workers.\n",
      "INFO: Pandarallel will use standard multiprocessing data transfer (pipe) to transfer data between the main process and workers.\n"
     ]
    },
    {
     "data": {
      "application/vnd.jupyter.widget-view+json": {
       "model_id": "1c50bfa82ab64b2e8a57809abb937708",
       "version_major": 2,
       "version_minor": 0
      },
      "text/plain": [
       "VBox(children=(HBox(children=(IntProgress(value=0, description='0.00%', max=10000), Label(value='0 / 10000')))…"
      ]
     },
     "metadata": {},
     "output_type": "display_data"
    },
    {
     "name": "stdout",
     "output_type": "stream",
     "text": [
      "CPU times: user 3.36 s, sys: 172 ms, total: 3.53 s\n",
      "Wall time: 5.97 s\n"
     ]
    }
   ],
   "source": [
    "%%time\n",
    "pandarallel.initialize(progress_bar=True)\n",
    "\n",
    "s_data[['text_length', 'num_words', 'num_sent', 'num_punct']] = s_data['comment_text'].parallel_apply(\n",
    "    lambda text: (\n",
    "        len(text),\n",
    "        len(nltk.tokenize.word_tokenize(text)),\n",
    "        len(nltk.tokenize.sent_tokenize(text)),\n",
    "        sum(ch in string.punctuation for ch in text)\n",
    "    )\n",
    ").apply(pd.Series)"
   ]
  },
  {
   "cell_type": "code",
   "execution_count": 8,
   "id": "114180cb-cee7-468a-a42a-6d4ece0a1024",
   "metadata": {},
   "outputs": [
    {
     "data": {
      "text/html": [
       "<div>\n",
       "<style scoped>\n",
       "    .dataframe tbody tr th:only-of-type {\n",
       "        vertical-align: middle;\n",
       "    }\n",
       "\n",
       "    .dataframe tbody tr th {\n",
       "        vertical-align: top;\n",
       "    }\n",
       "\n",
       "    .dataframe thead th {\n",
       "        text-align: right;\n",
       "    }\n",
       "</style>\n",
       "<table border=\"1\" class=\"dataframe\">\n",
       "  <thead>\n",
       "    <tr style=\"text-align: right;\">\n",
       "      <th></th>\n",
       "      <th>toxic</th>\n",
       "      <th>comment_text</th>\n",
       "      <th>text_length</th>\n",
       "      <th>num_words</th>\n",
       "      <th>num_sent</th>\n",
       "      <th>num_punct</th>\n",
       "    </tr>\n",
       "  </thead>\n",
       "  <tbody>\n",
       "    <tr>\n",
       "      <th>0</th>\n",
       "      <td>0</td>\n",
       "      <td>Why do I get the feeling this bridge will cost...</td>\n",
       "      <td>374</td>\n",
       "      <td>76</td>\n",
       "      <td>3</td>\n",
       "      <td>11</td>\n",
       "    </tr>\n",
       "    <tr>\n",
       "      <th>1</th>\n",
       "      <td>0</td>\n",
       "      <td>Great work!  I hope you take it further.  A mo...</td>\n",
       "      <td>869</td>\n",
       "      <td>178</td>\n",
       "      <td>7</td>\n",
       "      <td>20</td>\n",
       "    </tr>\n",
       "    <tr>\n",
       "      <th>2</th>\n",
       "      <td>0</td>\n",
       "      <td>I do not agree with the policies on the right ...</td>\n",
       "      <td>192</td>\n",
       "      <td>38</td>\n",
       "      <td>3</td>\n",
       "      <td>3</td>\n",
       "    </tr>\n",
       "    <tr>\n",
       "      <th>3</th>\n",
       "      <td>0</td>\n",
       "      <td>The Denver Post has not been a reliable news s...</td>\n",
       "      <td>149</td>\n",
       "      <td>25</td>\n",
       "      <td>1</td>\n",
       "      <td>1</td>\n",
       "    </tr>\n",
       "    <tr>\n",
       "      <th>4</th>\n",
       "      <td>1</td>\n",
       "      <td>\" In the meantime, the party is taking advanta...</td>\n",
       "      <td>279</td>\n",
       "      <td>54</td>\n",
       "      <td>3</td>\n",
       "      <td>10</td>\n",
       "    </tr>\n",
       "  </tbody>\n",
       "</table>\n",
       "</div>"
      ],
      "text/plain": [
       "   toxic                                       comment_text  text_length  \\\n",
       "0      0  Why do I get the feeling this bridge will cost...          374   \n",
       "1      0  Great work!  I hope you take it further.  A mo...          869   \n",
       "2      0  I do not agree with the policies on the right ...          192   \n",
       "3      0  The Denver Post has not been a reliable news s...          149   \n",
       "4      1  \" In the meantime, the party is taking advanta...          279   \n",
       "\n",
       "   num_words  num_sent  num_punct  \n",
       "0         76         3         11  \n",
       "1        178         7         20  \n",
       "2         38         3          3  \n",
       "3         25         1          1  \n",
       "4         54         3         10  "
      ]
     },
     "execution_count": 8,
     "metadata": {},
     "output_type": "execute_result"
    }
   ],
   "source": [
    "s_data.head()"
   ]
  },
  {
   "cell_type": "markdown",
   "id": "628bd759-d6d2-4960-a7ec-05e7a9a2ec52",
   "metadata": {},
   "source": [
    "## Интерактивный график распределения длины текста и количества пунктуации"
   ]
  },
  {
   "cell_type": "code",
   "execution_count": null,
   "id": "454014c4-712e-4909-9bd5-55eb45acf7c9",
   "metadata": {},
   "outputs": [],
   "source": [
    "%%time\n",
    "import plotly.subplots as sp\n",
    "import plotly.graph_objects as go\n",
    "\n",
    "# Метрики для анализа\n",
    "metrics = ['text_length', 'num_words', 'num_sent', 'num_punct']\n",
    "metric_names = {\n",
    "    'text_length': 'Character Length',\n",
    "    'num_words': 'Word Length',\n",
    "    'num_sent': 'Sentence Length',\n",
    "    'num_punct': 'Number of Punctuations'\n",
    "}\n",
    "\n",
    "# Функция для вычисления статистики\n",
    "def calculate_statistics(data, metric):\n",
    "    return {\n",
    "        \"mean\": data[metric].mean(),\n",
    "        \"median\": data[metric].median(),\n",
    "        \"max\": data[metric].max(),\n",
    "        \"min\": data[metric].min()\n",
    "    }\n",
    "\n",
    "# Создаем subplot\n",
    "fig = sp.make_subplots(\n",
    "    rows=1, cols=2, \n",
    "    subplot_titles=[\"Non-Toxic Comments\", \"Toxic Comments\"], \n",
    "    horizontal_spacing=0.1\n",
    ")\n",
    "\n",
    "# Функция для добавления гистограмм\n",
    "def add_histograms(metric):\n",
    "    toxic_data = s_data[s_data['toxic'] == 1][metric]\n",
    "    non_toxic_data = s_data[s_data['toxic'] == 0][metric]\n",
    "\n",
    "    # Гистограмма для обычных комментариев\n",
    "    fig.add_trace(go.Histogram(\n",
    "        x=non_toxic_data,\n",
    "        name=f'Non-Toxic ({metric_names[metric]})',\n",
    "        marker_color='powderblue',\n",
    "        opacity=0.75,\n",
    "        visible=(metric == metrics[0]),  # Только первая метрика видима по умолчанию\n",
    "        xbins=dict(size=5)\n",
    "    ), row=1, col=1)\n",
    "    \n",
    "    # Гистограмма для токсичных комментариев\n",
    "    fig.add_trace(go.Histogram(\n",
    "        x=toxic_data,\n",
    "        name=f'Toxic ({metric_names[metric]})',\n",
    "        marker_color='crimson',\n",
    "        opacity=0.75,\n",
    "        visible=(metric == metrics[0]),  # Только первая метрика видима по умолчанию\n",
    "        xbins=dict(size=5)\n",
    "    ), row=1, col=2)\n",
    "\n",
    "# Добавляем гистограммы для всех метрик\n",
    "for metric in metrics:\n",
    "    add_histograms(metric)\n",
    "\n",
    "# Создание кнопок для переключения\n",
    "buttons = []\n",
    "for i, metric in enumerate(metrics):\n",
    "    visible = [False] * len(metrics) * 2  # Изначально всё скрыто\n",
    "    visible[i * 2] = True  # Включаем non-toxic для текущей метрики\n",
    "    visible[i * 2 + 1] = True  # Включаем toxic для текущей метрики\n",
    "\n",
    "    # Статистика для аннотаций\n",
    "    non_toxic_stats = calculate_statistics(s_data[s_data['toxic'] == 0], metric)\n",
    "    toxic_stats = calculate_statistics(s_data[s_data['toxic'] == 1], metric)\n",
    "\n",
    "    # Динамические аннотации\n",
    "    annotations = [\n",
    "        dict(\n",
    "            x=0.0, y=-0.2, xref='paper', yref='paper', showarrow=False,\n",
    "            text=(\n",
    "                f\"Non-Toxic:\\nMean: {non_toxic_stats['mean']:.2f}, \"\n",
    "                f\"Median: {non_toxic_stats['median']:.2f}, \"\n",
    "                f\"Max: {non_toxic_stats['max']}, Min: {non_toxic_stats['min']}\"\n",
    "            ),\n",
    "            font=dict(size=12),\n",
    "            align='center'\n",
    "        ),\n",
    "        dict(\n",
    "            x=1.0, y=-0.2, xref='paper', yref='paper', showarrow=False,\n",
    "            text=(\n",
    "                f\"Toxic:\\nMean: {toxic_stats['mean']:.2f}, \"\n",
    "                f\"Median: {toxic_stats['median']:.2f}, \"\n",
    "                f\"Max: {toxic_stats['max']}, Min: {toxic_stats['min']}\"\n",
    "            ),\n",
    "            font=dict(size=12),\n",
    "            align='center'\n",
    "        )\n",
    "    ]\n",
    "\n",
    "    buttons.append(dict(\n",
    "        label=metric_names[metric],\n",
    "        method='update',\n",
    "        args=[\n",
    "            {'visible': visible},  # Включаем только текущую метрику\n",
    "            {\n",
    "                'annotations': annotations,  # Обновляем аннотации\n",
    "                'yaxis.autorange': True,  # Автоматически подстраиваем ось y\n",
    "                'yaxis2.autorange': True,\n",
    "                'title': f\"Distribution of {metric_names[metric]} by Toxicity\"\n",
    "            }\n",
    "        ]\n",
    "    ))\n",
    "\n",
    "# Настройки графика\n",
    "fig.update_layout(\n",
    "    updatemenus=[\n",
    "        dict(\n",
    "            active=0,\n",
    "            buttons=buttons,\n",
    "            direction=\"down\",\n",
    "            showactive=True,\n",
    "            x=1.3,\n",
    "            y=1.15\n",
    "        )\n",
    "    ],\n",
    "    title=\"Distribution of Comment Lengths\",\n",
    "    xaxis_title=\"Length\",\n",
    "    yaxis_title=\"Count\",\n",
    "    height=600,\n",
    "    width=1100\n",
    ")\n",
    "fig.update_layout(\n",
    "    title={\n",
    "        'text': \"Distribution of Comment Lengths\",\n",
    "        'x': 0.43,  # Центрирование по горизонтали\n",
    "        'xanchor': 'center',  # Указание якоря\n",
    "        'yanchor': 'top'      # Указание вертикального якоря\n",
    "    }\n",
    ")\n",
    "\n",
    "fig.show()\n"
   ]
  },
  {
   "cell_type": "markdown",
   "id": "f3c32f91-3a95-4ebf-a142-d65e51494c32",
   "metadata": {},
   "source": [
    "## Обработка текста"
   ]
  },
  {
   "cell_type": "code",
   "execution_count": 12,
   "id": "61414d7a-acce-4c46-91ab-1b73e205d165",
   "metadata": {},
   "outputs": [],
   "source": [
    "class PreprocessLemmaTokenizer:\n",
    "    def __init__(self):\n",
    "        self.wnl = nltk.stem.WordNetLemmatizer()\n",
    "        self.tknzr = nltk.tokenize.TweetTokenizer()\n",
    "        self.stopwords = set(nltk.corpus.stopwords.words('english'))\n",
    "        self.punctuation = set(string.punctuation)\n",
    "\n",
    "\n",
    "        self.url_re = re.compile(r'(https?://\\S+|www\\.\\S+)', re.IGNORECASE)\n",
    "        self.symbols_re = re.compile(r'[^a-zA-Zа-яА-Я0-9\\s]')\n",
    "        self.spaces_re = re.compile(r'\\s+')\n",
    "\n",
    "    @staticmethod\n",
    "    def _normalize(doc):\n",
    "        return unicodedata.normalize('NFKD', doc).encode('ascii', 'ignore').decode('utf-8', 'ignore')\n",
    "\n",
    "    @staticmethod\n",
    "    def _get_wordnet_pos(treebank_tag):\n",
    "        if treebank_tag.startswith('J'):\n",
    "            return nltk.corpus.wordnet.ADJ\n",
    "        elif treebank_tag.startswith('V'):\n",
    "            return nltk.corpus.wordnet.VERB\n",
    "        elif treebank_tag.startswith('N'):\n",
    "            return nltk.corpus.wordnet.NOUN\n",
    "        elif treebank_tag.startswith('R'):\n",
    "            return nltk.corpus.wordnet.ADV\n",
    "        else:\n",
    "            return nltk.corpus.wordnet.NOUN\n",
    "\n",
    "    def _clean_txt(self, text):\n",
    "        # удаление ссылок\n",
    "        c_t = self.url_re.sub('', text.lower())\n",
    "        # удаление лишних символов\n",
    "        c_t = self.symbols_re.sub(' ', c_t)\n",
    "        c_text = self.spaces_re.sub(' ', c_t).strip()\n",
    "        return c_text\n",
    "\n",
    "    def __call__(self, doc):\n",
    "        clean_doc = self._normalize(self._clean_txt(doc))\n",
    "        tokens = self.tknzr.tokenize(clean_doc)\n",
    "        \n",
    "        # Токенизация, удаление стоп-слов, знаков пунктуации и лемматизация\n",
    "        pos_tags = nltk.pos_tag(tokens)\n",
    "        return [\n",
    "            self.wnl.lemmatize(token, pos=self._get_wordnet_pos(pos_tag))\n",
    "            for token, pos_tag in pos_tags\n",
    "            if token.lower() not in self.stopwords and token not in self.punctuation\n",
    "        ]"
   ]
  },
  {
   "cell_type": "code",
   "execution_count": 13,
   "id": "70e98175-f399-497b-816a-485c731dd1c6",
   "metadata": {},
   "outputs": [
    {
     "name": "stdout",
     "output_type": "stream",
     "text": [
      "INFO: Pandarallel will run on 10 workers.\n",
      "INFO: Pandarallel will use standard multiprocessing data transfer (pipe) to transfer data between the main process and workers.\n"
     ]
    },
    {
     "data": {
      "application/vnd.jupyter.widget-view+json": {
       "model_id": "b5aff2c3664645aa975cf35b8d642614",
       "version_major": 2,
       "version_minor": 0
      },
      "text/plain": [
       "VBox(children=(HBox(children=(IntProgress(value=0, description='0.00%', max=10000), Label(value='0 / 10000')))…"
      ]
     },
     "metadata": {},
     "output_type": "display_data"
    },
    {
     "data": {
      "application/vnd.jupyter.widget-view+json": {
       "model_id": "46b37e3491bd4ebfbbf347c374507bf0",
       "version_major": 2,
       "version_minor": 0
      },
      "text/plain": [
       "  0%|          | 0/100000 [00:00<?, ?it/s]"
      ]
     },
     "metadata": {},
     "output_type": "display_data"
    },
    {
     "name": "stdout",
     "output_type": "stream",
     "text": [
      "CPU times: user 969 ms, sys: 283 ms, total: 1.25 s\n",
      "Wall time: 18.5 s\n"
     ]
    }
   ],
   "source": [
    "%%time\n",
    "pandarallel.initialize(progress_bar=True)\n",
    "\n",
    "s_data['tokens_ws'] = s_data['comment_text'].parallel_apply(PreprocessLemmaTokenizer())\n",
    "s_data['ctws'] = s_data.tokens_ws.progress_apply(lambda x: ' '.join(x))"
   ]
  },
  {
   "cell_type": "code",
   "execution_count": 14,
   "id": "16149188-9feb-4cdd-ad46-f1fadf3eca96",
   "metadata": {},
   "outputs": [
    {
     "data": {
      "text/html": [
       "<div>\n",
       "<style scoped>\n",
       "    .dataframe tbody tr th:only-of-type {\n",
       "        vertical-align: middle;\n",
       "    }\n",
       "\n",
       "    .dataframe tbody tr th {\n",
       "        vertical-align: top;\n",
       "    }\n",
       "\n",
       "    .dataframe thead th {\n",
       "        text-align: right;\n",
       "    }\n",
       "</style>\n",
       "<table border=\"1\" class=\"dataframe\">\n",
       "  <thead>\n",
       "    <tr style=\"text-align: right;\">\n",
       "      <th></th>\n",
       "      <th>toxic</th>\n",
       "      <th>comment_text</th>\n",
       "      <th>text_length</th>\n",
       "      <th>num_words</th>\n",
       "      <th>num_sent</th>\n",
       "      <th>num_punct</th>\n",
       "      <th>tokens_ws</th>\n",
       "      <th>ctws</th>\n",
       "    </tr>\n",
       "  </thead>\n",
       "  <tbody>\n",
       "    <tr>\n",
       "      <th>0</th>\n",
       "      <td>0</td>\n",
       "      <td>Why do I get the feeling this bridge will cost...</td>\n",
       "      <td>374</td>\n",
       "      <td>76</td>\n",
       "      <td>3</td>\n",
       "      <td>11</td>\n",
       "      <td>[get, feeling, bridge, cost, u, far, suppose, ...</td>\n",
       "      <td>get feeling bridge cost u far suppose 1million...</td>\n",
       "    </tr>\n",
       "    <tr>\n",
       "      <th>1</th>\n",
       "      <td>0</td>\n",
       "      <td>Great work!  I hope you take it further.  A mo...</td>\n",
       "      <td>869</td>\n",
       "      <td>178</td>\n",
       "      <td>7</td>\n",
       "      <td>20</td>\n",
       "      <td>[great, work, hope, take, moratorium, breed, y...</td>\n",
       "      <td>great work hope take moratorium breed year wou...</td>\n",
       "    </tr>\n",
       "    <tr>\n",
       "      <th>2</th>\n",
       "      <td>0</td>\n",
       "      <td>I do not agree with the policies on the right ...</td>\n",
       "      <td>192</td>\n",
       "      <td>38</td>\n",
       "      <td>3</td>\n",
       "      <td>3</td>\n",
       "      <td>[agree, policy, right, however, violence, neve...</td>\n",
       "      <td>agree policy right however violence never answ...</td>\n",
       "    </tr>\n",
       "    <tr>\n",
       "      <th>3</th>\n",
       "      <td>0</td>\n",
       "      <td>The Denver Post has not been a reliable news s...</td>\n",
       "      <td>149</td>\n",
       "      <td>25</td>\n",
       "      <td>1</td>\n",
       "      <td>1</td>\n",
       "      <td>[denver, post, reliable, news, source, ever, s...</td>\n",
       "      <td>denver post reliable news source ever since si...</td>\n",
       "    </tr>\n",
       "    <tr>\n",
       "      <th>4</th>\n",
       "      <td>1</td>\n",
       "      <td>\" In the meantime, the party is taking advanta...</td>\n",
       "      <td>279</td>\n",
       "      <td>54</td>\n",
       "      <td>3</td>\n",
       "      <td>10</td>\n",
       "      <td>[meantime, party, take, advantage, exist, rule...</td>\n",
       "      <td>meantime party take advantage exist rule inclu...</td>\n",
       "    </tr>\n",
       "  </tbody>\n",
       "</table>\n",
       "</div>"
      ],
      "text/plain": [
       "   toxic                                       comment_text  text_length  \\\n",
       "0      0  Why do I get the feeling this bridge will cost...          374   \n",
       "1      0  Great work!  I hope you take it further.  A mo...          869   \n",
       "2      0  I do not agree with the policies on the right ...          192   \n",
       "3      0  The Denver Post has not been a reliable news s...          149   \n",
       "4      1  \" In the meantime, the party is taking advanta...          279   \n",
       "\n",
       "   num_words  num_sent  num_punct  \\\n",
       "0         76         3         11   \n",
       "1        178         7         20   \n",
       "2         38         3          3   \n",
       "3         25         1          1   \n",
       "4         54         3         10   \n",
       "\n",
       "                                           tokens_ws  \\\n",
       "0  [get, feeling, bridge, cost, u, far, suppose, ...   \n",
       "1  [great, work, hope, take, moratorium, breed, y...   \n",
       "2  [agree, policy, right, however, violence, neve...   \n",
       "3  [denver, post, reliable, news, source, ever, s...   \n",
       "4  [meantime, party, take, advantage, exist, rule...   \n",
       "\n",
       "                                                ctws  \n",
       "0  get feeling bridge cost u far suppose 1million...  \n",
       "1  great work hope take moratorium breed year wou...  \n",
       "2  agree policy right however violence never answ...  \n",
       "3  denver post reliable news source ever since si...  \n",
       "4  meantime party take advantage exist rule inclu...  "
      ]
     },
     "execution_count": 14,
     "metadata": {},
     "output_type": "execute_result"
    }
   ],
   "source": [
    "s_data.head()"
   ]
  },
  {
   "cell_type": "markdown",
   "id": "d743acc5-8477-4b82-9549-981cd87615dc",
   "metadata": {},
   "source": [
    "## График частоты частей речи"
   ]
  },
  {
   "cell_type": "code",
   "execution_count": 16,
   "id": "dd700396-7b45-47bd-b540-730492356239",
   "metadata": {},
   "outputs": [],
   "source": [
    "pos_tags_dict = {\n",
    "    'NN': 'noun, singular',\n",
    "    'JJ': 'adjective',\n",
    "    'NNS': 'noun, plural',\n",
    "    'RB': 'adverb',\n",
    "    'VBP': 'verb, present tense, not 3rd person singular',\n",
    "    'VBG': 'present participle or gerund',\n",
    "    'VBD': 'verb, past tense',\n",
    "    'VB': 'infinitive',\n",
    "    'CD': 'numeral',\n",
    "    'VBN': 'past participle',\n",
    "    'IN': 'preposition or subordinating conjunction',\n",
    "    'VBZ': 'verb, present tense, 3rd person singular',\n",
    "    'MD': 'modal verb',\n",
    "    'JJR': 'adjective, comparative',\n",
    "    'NNP': 'proper noun, singular',\n",
    "    'PRP': 'personal pronoun',\n",
    "    'JJS': 'adjective, superlative',\n",
    "    'DT': 'determiner (article, demonstrative pronoun)',\n",
    "    'RBR': 'adverb, comparative',\n",
    "    'FW': 'foreign word',\n",
    "    'CC': 'coordinating conjunction',\n",
    "    'RP': 'particle',\n",
    "    'WDT': 'wh-determiner',\n",
    "    'UH': 'interjection',\n",
    "    'WP$': 'wh-possessive pronoun',\n",
    "    'RBS': 'adverb, superlative',\n",
    "    '$': 'dollar sign',\n",
    "    'WRB': 'wh-adverb',\n",
    "    'NNPS': 'proper noun, plural',\n",
    "    'WP': 'wh-pronoun',\n",
    "    'PRP$': 'possessive pronoun',\n",
    "    'POS': 'possessive ending',\n",
    "    'EX': 'existential \"there\"',\n",
    "    'SYM': 'symbol',\n",
    "    'TO': 'preposition \"to\"',\n",
    "    \"''\": 'closing quotation mark',\n",
    "    '``': 'opening quotation mark',\n",
    "    'PDT': 'predeterminer',\n",
    "    'LS': 'list item marker'\n",
    "}"
   ]
  },
  {
   "cell_type": "code",
   "execution_count": 21,
   "id": "fec58223-2aa6-436d-bbe3-3d4fbe9fc788",
   "metadata": {},
   "outputs": [
    {
     "name": "stdout",
     "output_type": "stream",
     "text": [
      "CPU times: user 2.56 s, sys: 349 ms, total: 2.91 s\n",
      "Wall time: 12.3 s\n"
     ]
    }
   ],
   "source": [
    "%%time\n",
    "def process_tokens(tokens):\n",
    "    pos_tags = nltk.pos_tag(tokens, lang='eng')\n",
    "    pos = [tag for _, tag in pos_tags]\n",
    "    return pos\n",
    "\n",
    "# обработка данных с toxicity_b == 0\n",
    "all_pos_o = Parallel(n_jobs=-1)(delayed(process_tokens)(tokens) for tokens in s_data[s_data.toxic == 0]['tokens_ws'])\n",
    "all_pos_o = [tag for pos_list in all_pos_o for tag in pos_list]  # Объединение всех списков\n",
    "pos_cnt_o = Counter(all_pos_o)\n",
    "translated_counter_o = Counter({pos_tags_dict.get(tag, tag): count for tag, count in pos_cnt_o.items()})\n",
    "\n",
    "# обработка данных с toxicity_b == 1\n",
    "all_pos_t = Parallel(n_jobs=-1)(delayed(process_tokens)(tokens) for tokens in s_data[s_data.toxic == 1]['tokens_ws'])\n",
    "all_pos_t = [tag for pos_list in all_pos_t for tag in pos_list]  # Объединение всех списков\n",
    "pos_cnt_t = Counter(all_pos_t)\n",
    "translated_counter_t = Counter({pos_tags_dict.get(tag, tag): count for tag, count in pos_cnt_t.items()})"
   ]
  },
  {
   "cell_type": "code",
   "execution_count": 22,
   "id": "5052b228-add6-4912-9919-91eb2059d3f0",
   "metadata": {},
   "outputs": [
    {
     "name": "stdout",
     "output_type": "stream",
     "text": [
      "CPU times: user 25 μs, sys: 2 μs, total: 27 μs\n",
      "Wall time: 27.9 μs\n"
     ]
    }
   ],
   "source": [
    "%%time\n",
    "most_common_pos_o = translated_counter_o.most_common(20)\n",
    "most_common_pos_t = translated_counter_t.most_common(20)"
   ]
  },
  {
   "cell_type": "code",
   "execution_count": null,
   "id": "ad9dc3b9-6cc8-45a4-982e-4a7e84f8ece2",
   "metadata": {},
   "outputs": [],
   "source": [
    "sns.set_style(\"darkgrid\")\n",
    "fig, axes = plt.subplots(1,2, figsize = (20, 8))\n",
    "\n",
    "sns.barplot(\n",
    "    y=[pos for pos, _ in most_common_pos_o],\n",
    "    x=[count for _, count in most_common_pos_o]\n",
    ",ax = axes[0], color = 'powderblue')\n",
    "\n",
    "sns.barplot(\n",
    "    y=[pos for pos, _ in most_common_pos_t],\n",
    "    x=[count for _, count in most_common_pos_t]\n",
    ",ax = axes[1], color = 'crimson')\n",
    "\n",
    "axes[0].set_title('Frequency of parts of speech (excluding stop words) for ordinary comments',\n",
    "                 fontsize = 14)\n",
    "axes[1].set_title('Frequency of parts of speech (excluding stop words) for toxic comments',\n",
    "                 fontsize = 14)\n",
    "axes[0].set_ylabel('Part of speech', fontsize = 12)\n",
    "axes[1].set_ylabel('Part of speech', fontsize = 12)\n",
    "\n",
    "axes[0].set_xlabel('Number', fontsize = 14)\n",
    "axes[1].set_xlabel('Number', fontsize = 14)\n",
    "\n",
    "axes[0].grid(True)\n",
    "axes[1].grid(True)\n",
    "plt.tight_layout()\n",
    "plt.show()"
   ]
  },
  {
   "cell_type": "markdown",
   "id": "d3070dad-ac86-4861-8a7f-9253ed4db717",
   "metadata": {},
   "source": [
    "## Интерактивные графики частоты слов"
   ]
  },
  {
   "cell_type": "code",
   "execution_count": 25,
   "id": "379edf63-43e2-468f-adc3-b21c9e2fe831",
   "metadata": {},
   "outputs": [
    {
     "name": "stdout",
     "output_type": "stream",
     "text": [
      "CPU times: user 4.24 s, sys: 291 ms, total: 4.53 s\n",
      "Wall time: 4.54 s\n"
     ]
    }
   ],
   "source": [
    "%%time\n",
    "from itertools import chain, islice\n",
    "\n",
    "def extract_features(tokens_series, ngram_sizes=(2, 3)):\n",
    "    # Объявляем уникальные слова и n-граммы\n",
    "    unique_words = set(chain.from_iterable(tokens_series))\n",
    "    unique_ngrams = {n: set() for n in ngram_sizes}\n",
    "\n",
    "    # Функция для извлечения n-грамм из одного набора токенов\n",
    "    def extract_ngrams(tokens, n):\n",
    "        return {' '.join(gram) for gram in nltk.ngrams(tokens, n)}\n",
    "\n",
    "    # Параллельная обработка каждого размера n-граммы для каждого набора токенов\n",
    "    for n in ngram_sizes:\n",
    "        ngrams_for_size = Parallel(n_jobs=-1)(delayed(extract_ngrams)(tokens, n) for tokens in tokens_series if len(tokens) >= n)\n",
    "        # Объединяем все уникальные n-граммы для текущего размера n\n",
    "        unique_ngrams[n].update(set(chain.from_iterable(ngrams_for_size)))\n",
    "\n",
    "    return unique_words, unique_ngrams\n",
    "\n",
    "# non-toxic\n",
    "tokens_non_toxic = s_data.loc[s_data.toxic == 0, 'tokens_ws']\n",
    "uawo, ngrams_non_toxic = extract_features(tokens_non_toxic)\n",
    "bos = list(ngrams_non_toxic[2])\n",
    "tos = list(ngrams_non_toxic[3])\n",
    "\n",
    "# toxic\n",
    "tokens_toxic = s_data.loc[s_data.toxic == 1, 'tokens_ws']\n",
    "uawt, ngrams_toxic = extract_features(tokens_toxic)\n",
    "bts = list(ngrams_toxic[2])\n",
    "tts = list(ngrams_toxic[3])\n",
    "\n",
    "uawo = list(uawo)\n",
    "uawt = list(uawt)"
   ]
  },
  {
   "cell_type": "code",
   "execution_count": 26,
   "id": "916d0371-9714-4751-9762-8b2aa5bb5d7d",
   "metadata": {},
   "outputs": [],
   "source": [
    "def get_tfd(unique_tokens, cleaned_com_t, gram):\n",
    "    # Определяем параметр ngram_range для CountVectorizer\n",
    "    if gram >= 2:\n",
    "        vectorizer = CountVectorizer(vocabulary=unique_tokens, ngram_range=(gram, gram))\n",
    "    else:\n",
    "        vectorizer = CountVectorizer(vocabulary=unique_tokens)\n",
    "    \n",
    "    # Функция для обработки части данных\n",
    "    def process_chunk(chunk):\n",
    "        X_chunk = vectorizer.fit_transform(chunk)\n",
    "        return np.asarray(X_chunk.sum(axis=0))[0]\n",
    "    \n",
    "    # Распараллеливаем обработку частей\n",
    "    n_jobs = -1  # Используем все доступные ядра\n",
    "    chunk_size = len(cleaned_com_t) // abs(n_jobs)  # Размер части данных для каждого ядра\n",
    "    results = Parallel(n_jobs=n_jobs)(\n",
    "        delayed(process_chunk)(cleaned_com_t[i:i + chunk_size]) \n",
    "        for i in range(0, len(cleaned_com_t), chunk_size)\n",
    "    )\n",
    "    \n",
    "    # Объединяем результаты\n",
    "    total_counts = np.sum(results, axis=0)\n",
    "    return dict(zip(vectorizer.get_feature_names_out(), total_counts))"
   ]
  },
  {
   "cell_type": "code",
   "execution_count": 27,
   "id": "27e09553-19a3-4a8f-8fc0-7b69db0e5a57",
   "metadata": {},
   "outputs": [
    {
     "name": "stdout",
     "output_type": "stream",
     "text": [
      "CPU times: user 3.85 s, sys: 249 ms, total: 4.1 s\n",
      "Wall time: 13.6 s\n"
     ]
    }
   ],
   "source": [
    "%%time\n",
    "token_frequency_dict1 = get_tfd(uawo, s_data[s_data.toxic == 0]['ctws'], 1)\n",
    "token_frequency_dict12 = get_tfd(uawt, s_data[s_data.toxic == 1]['ctws'], 1)\n",
    "token_frequency_dict2 = get_tfd(bos, s_data[s_data.toxic == 0]['ctws'], 2)\n",
    "token_frequency_dict22 = get_tfd(bts, s_data[s_data.toxic == 1]['ctws'], 2)\n",
    "token_frequency_dict3 = get_tfd(tos, s_data[s_data.toxic == 0]['ctws'], 3)\n",
    "token_frequency_dict32 = get_tfd(tts, s_data[s_data.toxic == 1]['ctws'], 3)"
   ]
  },
  {
   "cell_type": "code",
   "execution_count": 28,
   "id": "292cb62c-019f-480c-b96e-71c885958569",
   "metadata": {},
   "outputs": [],
   "source": [
    "data = {\n",
    "    \"Unigram\": {\n",
    "        \"ordinary\": token_frequency_dict1,\n",
    "        \"toxic\": token_frequency_dict12\n",
    "    },\n",
    "    \"Bigram\": {\n",
    "        \"ordinary\": token_frequency_dict2,\n",
    "        \"toxic\": token_frequency_dict22\n",
    "    },\n",
    "    \"Trigram\": {\n",
    "        \"ordinary\": token_frequency_dict3,\n",
    "        \"toxic\": token_frequency_dict32\n",
    "    }\n",
    "}"
   ]
  },
  {
   "cell_type": "code",
   "execution_count": null,
   "id": "908a1292-e05b-404e-ac2b-017923dc0ffa",
   "metadata": {},
   "outputs": [],
   "source": [
    "%%time\n",
    "import plotly.graph_objects as go\n",
    "from plotly.subplots import make_subplots\n",
    "from wordcloud import WordCloud\n",
    "import base64\n",
    "import io\n",
    "import pandas as pd\n",
    "\n",
    "def generate_wordcloud_base64(frequency_dict):\n",
    "    wordcloud = WordCloud(width=600, height=400, background_color='white').generate_from_frequencies(frequency_dict)\n",
    "    buffer = io.BytesIO()\n",
    "    wordcloud.to_image().save(buffer, format=\"PNG\")\n",
    "    buffer.seek(0)\n",
    "    return f\"data:image/png;base64,{base64.b64encode(buffer.read()).decode()}\"\n",
    "\n",
    "# Создание интерактивного графика\n",
    "fig = make_subplots(\n",
    "    rows=2, cols=2,\n",
    "    column_widths=[0.5, 0.5],\n",
    "    row_heights=[0.5, 0.5],\n",
    "    specs=[[{\"type\": \"bar\"}, {\"type\": \"bar\"}], [{\"type\": \"image\"}, {\"type\": \"image\"}]],\n",
    "    subplot_titles=(\"Ordinary Barplot\", \"Toxic Barplot\", \"\", \"\")\n",
    ")\n",
    "\n",
    "# Списки для управления видимостью\n",
    "image_configs = []  # Конфигурация для каждого облака слов\n",
    "\n",
    "for i, (ngram_type, frequencies) in enumerate(data.items()):\n",
    "    # Преобразование данных в DataFrame\n",
    "    ordinary_df = pd.DataFrame(list(frequencies[\"ordinary\"].items()), columns=[\"word\", \"count\"]).sort_values(by=\"count\", ascending=False).head(30)\n",
    "    toxic_df = pd.DataFrame(list(frequencies[\"toxic\"].items()), columns=[\"word\", \"count\"]).sort_values(by=\"count\", ascending=False).head(30)\n",
    "    \n",
    "    # Barplots\n",
    "    fig.add_trace(\n",
    "        go.Bar(\n",
    "            x=ordinary_df[\"count\"],\n",
    "            y=ordinary_df[\"word\"],\n",
    "            orientation='h',\n",
    "            marker=dict(color='powderblue'),\n",
    "            name=f\"{ngram_type} Ordinary\",\n",
    "            visible=(i == 0)\n",
    "        ),\n",
    "        row=1, col=1\n",
    "    )\n",
    "    \n",
    "    fig.add_trace(\n",
    "        go.Bar(\n",
    "            x=toxic_df[\"count\"],\n",
    "            y=toxic_df[\"word\"],\n",
    "            orientation='h',\n",
    "            marker=dict(color='crimson'),\n",
    "            name=f\"{ngram_type} Toxic\",\n",
    "            visible=(i == 0)\n",
    "        ),\n",
    "        row=1, col=2\n",
    "    )\n",
    "    \n",
    "    # Word Clouds\n",
    "    ordinary_wordcloud = generate_wordcloud_base64(frequencies[\"ordinary\"])\n",
    "    toxic_wordcloud = generate_wordcloud_base64(frequencies[\"toxic\"])\n",
    "    \n",
    "    image_configs.append(\n",
    "        [\n",
    "            dict(\n",
    "                source=ordinary_wordcloud,\n",
    "                xref=\"paper\", yref=\"paper\",\n",
    "                x=-0.03, y=0.1,  # Левый нижний угол для Ordinary Word Cloud\n",
    "                sizex=0.55, sizey=0.4,\n",
    "                xanchor=\"left\", yanchor=\"bottom\",\n",
    "                layer=\"above\"\n",
    "            ),\n",
    "            dict(\n",
    "                source=toxic_wordcloud,\n",
    "                xref=\"paper\", yref=\"paper\",\n",
    "                x=0.51, y=0.1,  # Правый нижний угол для Toxic Word Cloud\n",
    "                sizex=0.55, sizey=0.4,\n",
    "                xanchor=\"left\", yanchor=\"bottom\",\n",
    "                layer=\"above\"\n",
    "            )\n",
    "        ]\n",
    "    )\n",
    "\n",
    "# Изначально добавляем изображения для первого n-грамма\n",
    "fig.update_layout(images=image_configs[0])\n",
    "\n",
    "# Кнопки переключения\n",
    "buttons = []\n",
    "for i, ngram_type in enumerate(data.keys()):\n",
    "    visibility = [False] * len(fig.data)\n",
    "    visibility[i * 2] = True       # Bar \"ordinary\"\n",
    "    visibility[i * 2 + 1] = True   # Bar \"toxic\"\n",
    "    \n",
    "    buttons.append(\n",
    "        dict(\n",
    "            label=ngram_type,\n",
    "            method=\"update\",\n",
    "            args=[\n",
    "                {\"visible\": visibility},  # Управляем видимостью barplot\n",
    "                {\"images\": image_configs[i]}  # Обновляем layout.images\n",
    "            ]\n",
    "        )\n",
    "    )\n",
    "\n",
    "# Добавление выпадающего меню\n",
    "fig.update_layout(\n",
    "    updatemenus=[\n",
    "        dict(\n",
    "            buttons=buttons,\n",
    "            direction=\"down\",\n",
    "            showactive=True,\n",
    "            x=0.5,\n",
    "            y=1.09,\n",
    "            xanchor=\"center\",\n",
    "            yanchor=\"top\"\n",
    "        )\n",
    "    ]\n",
    ")\n",
    "\n",
    "# Настройка макета\n",
    "fig.update_layout(\n",
    "    plot_bgcolor=\"white\",  # Белый фон для области графиков\n",
    "    paper_bgcolor=\"white\",  # Белый фон для всего layout\n",
    "    #xaxis=dict(showgrid=True, gridcolor=\"lightgray\"),  # Сетка с серым цветом\n",
    "    #yaxis=dict(showgrid=True, gridcolor=\"lightgray\"),\n",
    "    height=1000,\n",
    "    width=1200,\n",
    "    title=\"Bar Plots and Word Clouds for N-grams\",\n",
    "    showlegend=False\n",
    ")\n",
    "\n",
    "# Показ графика\n",
    "fig.show()"
   ]
  },
  {
   "cell_type": "markdown",
   "id": "870b2654-bb16-4750-a6d1-c9baec22d456",
   "metadata": {},
   "source": [
    "Графики barplot для триграмм немного накладываются друг на друга, но думаю это можно подправить уже на этапе Streamlit"
   ]
  },
  {
   "cell_type": "markdown",
   "id": "0867553a-5d3a-4e2a-bbe6-c978585a908f",
   "metadata": {},
   "source": [
    "# ML"
   ]
  },
  {
   "cell_type": "code",
   "execution_count": 32,
   "id": "8d50c6cc-80c6-4fa1-b854-e95a11c54bf9",
   "metadata": {},
   "outputs": [],
   "source": [
    "df = s_data[['toxic', 'ctws']]"
   ]
  },
  {
   "cell_type": "code",
   "execution_count": 33,
   "id": "783f8dfd-6ba1-43a7-92fb-e7e3fde848f1",
   "metadata": {},
   "outputs": [],
   "source": [
    "from sklearn.model_selection import train_test_split"
   ]
  },
  {
   "cell_type": "code",
   "execution_count": 34,
   "id": "4accf55d-185f-4114-b942-d02e9b248d10",
   "metadata": {},
   "outputs": [],
   "source": [
    "X = s_data['ctws']\n",
    "y = s_data['toxic']\n",
    "X_train, X_test, y_train, y_test = train_test_split(X, y, test_size=0.2, random_state=42,stratify=y)"
   ]
  },
  {
   "cell_type": "code",
   "execution_count": 35,
   "id": "11a9f4b3-c7b9-498a-b65c-cd3c1a25b6b6",
   "metadata": {},
   "outputs": [],
   "source": [
    "from sklearn.preprocessing import MaxAbsScaler  \n",
    "from sklearn.metrics import classification_report"
   ]
  },
  {
   "cell_type": "code",
   "execution_count": 36,
   "id": "9690d61e-3d91-45e2-af81-fb2ea2ce5aed",
   "metadata": {},
   "outputs": [
    {
     "name": "stdout",
     "output_type": "stream",
     "text": [
      "              precision    recall  f1-score   support\n",
      "\n",
      "           0       0.96      0.93      0.94     17765\n",
      "           1       0.55      0.70      0.62      2235\n",
      "\n",
      "    accuracy                           0.90     20000\n",
      "   macro avg       0.76      0.81      0.78     20000\n",
      "weighted avg       0.92      0.90      0.91     20000\n",
      "\n",
      "CPU times: user 3.93 s, sys: 813 ms, total: 4.75 s\n",
      "Wall time: 2.57 s\n"
     ]
    }
   ],
   "source": [
    "%%time\n",
    "\n",
    "vec = CountVectorizer()\n",
    "vec.fit(X_train)\n",
    "bow_train = vec.transform(X_train)\n",
    "bow_test = vec.transform(X_test)\n",
    "\n",
    "scaler = MaxAbsScaler()\n",
    "bow_train = scaler.fit_transform(bow_train)\n",
    "bow_test = scaler.transform(bow_test)\n",
    "\n",
    "model = LogisticRegression(max_iter=1000, random_state=42, class_weight='balanced')\n",
    "\n",
    "model.fit(bow_train, y_train)\n",
    "preds = model.predict(bow_test)\n",
    "\n",
    "print(classification_report(y_test, preds))"
   ]
  },
  {
   "cell_type": "code",
   "execution_count": 37,
   "id": "4f6c9e4b-d1de-435a-859d-8b03fcc3198f",
   "metadata": {},
   "outputs": [
    {
     "name": "stdout",
     "output_type": "stream",
     "text": [
      "              precision    recall  f1-score   support\n",
      "\n",
      "           0       0.96      0.93      0.94     17765\n",
      "           1       0.55      0.70      0.62      2235\n",
      "\n",
      "    accuracy                           0.90     20000\n",
      "   macro avg       0.76      0.81      0.78     20000\n",
      "weighted avg       0.92      0.90      0.91     20000\n",
      "\n",
      "CPU times: user 2.99 s, sys: 922 ms, total: 3.91 s\n",
      "Wall time: 1.73 s\n"
     ]
    }
   ],
   "source": [
    "%%time\n",
    "model1 = Pipeline([\n",
    "    ('vectorizer', CountVectorizer()), \n",
    "    ('scaler', MaxAbsScaler()),                          \n",
    "    ('classifier', LogisticRegression(C=1, max_iter=1000, class_weight='balanced', random_state=42))\n",
    "])\n",
    "\n",
    "model1.fit(X_train, y_train)\n",
    "\n",
    "preds = model1.predict(X_test)\n",
    "print(classification_report(y_test, preds))"
   ]
  },
  {
   "cell_type": "code",
   "execution_count": 38,
   "id": "6dc0158b-7334-4f18-b872-76ec29b8f9ed",
   "metadata": {},
   "outputs": [
    {
     "name": "stdout",
     "output_type": "stream",
     "text": [
      "              precision    recall  f1-score   support\n",
      "\n",
      "           0       0.95      0.93      0.94     17765\n",
      "           1       0.53      0.65      0.58      2235\n",
      "\n",
      "    accuracy                           0.90     20000\n",
      "   macro avg       0.74      0.79      0.76     20000\n",
      "weighted avg       0.91      0.90      0.90     20000\n",
      "\n",
      "CPU times: user 36.1 s, sys: 2.86 s, total: 39 s\n",
      "Wall time: 5.11 s\n"
     ]
    }
   ],
   "source": [
    "%%time\n",
    "\n",
    "model2 = Pipeline([\n",
    "    ('vectorizer', CountVectorizer()),                 \n",
    "    ('scaler', MaxAbsScaler()),                       \n",
    "    ('classifier', LinearSVC(random_state=42, class_weight='balanced'))  \n",
    "])\n",
    "\n",
    "model2.fit(X_train, y_train)\n",
    "\n",
    "preds = model2.predict(X_test)\n",
    "print(classification_report(y_test, preds))"
   ]
  },
  {
   "cell_type": "code",
   "execution_count": 65,
   "id": "20f0f78d-2b0e-4035-a9b2-694a53de525b",
   "metadata": {},
   "outputs": [
    {
     "data": {
      "application/vnd.plotly.v1+json": {
       "config": {
        "plotlyServerURL": "https://plot.ly"
       },
       "data": [
        {
         "hovertemplate": "Model=Logistic Regression<br>Type=Train<br>Training Samples=%{x}<br>Accuracy=%{y}<extra></extra>",
         "legendgroup": "Logistic Regression, Train",
         "line": {
          "color": "#636efa",
          "dash": "solid"
         },
         "marker": {
          "symbol": "circle"
         },
         "mode": "lines",
         "name": "Logistic Regression, Train",
         "orientation": "v",
         "showlegend": true,
         "type": "scatter",
         "visible": true,
         "x": [
          6400,
          12800,
          19200,
          25600,
          32000,
          38400,
          44800,
          51200,
          57600,
          64000
         ],
         "xaxis": "x",
         "y": [
          0.99296875,
          0.984703125,
          0.9767708333333334,
          0.9727187500000001,
          0.9676937499999999,
          0.9632968749999999,
          0.95934375,
          0.9557265625,
          0.9558194444444446,
          0.9524625
         ],
         "yaxis": "y"
        },
        {
         "hovertemplate": "Model=Logistic Regression<br>Type=Validation<br>Training Samples=%{x}<br>Accuracy=%{y}<extra></extra>",
         "legendgroup": "Logistic Regression, Validation",
         "line": {
          "color": "#636efa",
          "dash": "dot"
         },
         "marker": {
          "symbol": "circle"
         },
         "mode": "lines",
         "name": "Logistic Regression, Validation",
         "orientation": "v",
         "showlegend": true,
         "type": "scatter",
         "visible": true,
         "x": [
          6400,
          12800,
          19200,
          25600,
          32000,
          38400,
          44800,
          51200,
          57600,
          64000
         ],
         "xaxis": "x",
         "y": [
          0.8917624999999999,
          0.894275,
          0.8931625000000001,
          0.8936125,
          0.8943875,
          0.894825,
          0.8958625,
          0.895425,
          0.8965125,
          0.8960625
         ],
         "yaxis": "y"
        },
        {
         "hovertemplate": "Model=Linear SVC<br>Type=Train<br>Training Samples=%{x}<br>Accuracy=%{y}<extra></extra>",
         "legendgroup": "Linear SVC, Train",
         "line": {
          "color": "#EF553B",
          "dash": "solid"
         },
         "marker": {
          "symbol": "circle"
         },
         "mode": "lines",
         "name": "Linear SVC, Train",
         "orientation": "v",
         "showlegend": true,
         "type": "scatter",
         "visible": true,
         "x": [
          6400,
          12800,
          19200,
          25600,
          32000,
          38400,
          44800,
          51200,
          57600,
          64000
         ],
         "xaxis": "x",
         "y": [
          0.9991875,
          0.9979687500000001,
          0.99565625,
          0.9934609375000001,
          0.9903562499999999,
          0.9878958333333333,
          0.9850133928571427,
          0.9829062499999999,
          0.9811597222222221,
          0.978784375
         ],
         "yaxis": "y"
        },
        {
         "hovertemplate": "Model=Linear SVC<br>Type=Validation<br>Training Samples=%{x}<br>Accuracy=%{y}<extra></extra>",
         "legendgroup": "Linear SVC, Validation",
         "line": {
          "color": "#EF553B",
          "dash": "dot"
         },
         "marker": {
          "symbol": "circle"
         },
         "mode": "lines",
         "name": "Linear SVC, Validation",
         "orientation": "v",
         "showlegend": true,
         "type": "scatter",
         "visible": true,
         "x": [
          6400,
          12800,
          19200,
          25600,
          32000,
          38400,
          44800,
          51200,
          57600,
          64000
         ],
         "xaxis": "x",
         "y": [
          0.8850250000000001,
          0.8860750000000002,
          0.887325,
          0.8886749999999999,
          0.8886625,
          0.88835,
          0.889025,
          0.8888,
          0.8894375,
          0.8895250000000001
         ],
         "yaxis": "y"
        }
       ],
       "layout": {
        "autosize": true,
        "legend": {
         "title": {
          "text": "Model, Type"
         },
         "tracegroupgap": 0
        },
        "template": {
         "data": {
          "bar": [
           {
            "error_x": {
             "color": "#2a3f5f"
            },
            "error_y": {
             "color": "#2a3f5f"
            },
            "marker": {
             "line": {
              "color": "white",
              "width": 0.5
             },
             "pattern": {
              "fillmode": "overlay",
              "size": 10,
              "solidity": 0.2
             }
            },
            "type": "bar"
           }
          ],
          "barpolar": [
           {
            "marker": {
             "line": {
              "color": "white",
              "width": 0.5
             },
             "pattern": {
              "fillmode": "overlay",
              "size": 10,
              "solidity": 0.2
             }
            },
            "type": "barpolar"
           }
          ],
          "carpet": [
           {
            "aaxis": {
             "endlinecolor": "#2a3f5f",
             "gridcolor": "#C8D4E3",
             "linecolor": "#C8D4E3",
             "minorgridcolor": "#C8D4E3",
             "startlinecolor": "#2a3f5f"
            },
            "baxis": {
             "endlinecolor": "#2a3f5f",
             "gridcolor": "#C8D4E3",
             "linecolor": "#C8D4E3",
             "minorgridcolor": "#C8D4E3",
             "startlinecolor": "#2a3f5f"
            },
            "type": "carpet"
           }
          ],
          "choropleth": [
           {
            "colorbar": {
             "outlinewidth": 0,
             "ticks": ""
            },
            "type": "choropleth"
           }
          ],
          "contour": [
           {
            "colorbar": {
             "outlinewidth": 0,
             "ticks": ""
            },
            "colorscale": [
             [
              0,
              "#0d0887"
             ],
             [
              0.1111111111111111,
              "#46039f"
             ],
             [
              0.2222222222222222,
              "#7201a8"
             ],
             [
              0.3333333333333333,
              "#9c179e"
             ],
             [
              0.4444444444444444,
              "#bd3786"
             ],
             [
              0.5555555555555556,
              "#d8576b"
             ],
             [
              0.6666666666666666,
              "#ed7953"
             ],
             [
              0.7777777777777778,
              "#fb9f3a"
             ],
             [
              0.8888888888888888,
              "#fdca26"
             ],
             [
              1,
              "#f0f921"
             ]
            ],
            "type": "contour"
           }
          ],
          "contourcarpet": [
           {
            "colorbar": {
             "outlinewidth": 0,
             "ticks": ""
            },
            "type": "contourcarpet"
           }
          ],
          "heatmap": [
           {
            "colorbar": {
             "outlinewidth": 0,
             "ticks": ""
            },
            "colorscale": [
             [
              0,
              "#0d0887"
             ],
             [
              0.1111111111111111,
              "#46039f"
             ],
             [
              0.2222222222222222,
              "#7201a8"
             ],
             [
              0.3333333333333333,
              "#9c179e"
             ],
             [
              0.4444444444444444,
              "#bd3786"
             ],
             [
              0.5555555555555556,
              "#d8576b"
             ],
             [
              0.6666666666666666,
              "#ed7953"
             ],
             [
              0.7777777777777778,
              "#fb9f3a"
             ],
             [
              0.8888888888888888,
              "#fdca26"
             ],
             [
              1,
              "#f0f921"
             ]
            ],
            "type": "heatmap"
           }
          ],
          "heatmapgl": [
           {
            "colorbar": {
             "outlinewidth": 0,
             "ticks": ""
            },
            "colorscale": [
             [
              0,
              "#0d0887"
             ],
             [
              0.1111111111111111,
              "#46039f"
             ],
             [
              0.2222222222222222,
              "#7201a8"
             ],
             [
              0.3333333333333333,
              "#9c179e"
             ],
             [
              0.4444444444444444,
              "#bd3786"
             ],
             [
              0.5555555555555556,
              "#d8576b"
             ],
             [
              0.6666666666666666,
              "#ed7953"
             ],
             [
              0.7777777777777778,
              "#fb9f3a"
             ],
             [
              0.8888888888888888,
              "#fdca26"
             ],
             [
              1,
              "#f0f921"
             ]
            ],
            "type": "heatmapgl"
           }
          ],
          "histogram": [
           {
            "marker": {
             "pattern": {
              "fillmode": "overlay",
              "size": 10,
              "solidity": 0.2
             }
            },
            "type": "histogram"
           }
          ],
          "histogram2d": [
           {
            "colorbar": {
             "outlinewidth": 0,
             "ticks": ""
            },
            "colorscale": [
             [
              0,
              "#0d0887"
             ],
             [
              0.1111111111111111,
              "#46039f"
             ],
             [
              0.2222222222222222,
              "#7201a8"
             ],
             [
              0.3333333333333333,
              "#9c179e"
             ],
             [
              0.4444444444444444,
              "#bd3786"
             ],
             [
              0.5555555555555556,
              "#d8576b"
             ],
             [
              0.6666666666666666,
              "#ed7953"
             ],
             [
              0.7777777777777778,
              "#fb9f3a"
             ],
             [
              0.8888888888888888,
              "#fdca26"
             ],
             [
              1,
              "#f0f921"
             ]
            ],
            "type": "histogram2d"
           }
          ],
          "histogram2dcontour": [
           {
            "colorbar": {
             "outlinewidth": 0,
             "ticks": ""
            },
            "colorscale": [
             [
              0,
              "#0d0887"
             ],
             [
              0.1111111111111111,
              "#46039f"
             ],
             [
              0.2222222222222222,
              "#7201a8"
             ],
             [
              0.3333333333333333,
              "#9c179e"
             ],
             [
              0.4444444444444444,
              "#bd3786"
             ],
             [
              0.5555555555555556,
              "#d8576b"
             ],
             [
              0.6666666666666666,
              "#ed7953"
             ],
             [
              0.7777777777777778,
              "#fb9f3a"
             ],
             [
              0.8888888888888888,
              "#fdca26"
             ],
             [
              1,
              "#f0f921"
             ]
            ],
            "type": "histogram2dcontour"
           }
          ],
          "mesh3d": [
           {
            "colorbar": {
             "outlinewidth": 0,
             "ticks": ""
            },
            "type": "mesh3d"
           }
          ],
          "parcoords": [
           {
            "line": {
             "colorbar": {
              "outlinewidth": 0,
              "ticks": ""
             }
            },
            "type": "parcoords"
           }
          ],
          "pie": [
           {
            "automargin": true,
            "type": "pie"
           }
          ],
          "scatter": [
           {
            "fillpattern": {
             "fillmode": "overlay",
             "size": 10,
             "solidity": 0.2
            },
            "type": "scatter"
           }
          ],
          "scatter3d": [
           {
            "line": {
             "colorbar": {
              "outlinewidth": 0,
              "ticks": ""
             }
            },
            "marker": {
             "colorbar": {
              "outlinewidth": 0,
              "ticks": ""
             }
            },
            "type": "scatter3d"
           }
          ],
          "scattercarpet": [
           {
            "marker": {
             "colorbar": {
              "outlinewidth": 0,
              "ticks": ""
             }
            },
            "type": "scattercarpet"
           }
          ],
          "scattergeo": [
           {
            "marker": {
             "colorbar": {
              "outlinewidth": 0,
              "ticks": ""
             }
            },
            "type": "scattergeo"
           }
          ],
          "scattergl": [
           {
            "marker": {
             "colorbar": {
              "outlinewidth": 0,
              "ticks": ""
             }
            },
            "type": "scattergl"
           }
          ],
          "scattermapbox": [
           {
            "marker": {
             "colorbar": {
              "outlinewidth": 0,
              "ticks": ""
             }
            },
            "type": "scattermapbox"
           }
          ],
          "scatterpolar": [
           {
            "marker": {
             "colorbar": {
              "outlinewidth": 0,
              "ticks": ""
             }
            },
            "type": "scatterpolar"
           }
          ],
          "scatterpolargl": [
           {
            "marker": {
             "colorbar": {
              "outlinewidth": 0,
              "ticks": ""
             }
            },
            "type": "scatterpolargl"
           }
          ],
          "scatterternary": [
           {
            "marker": {
             "colorbar": {
              "outlinewidth": 0,
              "ticks": ""
             }
            },
            "type": "scatterternary"
           }
          ],
          "surface": [
           {
            "colorbar": {
             "outlinewidth": 0,
             "ticks": ""
            },
            "colorscale": [
             [
              0,
              "#0d0887"
             ],
             [
              0.1111111111111111,
              "#46039f"
             ],
             [
              0.2222222222222222,
              "#7201a8"
             ],
             [
              0.3333333333333333,
              "#9c179e"
             ],
             [
              0.4444444444444444,
              "#bd3786"
             ],
             [
              0.5555555555555556,
              "#d8576b"
             ],
             [
              0.6666666666666666,
              "#ed7953"
             ],
             [
              0.7777777777777778,
              "#fb9f3a"
             ],
             [
              0.8888888888888888,
              "#fdca26"
             ],
             [
              1,
              "#f0f921"
             ]
            ],
            "type": "surface"
           }
          ],
          "table": [
           {
            "cells": {
             "fill": {
              "color": "#EBF0F8"
             },
             "line": {
              "color": "white"
             }
            },
            "header": {
             "fill": {
              "color": "#C8D4E3"
             },
             "line": {
              "color": "white"
             }
            },
            "type": "table"
           }
          ]
         },
         "layout": {
          "annotationdefaults": {
           "arrowcolor": "#2a3f5f",
           "arrowhead": 0,
           "arrowwidth": 1
          },
          "autotypenumbers": "strict",
          "coloraxis": {
           "colorbar": {
            "outlinewidth": 0,
            "ticks": ""
           }
          },
          "colorscale": {
           "diverging": [
            [
             0,
             "#8e0152"
            ],
            [
             0.1,
             "#c51b7d"
            ],
            [
             0.2,
             "#de77ae"
            ],
            [
             0.3,
             "#f1b6da"
            ],
            [
             0.4,
             "#fde0ef"
            ],
            [
             0.5,
             "#f7f7f7"
            ],
            [
             0.6,
             "#e6f5d0"
            ],
            [
             0.7,
             "#b8e186"
            ],
            [
             0.8,
             "#7fbc41"
            ],
            [
             0.9,
             "#4d9221"
            ],
            [
             1,
             "#276419"
            ]
           ],
           "sequential": [
            [
             0,
             "#0d0887"
            ],
            [
             0.1111111111111111,
             "#46039f"
            ],
            [
             0.2222222222222222,
             "#7201a8"
            ],
            [
             0.3333333333333333,
             "#9c179e"
            ],
            [
             0.4444444444444444,
             "#bd3786"
            ],
            [
             0.5555555555555556,
             "#d8576b"
            ],
            [
             0.6666666666666666,
             "#ed7953"
            ],
            [
             0.7777777777777778,
             "#fb9f3a"
            ],
            [
             0.8888888888888888,
             "#fdca26"
            ],
            [
             1,
             "#f0f921"
            ]
           ],
           "sequentialminus": [
            [
             0,
             "#0d0887"
            ],
            [
             0.1111111111111111,
             "#46039f"
            ],
            [
             0.2222222222222222,
             "#7201a8"
            ],
            [
             0.3333333333333333,
             "#9c179e"
            ],
            [
             0.4444444444444444,
             "#bd3786"
            ],
            [
             0.5555555555555556,
             "#d8576b"
            ],
            [
             0.6666666666666666,
             "#ed7953"
            ],
            [
             0.7777777777777778,
             "#fb9f3a"
            ],
            [
             0.8888888888888888,
             "#fdca26"
            ],
            [
             1,
             "#f0f921"
            ]
           ]
          },
          "colorway": [
           "#636efa",
           "#EF553B",
           "#00cc96",
           "#ab63fa",
           "#FFA15A",
           "#19d3f3",
           "#FF6692",
           "#B6E880",
           "#FF97FF",
           "#FECB52"
          ],
          "font": {
           "color": "#2a3f5f"
          },
          "geo": {
           "bgcolor": "white",
           "lakecolor": "white",
           "landcolor": "white",
           "showlakes": true,
           "showland": true,
           "subunitcolor": "#C8D4E3"
          },
          "hoverlabel": {
           "align": "left"
          },
          "hovermode": "closest",
          "mapbox": {
           "style": "light"
          },
          "paper_bgcolor": "white",
          "plot_bgcolor": "white",
          "polar": {
           "angularaxis": {
            "gridcolor": "#EBF0F8",
            "linecolor": "#EBF0F8",
            "ticks": ""
           },
           "bgcolor": "white",
           "radialaxis": {
            "gridcolor": "#EBF0F8",
            "linecolor": "#EBF0F8",
            "ticks": ""
           }
          },
          "scene": {
           "xaxis": {
            "backgroundcolor": "white",
            "gridcolor": "#DFE8F3",
            "gridwidth": 2,
            "linecolor": "#EBF0F8",
            "showbackground": true,
            "ticks": "",
            "zerolinecolor": "#EBF0F8"
           },
           "yaxis": {
            "backgroundcolor": "white",
            "gridcolor": "#DFE8F3",
            "gridwidth": 2,
            "linecolor": "#EBF0F8",
            "showbackground": true,
            "ticks": "",
            "zerolinecolor": "#EBF0F8"
           },
           "zaxis": {
            "backgroundcolor": "white",
            "gridcolor": "#DFE8F3",
            "gridwidth": 2,
            "linecolor": "#EBF0F8",
            "showbackground": true,
            "ticks": "",
            "zerolinecolor": "#EBF0F8"
           }
          },
          "shapedefaults": {
           "line": {
            "color": "#2a3f5f"
           }
          },
          "ternary": {
           "aaxis": {
            "gridcolor": "#DFE8F3",
            "linecolor": "#A2B1C6",
            "ticks": ""
           },
           "baxis": {
            "gridcolor": "#DFE8F3",
            "linecolor": "#A2B1C6",
            "ticks": ""
           },
           "bgcolor": "white",
           "caxis": {
            "gridcolor": "#DFE8F3",
            "linecolor": "#A2B1C6",
            "ticks": ""
           }
          },
          "title": {
           "x": 0.05
          },
          "xaxis": {
           "automargin": true,
           "gridcolor": "#EBF0F8",
           "linecolor": "#EBF0F8",
           "ticks": "",
           "title": {
            "standoff": 15
           },
           "zerolinecolor": "#EBF0F8",
           "zerolinewidth": 2
          },
          "yaxis": {
           "automargin": true,
           "gridcolor": "#EBF0F8",
           "linecolor": "#EBF0F8",
           "ticks": "",
           "title": {
            "standoff": 15
           },
           "zerolinecolor": "#EBF0F8",
           "zerolinewidth": 2
          }
         }
        },
        "title": {
         "text": "Learning Curves for Multiple Models"
        },
        "xaxis": {
         "anchor": "y",
         "autorange": true,
         "domain": [
          0,
          1
         ],
         "range": [
          6400,
          64000
         ],
         "title": {
          "text": "Training Samples"
         },
         "type": "linear"
        },
        "yaxis": {
         "anchor": "x",
         "autorange": true,
         "domain": [
          0,
          1
         ],
         "range": [
          0.878682638888889,
          1.0055298611111112
         ],
         "title": {
          "text": "Accuracy"
         },
         "type": "linear"
        }
       }
      },
      "image/png": "[encoded data removed]",
      "text/html": [
       "<div>                            <div id=\"92ebc05e-ca37-49b4-b41b-147cec96e666\" class=\"plotly-graph-div\" style=\"height:525px; width:100%;\"></div>            <script type=\"text/javascript\">                require([\"plotly\"], function(Plotly) {                    window.PLOTLYENV=window.PLOTLYENV || {};                                    if (document.getElementById(\"92ebc05e-ca37-49b4-b41b-147cec96e666\")) {                    Plotly.newPlot(                        \"92ebc05e-ca37-49b4-b41b-147cec96e666\",                        [{\"hovertemplate\":\"Model=Logistic Regression\\u003cbr\\u003eType=Train\\u003cbr\\u003eTraining Samples=%{x}\\u003cbr\\u003eAccuracy=%{y}\\u003cextra\\u003e\\u003c\\u002fextra\\u003e\",\"legendgroup\":\"Logistic Regression, Train\",\"line\":{\"color\":\"#636efa\",\"dash\":\"solid\"},\"marker\":{\"symbol\":\"circle\"},\"mode\":\"lines\",\"name\":\"Logistic Regression, Train\",\"orientation\":\"v\",\"showlegend\":true,\"x\":[6400,12800,19200,25600,32000,38400,44800,51200,57600,64000],\"xaxis\":\"x\",\"y\":[0.99296875,0.984703125,0.9767708333333334,0.9727187500000001,0.9676937499999999,0.9632968749999999,0.95934375,0.9557265625,0.9558194444444446,0.9524625],\"yaxis\":\"y\",\"type\":\"scatter\"},{\"hovertemplate\":\"Model=Logistic Regression\\u003cbr\\u003eType=Validation\\u003cbr\\u003eTraining Samples=%{x}\\u003cbr\\u003eAccuracy=%{y}\\u003cextra\\u003e\\u003c\\u002fextra\\u003e\",\"legendgroup\":\"Logistic Regression, Validation\",\"line\":{\"color\":\"#636efa\",\"dash\":\"dot\"},\"marker\":{\"symbol\":\"circle\"},\"mode\":\"lines\",\"name\":\"Logistic Regression, Validation\",\"orientation\":\"v\",\"showlegend\":true,\"x\":[6400,12800,19200,25600,32000,38400,44800,51200,57600,64000],\"xaxis\":\"x\",\"y\":[0.8917624999999999,0.894275,0.8931625000000001,0.8936125,0.8943875,0.894825,0.8958625,0.895425,0.8965125,0.8960625],\"yaxis\":\"y\",\"type\":\"scatter\"},{\"hovertemplate\":\"Model=Linear SVC\\u003cbr\\u003eType=Train\\u003cbr\\u003eTraining Samples=%{x}\\u003cbr\\u003eAccuracy=%{y}\\u003cextra\\u003e\\u003c\\u002fextra\\u003e\",\"legendgroup\":\"Linear SVC, Train\",\"line\":{\"color\":\"#EF553B\",\"dash\":\"solid\"},\"marker\":{\"symbol\":\"circle\"},\"mode\":\"lines\",\"name\":\"Linear SVC, Train\",\"orientation\":\"v\",\"showlegend\":true,\"x\":[6400,12800,19200,25600,32000,38400,44800,51200,57600,64000],\"xaxis\":\"x\",\"y\":[0.9991875,0.9979687500000001,0.99565625,0.9934609375000001,0.9903562499999999,0.9878958333333333,0.9850133928571427,0.9829062499999999,0.9811597222222221,0.978784375],\"yaxis\":\"y\",\"type\":\"scatter\"},{\"hovertemplate\":\"Model=Linear SVC\\u003cbr\\u003eType=Validation\\u003cbr\\u003eTraining Samples=%{x}\\u003cbr\\u003eAccuracy=%{y}\\u003cextra\\u003e\\u003c\\u002fextra\\u003e\",\"legendgroup\":\"Linear SVC, Validation\",\"line\":{\"color\":\"#EF553B\",\"dash\":\"dot\"},\"marker\":{\"symbol\":\"circle\"},\"mode\":\"lines\",\"name\":\"Linear SVC, Validation\",\"orientation\":\"v\",\"showlegend\":true,\"x\":[6400,12800,19200,25600,32000,38400,44800,51200,57600,64000],\"xaxis\":\"x\",\"y\":[0.8850250000000001,0.8860750000000002,0.887325,0.8886749999999999,0.8886625,0.88835,0.889025,0.8888,0.8894375,0.8895250000000001],\"yaxis\":\"y\",\"type\":\"scatter\"}],                        {\"template\":{\"data\":{\"barpolar\":[{\"marker\":{\"line\":{\"color\":\"white\",\"width\":0.5},\"pattern\":{\"fillmode\":\"overlay\",\"size\":10,\"solidity\":0.2}},\"type\":\"barpolar\"}],\"bar\":[{\"error_x\":{\"color\":\"#2a3f5f\"},\"error_y\":{\"color\":\"#2a3f5f\"},\"marker\":{\"line\":{\"color\":\"white\",\"width\":0.5},\"pattern\":{\"fillmode\":\"overlay\",\"size\":10,\"solidity\":0.2}},\"type\":\"bar\"}],\"carpet\":[{\"aaxis\":{\"endlinecolor\":\"#2a3f5f\",\"gridcolor\":\"#C8D4E3\",\"linecolor\":\"#C8D4E3\",\"minorgridcolor\":\"#C8D4E3\",\"startlinecolor\":\"#2a3f5f\"},\"baxis\":{\"endlinecolor\":\"#2a3f5f\",\"gridcolor\":\"#C8D4E3\",\"linecolor\":\"#C8D4E3\",\"minorgridcolor\":\"#C8D4E3\",\"startlinecolor\":\"#2a3f5f\"},\"type\":\"carpet\"}],\"choropleth\":[{\"colorbar\":{\"outlinewidth\":0,\"ticks\":\"\"},\"type\":\"choropleth\"}],\"contourcarpet\":[{\"colorbar\":{\"outlinewidth\":0,\"ticks\":\"\"},\"type\":\"contourcarpet\"}],\"contour\":[{\"colorbar\":{\"outlinewidth\":0,\"ticks\":\"\"},\"colorscale\":[[0.0,\"#0d0887\"],[0.1111111111111111,\"#46039f\"],[0.2222222222222222,\"#7201a8\"],[0.3333333333333333,\"#9c179e\"],[0.4444444444444444,\"#bd3786\"],[0.5555555555555556,\"#d8576b\"],[0.6666666666666666,\"#ed7953\"],[0.7777777777777778,\"#fb9f3a\"],[0.8888888888888888,\"#fdca26\"],[1.0,\"#f0f921\"]],\"type\":\"contour\"}],\"heatmapgl\":[{\"colorbar\":{\"outlinewidth\":0,\"ticks\":\"\"},\"colorscale\":[[0.0,\"#0d0887\"],[0.1111111111111111,\"#46039f\"],[0.2222222222222222,\"#7201a8\"],[0.3333333333333333,\"#9c179e\"],[0.4444444444444444,\"#bd3786\"],[0.5555555555555556,\"#d8576b\"],[0.6666666666666666,\"#ed7953\"],[0.7777777777777778,\"#fb9f3a\"],[0.8888888888888888,\"#fdca26\"],[1.0,\"#f0f921\"]],\"type\":\"heatmapgl\"}],\"heatmap\":[{\"colorbar\":{\"outlinewidth\":0,\"ticks\":\"\"},\"colorscale\":[[0.0,\"#0d0887\"],[0.1111111111111111,\"#46039f\"],[0.2222222222222222,\"#7201a8\"],[0.3333333333333333,\"#9c179e\"],[0.4444444444444444,\"#bd3786\"],[0.5555555555555556,\"#d8576b\"],[0.6666666666666666,\"#ed7953\"],[0.7777777777777778,\"#fb9f3a\"],[0.8888888888888888,\"#fdca26\"],[1.0,\"#f0f921\"]],\"type\":\"heatmap\"}],\"histogram2dcontour\":[{\"colorbar\":{\"outlinewidth\":0,\"ticks\":\"\"},\"colorscale\":[[0.0,\"#0d0887\"],[0.1111111111111111,\"#46039f\"],[0.2222222222222222,\"#7201a8\"],[0.3333333333333333,\"#9c179e\"],[0.4444444444444444,\"#bd3786\"],[0.5555555555555556,\"#d8576b\"],[0.6666666666666666,\"#ed7953\"],[0.7777777777777778,\"#fb9f3a\"],[0.8888888888888888,\"#fdca26\"],[1.0,\"#f0f921\"]],\"type\":\"histogram2dcontour\"}],\"histogram2d\":[{\"colorbar\":{\"outlinewidth\":0,\"ticks\":\"\"},\"colorscale\":[[0.0,\"#0d0887\"],[0.1111111111111111,\"#46039f\"],[0.2222222222222222,\"#7201a8\"],[0.3333333333333333,\"#9c179e\"],[0.4444444444444444,\"#bd3786\"],[0.5555555555555556,\"#d8576b\"],[0.6666666666666666,\"#ed7953\"],[0.7777777777777778,\"#fb9f3a\"],[0.8888888888888888,\"#fdca26\"],[1.0,\"#f0f921\"]],\"type\":\"histogram2d\"}],\"histogram\":[{\"marker\":{\"pattern\":{\"fillmode\":\"overlay\",\"size\":10,\"solidity\":0.2}},\"type\":\"histogram\"}],\"mesh3d\":[{\"colorbar\":{\"outlinewidth\":0,\"ticks\":\"\"},\"type\":\"mesh3d\"}],\"parcoords\":[{\"line\":{\"colorbar\":{\"outlinewidth\":0,\"ticks\":\"\"}},\"type\":\"parcoords\"}],\"pie\":[{\"automargin\":true,\"type\":\"pie\"}],\"scatter3d\":[{\"line\":{\"colorbar\":{\"outlinewidth\":0,\"ticks\":\"\"}},\"marker\":{\"colorbar\":{\"outlinewidth\":0,\"ticks\":\"\"}},\"type\":\"scatter3d\"}],\"scattercarpet\":[{\"marker\":{\"colorbar\":{\"outlinewidth\":0,\"ticks\":\"\"}},\"type\":\"scattercarpet\"}],\"scattergeo\":[{\"marker\":{\"colorbar\":{\"outlinewidth\":0,\"ticks\":\"\"}},\"type\":\"scattergeo\"}],\"scattergl\":[{\"marker\":{\"colorbar\":{\"outlinewidth\":0,\"ticks\":\"\"}},\"type\":\"scattergl\"}],\"scattermapbox\":[{\"marker\":{\"colorbar\":{\"outlinewidth\":0,\"ticks\":\"\"}},\"type\":\"scattermapbox\"}],\"scatterpolargl\":[{\"marker\":{\"colorbar\":{\"outlinewidth\":0,\"ticks\":\"\"}},\"type\":\"scatterpolargl\"}],\"scatterpolar\":[{\"marker\":{\"colorbar\":{\"outlinewidth\":0,\"ticks\":\"\"}},\"type\":\"scatterpolar\"}],\"scatter\":[{\"fillpattern\":{\"fillmode\":\"overlay\",\"size\":10,\"solidity\":0.2},\"type\":\"scatter\"}],\"scatterternary\":[{\"marker\":{\"colorbar\":{\"outlinewidth\":0,\"ticks\":\"\"}},\"type\":\"scatterternary\"}],\"surface\":[{\"colorbar\":{\"outlinewidth\":0,\"ticks\":\"\"},\"colorscale\":[[0.0,\"#0d0887\"],[0.1111111111111111,\"#46039f\"],[0.2222222222222222,\"#7201a8\"],[0.3333333333333333,\"#9c179e\"],[0.4444444444444444,\"#bd3786\"],[0.5555555555555556,\"#d8576b\"],[0.6666666666666666,\"#ed7953\"],[0.7777777777777778,\"#fb9f3a\"],[0.8888888888888888,\"#fdca26\"],[1.0,\"#f0f921\"]],\"type\":\"surface\"}],\"table\":[{\"cells\":{\"fill\":{\"color\":\"#EBF0F8\"},\"line\":{\"color\":\"white\"}},\"header\":{\"fill\":{\"color\":\"#C8D4E3\"},\"line\":{\"color\":\"white\"}},\"type\":\"table\"}]},\"layout\":{\"annotationdefaults\":{\"arrowcolor\":\"#2a3f5f\",\"arrowhead\":0,\"arrowwidth\":1},\"autotypenumbers\":\"strict\",\"coloraxis\":{\"colorbar\":{\"outlinewidth\":0,\"ticks\":\"\"}},\"colorscale\":{\"diverging\":[[0,\"#8e0152\"],[0.1,\"#c51b7d\"],[0.2,\"#de77ae\"],[0.3,\"#f1b6da\"],[0.4,\"#fde0ef\"],[0.5,\"#f7f7f7\"],[0.6,\"#e6f5d0\"],[0.7,\"#b8e186\"],[0.8,\"#7fbc41\"],[0.9,\"#4d9221\"],[1,\"#276419\"]],\"sequential\":[[0.0,\"#0d0887\"],[0.1111111111111111,\"#46039f\"],[0.2222222222222222,\"#7201a8\"],[0.3333333333333333,\"#9c179e\"],[0.4444444444444444,\"#bd3786\"],[0.5555555555555556,\"#d8576b\"],[0.6666666666666666,\"#ed7953\"],[0.7777777777777778,\"#fb9f3a\"],[0.8888888888888888,\"#fdca26\"],[1.0,\"#f0f921\"]],\"sequentialminus\":[[0.0,\"#0d0887\"],[0.1111111111111111,\"#46039f\"],[0.2222222222222222,\"#7201a8\"],[0.3333333333333333,\"#9c179e\"],[0.4444444444444444,\"#bd3786\"],[0.5555555555555556,\"#d8576b\"],[0.6666666666666666,\"#ed7953\"],[0.7777777777777778,\"#fb9f3a\"],[0.8888888888888888,\"#fdca26\"],[1.0,\"#f0f921\"]]},\"colorway\":[\"#636efa\",\"#EF553B\",\"#00cc96\",\"#ab63fa\",\"#FFA15A\",\"#19d3f3\",\"#FF6692\",\"#B6E880\",\"#FF97FF\",\"#FECB52\"],\"font\":{\"color\":\"#2a3f5f\"},\"geo\":{\"bgcolor\":\"white\",\"lakecolor\":\"white\",\"landcolor\":\"white\",\"showlakes\":true,\"showland\":true,\"subunitcolor\":\"#C8D4E3\"},\"hoverlabel\":{\"align\":\"left\"},\"hovermode\":\"closest\",\"mapbox\":{\"style\":\"light\"},\"paper_bgcolor\":\"white\",\"plot_bgcolor\":\"white\",\"polar\":{\"angularaxis\":{\"gridcolor\":\"#EBF0F8\",\"linecolor\":\"#EBF0F8\",\"ticks\":\"\"},\"bgcolor\":\"white\",\"radialaxis\":{\"gridcolor\":\"#EBF0F8\",\"linecolor\":\"#EBF0F8\",\"ticks\":\"\"}},\"scene\":{\"xaxis\":{\"backgroundcolor\":\"white\",\"gridcolor\":\"#DFE8F3\",\"gridwidth\":2,\"linecolor\":\"#EBF0F8\",\"showbackground\":true,\"ticks\":\"\",\"zerolinecolor\":\"#EBF0F8\"},\"yaxis\":{\"backgroundcolor\":\"white\",\"gridcolor\":\"#DFE8F3\",\"gridwidth\":2,\"linecolor\":\"#EBF0F8\",\"showbackground\":true,\"ticks\":\"\",\"zerolinecolor\":\"#EBF0F8\"},\"zaxis\":{\"backgroundcolor\":\"white\",\"gridcolor\":\"#DFE8F3\",\"gridwidth\":2,\"linecolor\":\"#EBF0F8\",\"showbackground\":true,\"ticks\":\"\",\"zerolinecolor\":\"#EBF0F8\"}},\"shapedefaults\":{\"line\":{\"color\":\"#2a3f5f\"}},\"ternary\":{\"aaxis\":{\"gridcolor\":\"#DFE8F3\",\"linecolor\":\"#A2B1C6\",\"ticks\":\"\"},\"baxis\":{\"gridcolor\":\"#DFE8F3\",\"linecolor\":\"#A2B1C6\",\"ticks\":\"\"},\"bgcolor\":\"white\",\"caxis\":{\"gridcolor\":\"#DFE8F3\",\"linecolor\":\"#A2B1C6\",\"ticks\":\"\"}},\"title\":{\"x\":0.05},\"xaxis\":{\"automargin\":true,\"gridcolor\":\"#EBF0F8\",\"linecolor\":\"#EBF0F8\",\"ticks\":\"\",\"title\":{\"standoff\":15},\"zerolinecolor\":\"#EBF0F8\",\"zerolinewidth\":2},\"yaxis\":{\"automargin\":true,\"gridcolor\":\"#EBF0F8\",\"linecolor\":\"#EBF0F8\",\"ticks\":\"\",\"title\":{\"standoff\":15},\"zerolinecolor\":\"#EBF0F8\",\"zerolinewidth\":2}}},\"xaxis\":{\"anchor\":\"y\",\"domain\":[0.0,1.0],\"title\":{\"text\":\"Training Samples\"}},\"yaxis\":{\"anchor\":\"x\",\"domain\":[0.0,1.0],\"title\":{\"text\":\"Accuracy\"}},\"legend\":{\"title\":{\"text\":\"Model, Type\"},\"tracegroupgap\":0},\"title\":{\"text\":\"Learning Curves for Multiple Models\"}},                        {\"responsive\": true}                    ).then(function(){\n",
       "                            \n",
       "var gd = document.getElementById('92ebc05e-ca37-49b4-b41b-147cec96e666');\n",
       "var x = new MutationObserver(function (mutations, observer) {{\n",
       "        var display = window.getComputedStyle(gd).display;\n",
       "        if (!display || display === 'none') {{\n",
       "            console.log([gd, 'removed!']);\n",
       "            Plotly.purge(gd);\n",
       "            observer.disconnect();\n",
       "        }}\n",
       "}});\n",
       "\n",
       "// Listen for the removal of the full notebook cells\n",
       "var notebookContainer = gd.closest('#notebook-container');\n",
       "if (notebookContainer) {{\n",
       "    x.observe(notebookContainer, {childList: true});\n",
       "}}\n",
       "\n",
       "// Listen for the clearing of the current output cell\n",
       "var outputEl = gd.closest('.output');\n",
       "if (outputEl) {{\n",
       "    x.observe(outputEl, {childList: true});\n",
       "}}\n",
       "\n",
       "                        })                };                });            </script>        </div>"
      ]
     },
     "metadata": {},
     "output_type": "display_data"
    },
    {
     "name": "stdout",
     "output_type": "stream",
     "text": [
      "CPU times: user 12min 47s, sys: 1min 51s, total: 14min 39s\n",
      "Wall time: 3min 12s\n"
     ]
    }
   ],
   "source": [
    "%%time\n",
    "import plotly.express as px\n",
    "def get_learning_curve_data(estimator, model_name, X, y, cv=5, train_sizes=np.linspace(0.1, 1.0, 10)):\n",
    "    train_sizes, train_scores, test_scores = learning_curve(estimator, X, y, cv=cv, train_sizes=train_sizes)\n",
    "    train_mean = np.mean(train_scores, axis=1)\n",
    "    train_std = np.std(train_scores, axis=1)\n",
    "    test_mean = np.mean(test_scores, axis=1)\n",
    "    test_std = np.std(test_scores, axis=1)\n",
    "\n",
    "    # Создание DataFrame для объединённого хранения данных\n",
    "    data = pd.DataFrame({\n",
    "        \"Training Size\": np.concatenate([train_sizes, train_sizes]),\n",
    "        \"Score\": np.concatenate([train_mean, test_mean]),\n",
    "        \"Type\": [\"Train\"] * len(train_mean) + [\"Validation\"] * len(test_mean),\n",
    "        \"Model\": [model_name] * (2 * len(train_mean))\n",
    "    })\n",
    "    return data\n",
    "\n",
    "# Создание пайплайнов\n",
    "pipeline_lr = Pipeline([\n",
    "    ('vectorizer', CountVectorizer()),\n",
    "    ('scaler', MaxAbsScaler()),\n",
    "    ('classifier', LogisticRegression(max_iter=1000, class_weight='balanced', random_state=42))\n",
    "])\n",
    "\n",
    "pipeline_svc = Pipeline([\n",
    "    ('vectorizer', CountVectorizer()),\n",
    "    ('scaler', MaxAbsScaler()),\n",
    "    ('classifier', LinearSVC(random_state=42, class_weight='balanced'))\n",
    "])\n",
    "\n",
    "# Получение данных для всех моделей\n",
    "data_lr = get_learning_curve_data(pipeline_lr, \"Logistic Regression\", X_train, y_train)\n",
    "data_svc = get_learning_curve_data(pipeline_svc, \"Linear SVC\", X_train, y_train)\n",
    "\n",
    "# Объединение данных всех моделей в один DataFrame\n",
    "all_data = pd.concat([data_lr, data_svc])\n",
    "\n",
    "# Построение графика с plotly.express\n",
    "fig = px.line(\n",
    "    all_data,\n",
    "    x=\"Training Size\",\n",
    "    y=\"Score\",\n",
    "    color=\"Model\",\n",
    "    line_dash=\"Type\",\n",
    "    title=\"Learning Curves for Multiple Models\",\n",
    "    labels={\"Score\": \"Accuracy\", \"Training Size\": \"Training Samples\"},\n",
    "    template=\"plotly_white\"\n",
    ")\n",
    "\n",
    "# Отображение графика\n",
    "fig.show()"
   ]
  },
  {
   "cell_type": "code",
   "execution_count": null,
   "id": "02241848-c3e6-4964-8ac1-28bd21c680df",
   "metadata": {},
   "outputs": [],
   "source": [
    "%%time\n",
    "def get_pr_curve_data(model, model_name, X_test, y_test):\n",
    "    # Получение вероятностей или решений\n",
    "    if hasattr(model, \"decision_function\"):\n",
    "        y_scores = model.decision_function(X_test)\n",
    "    else:\n",
    "        y_scores = model.predict_proba(X_test)[:, 1]\n",
    "    \n",
    "    precision, recall, _ = precision_recall_curve(y_test, y_scores)\n",
    "    return pd.DataFrame({\n",
    "        \"Precision\": precision,\n",
    "        \"Recall\": recall,\n",
    "        \"Model\": model_name\n",
    "    })\n",
    "\n",
    "pipeline_lr.fit(X_train, y_train)\n",
    "pipeline_svc.fit(X_train, y_train)\n",
    "model1.fit(X_train, y_train)\n",
    "\n",
    "# Получение данных для PR-кривых\n",
    "data_lr = get_pr_curve_data(pipeline_lr, \"Logistic Regression\", X_test, y_test)\n",
    "data_svc = get_pr_curve_data(pipeline_svc, \"Linear SVC\", X_test, y_test)\n",
    "data_model1 = get_pr_curve_data(model1, \"Logistic Regression_2\", X_test, y_test)\n",
    "\n",
    "# Объединение данных всех моделей в один DataFrame\n",
    "all_data = pd.concat([data_lr, data_svc, data_model1])\n",
    "\n",
    "# Построение PR-кривой с plotly.express\n",
    "fig = px.line(\n",
    "    all_data,\n",
    "    x=\"Recall\",\n",
    "    y=\"Precision\",\n",
    "    color=\"Model\",\n",
    "    title=\"Precision-Recall Curves for Multiple Models\",\n",
    "    labels={\"Precision\": \"Precision\", \"Recall\": \"Recall\"},\n",
    "    template=\"plotly_white\"\n",
    ")\n",
    "\n",
    "fig.update_layout(\n",
    "    width=900,  # Ширина графика\n",
    "    height=800, # Высота графика (равна ширине для квадратного графика)\n",
    "    title={\n",
    "        \"x\": 0.5,  # Центрирование заголовка\n",
    "        \"xanchor\": \"center\"\n",
    "    },\n",
    "    xaxis=dict(scaleanchor=\"y\")  # Обеспечение одинакового масштаба для осей X и Y\n",
    ")\n",
    "\n",
    "# Отображение графика\n",
    "fig.show()"
   ]
  },
  {
   "cell_type": "code",
   "execution_count": null,
   "id": "5439d708-b2d7-45f4-8dd6-4cbd88c076c6",
   "metadata": {},
   "outputs": [],
   "source": [
    "%%time\n",
    "from sklearn.metrics import roc_curve, roc_auc_score\n",
    "\n",
    "def get_roc_curve_data(model, model_name, X_test, y_test):\n",
    "    # Получение вероятностей или решений\n",
    "    if hasattr(model, \"decision_function\"):\n",
    "        y_scores = model.decision_function(X_test)\n",
    "    else:\n",
    "        y_scores = model.predict_proba(X_test)[:, 1]\n",
    "    \n",
    "    # Вычисление FPR, TPR и порогов\n",
    "    fpr, tpr, _ = roc_curve(y_test, y_scores)\n",
    "    auc = roc_auc_score(y_test, y_scores)\n",
    "    \n",
    "    # Создание DataFrame с правильными именами\n",
    "    return pd.DataFrame({\n",
    "        \"False Positive Rate\": fpr,\n",
    "        \"True Positive Rate\": tpr,\n",
    "        \"Model\": model_name,\n",
    "        \"AUC\": [auc] * len(fpr)  # Для аннотаций\n",
    "    })\n",
    "\n",
    "data_lr = get_roc_curve_data(pipeline_lr, \"Logistic Regression\", X_test, y_test)\n",
    "data_svc = get_roc_curve_data(pipeline_svc, \"Linear SVC\", X_test, y_test)\n",
    "\n",
    "# Объединение данных всех моделей в один DataFrame\n",
    "all_data = pd.concat([data_lr, data_svc])\n",
    "\n",
    "fig = px.line(\n",
    "    all_data,\n",
    "    x=\"False Positive Rate\",\n",
    "    y=\"True Positive Rate\",\n",
    "    color=\"Model\",\n",
    "    title=\"ROC Curves for Multiple Models\",\n",
    "    labels={\"False Positive Rate\": \"False Positive Rate\", \"True Positive Rate\": \"True Positive Rate\"},\n",
    "    template=\"plotly_white\",\n",
    "    color_discrete_sequence=[\"#636EFA\", \"#EF553B\"]  # Цвета\n",
    ")\n",
    "\n",
    "# Добавление AUC в заголовок графика\n",
    "fig.update_layout(\n",
    "    annotations=[\n",
    "        dict(\n",
    "            x=0.8,\n",
    "            y=0.2 + i * 0.1,\n",
    "            xref=\"paper\",\n",
    "            yref=\"paper\",\n",
    "            text=f\"{model}: AUC={all_data[all_data['Model'] == model]['AUC'].iloc[0]:.2f}\",\n",
    "            showarrow=False,\n",
    "            font=dict(size=12)\n",
    "        )\n",
    "        for i, model in enumerate(all_data[\"Model\"].unique())\n",
    "    ],\n",
    "    width=850,\n",
    "    height=750,\n",
    "    xaxis=dict(scaleanchor=\"y\")\n",
    ")\n",
    "\n",
    "# Отображение графика\n",
    "fig.show()"
   ]
  },
  {
   "cell_type": "code",
   "execution_count": 43,
   "id": "d721abe7-6dea-424d-9b22-e15d00442bad",
   "metadata": {},
   "outputs": [],
   "source": [
    "def plot_roc_curves(models, X_test, y_test):\n",
    "    \"\"\"\n",
    "    Построение объединённых ROC-кривых для нескольких моделей.\n",
    "\n",
    "    Параметры:\n",
    "        models (list of tuples): Список моделей в формате [(модель, название), ...].\n",
    "        X_test (array): Тестовые данные.\n",
    "        y_test (array): Истинные метки классов.\n",
    "\n",
    "    Вывод:\n",
    "        График ROC-кривых с аннотацией AUC.\n",
    "    \"\"\"\n",
    "    def get_roc_curve_data(model, model_name, X_test, y_test):\n",
    "        \"\"\"Вычисление данных для ROC-кривой одной модели.\"\"\"\n",
    "        # Получение вероятностей или решений\n",
    "        if hasattr(model, \"decision_function\"):\n",
    "            y_scores = model.decision_function(X_test)\n",
    "        else:\n",
    "            y_scores = model.predict_proba(X_test)[:, 1]\n",
    "\n",
    "        # Вычисление FPR, TPR и AUC\n",
    "        fpr, tpr, _ = roc_curve(y_test, y_scores)\n",
    "        auc = roc_auc_score(y_test, y_scores)\n",
    "        \n",
    "        return pd.DataFrame({\n",
    "            \"False Positive Rate\": fpr,\n",
    "            \"True Positive Rate\": tpr,\n",
    "            \"Model\": model_name,\n",
    "            \"AUC\": [auc] * len(fpr)\n",
    "        })\n",
    "\n",
    "    # Сбор данных ROC-кривых для всех моделей\n",
    "    all_data = pd.concat([\n",
    "        get_roc_curve_data(model, name, X_test, y_test) for model, name in models\n",
    "    ])\n",
    "\n",
    "    # Построение ROC-кривой\n",
    "    fig = px.line(\n",
    "        all_data,\n",
    "        x=\"False Positive Rate\",\n",
    "        y=\"True Positive Rate\",\n",
    "        color=\"Model\",\n",
    "        title=\"ROC Curves for Multiple Models\",\n",
    "        labels={\"False Positive Rate\": \"False Positive Rate\", \"True Positive Rate\": \"True Positive Rate\"},\n",
    "        template=\"plotly_white\",\n",
    "        color_discrete_sequence=px.colors.qualitative.Set1  # Палитра цветов\n",
    "    )\n",
    "\n",
    "    # Добавление AUC в заголовок графика\n",
    "    fig.update_layout(\n",
    "        annotations=[\n",
    "            dict(\n",
    "                x=0.8,\n",
    "                y=0.2 + i * 0.1,\n",
    "                xref=\"paper\",\n",
    "                yref=\"paper\",\n",
    "                text=f\"{model}: AUC={all_data[all_data['Model'] == model]['AUC'].iloc[0]:.2f}\",\n",
    "                showarrow=False,\n",
    "                font=dict(size=12)\n",
    "            )\n",
    "            for i, model in enumerate(all_data[\"Model\"].unique())\n",
    "        ],\n",
    "        width=850,\n",
    "        height=750,\n",
    "        xaxis=dict(scaleanchor=\"y\")\n",
    "    )\n",
    "\n",
    "    # Отображение графика\n",
    "    fig.show()"
   ]
  },
  {
   "cell_type": "code",
   "execution_count": null,
   "id": "7f17ac15-7299-4f88-bb2f-8ca9aabd1317",
   "metadata": {},
   "outputs": [],
   "source": [
    "models = [\n",
    "    (model1, \"Logistic Regression\"),\n",
    "    (model2, \"Linear SVC\")\n",
    "]\n",
    "\n",
    "# Построение ROC-кривых\n",
    "plot_roc_curves(models, X_test, y_test)"
   ]
  }
 ],
 "metadata": {
  "kernelspec": {
   "display_name": "Python 3 (ipykernel)",
   "language": "python",
   "name": "python3"
  },
  "language_info": {
   "codemirror_mode": {
    "name": "ipython",
    "version": 3
   },
   "file_extension": ".py",
   "mimetype": "text/x-python",
   "name": "python",
   "nbconvert_exporter": "python",
   "pygments_lexer": "ipython3",
   "version": "3.12.2"
  }
 },
 "nbformat": 4,
 "nbformat_minor": 5
}
