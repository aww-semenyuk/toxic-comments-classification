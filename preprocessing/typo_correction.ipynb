{
 "cells": [
  {
   "cell_type": "markdown",
   "metadata": {},
   "source": [
    "# Исправление опечаток"
   ]
  },
  {
   "cell_type": "code",
   "execution_count": 1,
   "metadata": {},
   "outputs": [
    {
     "name": "stdout",
     "output_type": "stream",
     "text": [
      "INFO: Pandarallel will run on 8 workers.\n",
      "INFO: Pandarallel will use standard multiprocessing data transfer (pipe) to transfer data between the main process and workers.\n"
     ]
    }
   ],
   "source": [
    "import gc\n",
    "import glob\n",
    "\n",
    "import pandas as pd\n",
    "import spacy\n",
    "from pandarallel import pandarallel\n",
    "from spacymoji import Emoji\n",
    "from symspellpy import SymSpell, Verbosity\n",
    "from tqdm import tqdm\n",
    "\n",
    "pandarallel.initialize(progress_bar=True)\n",
    "tqdm.pandas()"
   ]
  },
  {
   "cell_type": "markdown",
   "metadata": {},
   "source": [
    "Для исправления опечаток в тексте будем использовать SymSpell, т.к. он довольно быстрый и поддерживает большие словари (как, например, `frequency_dictionary_en_82_765`, который будет использоваться).\n",
    "\n",
    "Токены, не являющиеся словами, будем оставлять как есть, слово с опечаткой будет заменяться на самый частотный вариант."
   ]
  },
  {
   "cell_type": "code",
   "execution_count": 2,
   "metadata": {},
   "outputs": [],
   "source": [
    "class CorrectedWordsCounter:\n",
    "    def __init__(self):\n",
    "        self.corrected = 0\n",
    "        \n",
    "    def update(self, corrected):\n",
    "        self.corrected += corrected"
   ]
  },
  {
   "cell_type": "code",
   "execution_count": 3,
   "metadata": {},
   "outputs": [],
   "source": [
    "class TypoCorrector:\n",
    "    def __init__(self):\n",
    "        self.nlp = spacy.load('en_core_web_sm', disable=[\"parser\", \"ner\"])\n",
    "        self.sym_spell = SymSpell(max_dictionary_edit_distance=2, prefix_length=7)\n",
    "        self.sym_spell.load_dictionary('frequency_dictionary_en_82_765.txt', encoding='utf-8-sig', term_index=0, count_index=1)\n",
    "    \n",
    "    def process_text(self, text: str):\n",
    "        doc = self.nlp(text)\n",
    "        tokens = []\n",
    "        corrected_cnt = 0\n",
    "        for token in doc:\n",
    "            if not token.is_alpha:\n",
    "                tokens.append(token.text)\n",
    "                continue\n",
    "\n",
    "            lemma = token.lemma_.lower()\n",
    "            suggestions = self.sym_spell.lookup(lemma, Verbosity.TOP)\n",
    "            if suggestions and suggestions[0].term != lemma:\n",
    "                tokens.append(suggestions[0].term)\n",
    "                corrected_cnt += 1\n",
    "            else:\n",
    "                tokens.append(lemma)\n",
    "        \n",
    "        return ' '.join(tokens), {'corrected': corrected_cnt}"
   ]
  },
  {
   "cell_type": "code",
   "execution_count": null,
   "metadata": {},
   "outputs": [],
   "source": [
    "total_rows = pd.read_csv('/Users/lev_k/HSE/YP/modified_train.csv', index_col=0).shape[0]\n",
    "gc.collect()\n",
    "\n",
    "total_stats = CorrectedWordsCounter()\n",
    "processor = TypoCorrector()\n",
    "reader = pd.read_csv('/Users/lev_k/HSE/YP/modified_train.csv', chunksize=100000)\n",
    "with tqdm(total=total_rows, desc=\"Processing\") as pbar:\n",
    "    for i, chunk in enumerate(reader):\n",
    "        results = chunk.parallel_apply(\n",
    "            lambda row: processor.process_text(row['comment_text']), \n",
    "            axis=1,\n",
    "            result_type='expand'\n",
    "        )\n",
    "        \n",
    "        # Обновляем статистику\n",
    "        chunk_stats = results[1].apply(pd.Series).sum()\n",
    "        total_stats.update(chunk_stats['corrected'])\n",
    "        \n",
    "        # Сохраняем результаты\n",
    "        chunk['corrected_ct'] = results[0]\n",
    "        chunk['corrected'] = results[1].apply(lambda stats: stats['corrected'])\n",
    "        \n",
    "        chunk.to_parquet(f'processed_chunk_{i}.parquet', index=False)\n",
    "\n",
    "        pbar.update(len(chunk))\n",
    "\n",
    "        del chunk, results\n",
    "        gc.collect()"
   ]
  },
  {
   "cell_type": "code",
   "execution_count": 5,
   "metadata": {},
   "outputs": [
    {
     "name": "stdout",
     "output_type": "stream",
     "text": [
      "\n",
      "Статистика обработки:\n",
      "- Исправленных слов: 1755843\n",
      "\n"
     ]
    }
   ],
   "source": [
    "print(f\"\"\"\n",
    "Статистика обработки:\n",
    "- Исправленных слов: {total_stats.corrected}\n",
    "\"\"\")"
   ]
  },
  {
   "cell_type": "code",
   "execution_count": 6,
   "metadata": {},
   "outputs": [],
   "source": [
    "processed_df = pd.concat(\n",
    "    [pd.read_parquet(f, engine='pyarrow') for f in glob.glob('processed_chunk_*.parquet')],\n",
    "    ignore_index=False\n",
    ")\n",
    "processed_df.set_index('id', inplace=True)"
   ]
  },
  {
   "cell_type": "code",
   "execution_count": 7,
   "metadata": {},
   "outputs": [],
   "source": [
    "processed_df['corrected_ct'] = processed_df['corrected_ct'].fillna('')"
   ]
  },
  {
   "cell_type": "code",
   "execution_count": 8,
   "metadata": {},
   "outputs": [],
   "source": [
    "processed_df.to_csv('corrected_words_train.csv')"
   ]
  },
  {
   "cell_type": "markdown",
   "metadata": {},
   "source": [
    "**Распределение опечаток**"
   ]
  },
  {
   "cell_type": "code",
   "execution_count": 9,
   "metadata": {},
   "outputs": [
    {
     "data": {
      "image/png": "[encoded data removed]",
      "text/plain": [
       "<Figure size 1000x600 with 1 Axes>"
      ]
     },
     "metadata": {},
     "output_type": "display_data"
    }
   ],
   "source": [
    "import matplotlib.pyplot as plt\n",
    "import seaborn as sns\n",
    "\n",
    "\n",
    "plt.figure(figsize=(10, 6))\n",
    "sns.histplot(data=processed_df, x='corrected', hue='toxicity_b', hue_order=[1, 0], kde=False, bins=20, palette=\"viridis\", multiple=\"dodge\")\n",
    "plt.title('Распределение опечаток по токсичности')\n",
    "plt.xlabel('Количество опечаток')\n",
    "plt.ylabel('Частота')\n",
    "plt.legend(labels=['Не токсично', 'Токсично'])\n",
    "plt.yscale('log')\n",
    "plt.show()"
   ]
  },
  {
   "cell_type": "markdown",
   "metadata": {},
   "source": [
    "**Тест на равенство средних опечаток в токсичных и нетоксичных коментариях**"
   ]
  },
  {
   "cell_type": "code",
   "execution_count": 10,
   "metadata": {},
   "outputs": [
    {
     "data": {
      "text/plain": [
       "TtestResult(statistic=-5.889681100306851, pvalue=3.874316409834461e-09, df=251184.8215992906)"
      ]
     },
     "execution_count": 10,
     "metadata": {},
     "output_type": "execute_result"
    }
   ],
   "source": [
    "from scipy.stats import ttest_ind\n",
    "\n",
    "group_0 = processed_df[processed_df['toxicity_b'] == 0]['corrected']\n",
    "group_1 = processed_df[processed_df['toxicity_b'] == 1]['corrected']\n",
    "\n",
    "ttest_ind(group_0, group_1, equal_var=False)"
   ]
  },
  {
   "cell_type": "markdown",
   "metadata": {},
   "source": [
    "По результатам статистического теста на равенство средних видно, что средние значения для исправленных опечаток различаются, в токсичных комментариях их больше. Возможно в пылу гнева агрессивные комментаторы промахиваются по клавишам)"
   ]
  },
  {
   "cell_type": "markdown",
   "metadata": {},
   "source": [
    "Теперь сравним качество модели, обученной на просто лемматизированных текстах и текстах с исправленными опечатками. Для скорости будем обучать Логистическую регрессию с параметрами по умолчанию."
   ]
  },
  {
   "cell_type": "code",
   "execution_count": 11,
   "metadata": {},
   "outputs": [],
   "source": [
    "nlp = spacy.load(\"en_core_web_sm\", disable=[\"parser\", \"ner\"])\n",
    "\n",
    "def tokenize_text(text):\n",
    "    doc = nlp(text)\n",
    "    tokens = []\n",
    "    for token in doc:\n",
    "        if token.is_alpha:\n",
    "            tokens.append(token.lemma_.lower())\n",
    "        else:\n",
    "            tokens.append(token.text)\n",
    "    return \" \".join(tokens)"
   ]
  },
  {
   "cell_type": "code",
   "execution_count": null,
   "metadata": {},
   "outputs": [],
   "source": [
    "total_rows = pd.read_csv('corrected_words_train.csv', index_col=0).shape[0]\n",
    "gc.collect()\n",
    "\n",
    "reader = pd.read_csv('corrected_words_train.csv', chunksize=100000)\n",
    "with tqdm(total=total_rows, desc=\"Processing\") as pbar:\n",
    "    for i, chunk in enumerate(reader):\n",
    "        chunk['tokenized_ct'] = chunk['comment_text'].parallel_apply(tokenize_text)\n",
    "        chunk.to_parquet(f'tokenized_chunk_{i}.parquet', index=False)\n",
    "        pbar.update(len(chunk))\n",
    "\n",
    "        del chunk\n",
    "        gc.collect()"
   ]
  },
  {
   "cell_type": "code",
   "execution_count": 13,
   "metadata": {},
   "outputs": [],
   "source": [
    "processed_df = pd.concat(\n",
    "    [pd.read_parquet(f, engine='pyarrow') for f in glob.glob('tokenized_chunk_*.parquet')],\n",
    "    ignore_index=False\n",
    ")\n",
    "processed_df.set_index('id', inplace=True)"
   ]
  },
  {
   "cell_type": "code",
   "execution_count": 14,
   "metadata": {},
   "outputs": [],
   "source": [
    "processed_df['tokenized_ct'] = processed_df['tokenized_ct'].fillna('')"
   ]
  },
  {
   "cell_type": "code",
   "execution_count": 15,
   "metadata": {},
   "outputs": [],
   "source": [
    "processed_df.to_csv('corrected_and_tokenized_words_train.csv')"
   ]
  },
  {
   "cell_type": "code",
   "execution_count": 16,
   "metadata": {},
   "outputs": [],
   "source": [
    "from sklearn.feature_extraction.text import CountVectorizer, TfidfVectorizer\n",
    "\n",
    "def get_bows(X_train, X_test):\n",
    "    vectorizer = CountVectorizer()\n",
    "    return vectorizer.fit_transform(X_train), vectorizer.transform(X_test)\n",
    "\n",
    "\n",
    "def get_tfidf(X_train, X_test):\n",
    "    vectorizer = TfidfVectorizer()\n",
    "    return vectorizer.fit_transform(X_train), vectorizer.transform(X_test)"
   ]
  },
  {
   "cell_type": "code",
   "execution_count": 17,
   "metadata": {},
   "outputs": [],
   "source": [
    "from sklearn.linear_model import LogisticRegression\n",
    "from sklearn.model_selection import train_test_split\n",
    "from sklearn.metrics import f1_score\n",
    "\n",
    "X_train, X_test, y_train, y_test = train_test_split(processed_df['tokenized_ct'], processed_df['toxicity_b'], test_size=0.2, random_state=42)\n",
    "X_train_corrected, X_test_corrected, y_train_corrected, y_test_corrected = train_test_split(processed_df['corrected_ct'], processed_df['toxicity_b'], test_size=0.2, random_state=42)\n",
    "    "
   ]
  },
  {
   "cell_type": "code",
   "execution_count": 18,
   "metadata": {},
   "outputs": [],
   "source": [
    "X_train_bows, X_test_bows = get_bows(X_train, X_test)\n",
    "X_train_tfidf, X_test_tfidf = get_tfidf(X_train, X_test)\n",
    "\n",
    "X_train_bows_corrected, X_test_bows_corrected = get_bows(X_train_corrected, X_test_corrected)\n",
    "X_train_tfidf_corrected, X_test_tfidf_corrected = get_tfidf(X_train_corrected, X_test_corrected)"
   ]
  },
  {
   "cell_type": "code",
   "execution_count": null,
   "metadata": {},
   "outputs": [],
   "source": [
    "lr_bows = LogisticRegression(random_state=42, max_iter=1000)\n",
    "lr_bows.fit(X_train_bows, y_train)\n",
    "\n",
    "lr_bows_corrected = LogisticRegression(random_state=42, max_iter=1000)\n",
    "lr_bows_corrected.fit(X_train_bows_corrected, y_train_corrected)"
   ]
  },
  {
   "cell_type": "code",
   "execution_count": 20,
   "metadata": {},
   "outputs": [
    {
     "name": "stdout",
     "output_type": "stream",
     "text": [
      "Default tokenized BOWs F1-score: 0.5908750486803871\n",
      "Corrected tokenized BOWs F1-score: 0.5868383920261792\n"
     ]
    }
   ],
   "source": [
    "print(\"Default tokenized BOWs F1-score:\", f1_score(y_test, lr_bows.predict(X_test_bows)))\n",
    "print(\"Corrected tokenized BOWs F1-score:\", f1_score(y_test_corrected, lr_bows_corrected.predict(X_test_bows_corrected)))"
   ]
  },
  {
   "cell_type": "code",
   "execution_count": null,
   "metadata": {},
   "outputs": [],
   "source": [
    "lr_tfidf = LogisticRegression(random_state=42, max_iter=1000)\n",
    "lr_tfidf.fit(X_train_tfidf, y_train)\n",
    "\n",
    "lr_tfidf_corrected = LogisticRegression(random_state=42, max_iter=1000)\n",
    "lr_tfidf_corrected.fit(X_train_tfidf_corrected, y_train_corrected)"
   ]
  },
  {
   "cell_type": "code",
   "execution_count": 22,
   "metadata": {},
   "outputs": [
    {
     "name": "stdout",
     "output_type": "stream",
     "text": [
      "Default tokenized TF-IDF F1-score: 0.6026466870726545\n",
      "Corrected tokenized TF-IDF F1-score: 0.6027401417105402\n"
     ]
    }
   ],
   "source": [
    "print(\"Default tokenized TF-IDF F1-score:\", f1_score(y_test, lr_tfidf.predict(X_test_tfidf)))\n",
    "print(\"Corrected tokenized TF-IDF F1-score:\", f1_score(y_test_corrected, lr_tfidf_corrected.predict(X_test_tfidf_corrected)))"
   ]
  },
  {
   "cell_type": "markdown",
   "metadata": {},
   "source": [
    "Различия метрики F1 в пределах погрешности. Хотя исправление опечаток практичеки не влияет на качество модели, это нужно делать, чтобы уменьшить словарь при векторизации."
   ]
  }
 ],
 "metadata": {
  "kernelspec": {
   "display_name": ".venv",
   "language": "python",
   "name": "python3"
  },
  "language_info": {
   "codemirror_mode": {
    "name": "ipython",
    "version": 3
   },
   "file_extension": ".py",
   "mimetype": "text/x-python",
   "name": "python",
   "nbconvert_exporter": "python",
   "pygments_lexer": "ipython3",
   "version": "3.10.16"
  }
 },
 "nbformat": 4,
 "nbformat_minor": 2
}
