{
  "cells": [
    {
      "cell_type": "markdown",
      "metadata": {
        "id": "view-in-github",
        "colab_type": "text"
      },
      "source": [
        "<a href=\"https://colab.research.google.com/github/aww-semenyuk/toxic-comments-classification/blob/aww-semenyuk/word2vec.ipynb\" target=\"_parent\"><img src=\"https://colab.research.google.com/assets/colab-badge.svg\" alt=\"Open In Colab\"/></a>"
      ]
    },
    {
      "cell_type": "markdown",
      "metadata": {
        "id": "Z58KpZIFOEYp"
      },
      "source": [
        "## Load data"
      ]
    },
    {
      "cell_type": "code",
      "execution_count": null,
      "metadata": {
        "tags": [],
        "id": "TR_4S_Jr8d_J"
      },
      "outputs": [],
      "source": [
        "!pip install -q numpy pandas matplotlib seaborn scikit-learn gensim optuna ipywidgets catboost xgboost lightgbm"
      ]
    },
    {
      "cell_type": "code",
      "execution_count": null,
      "metadata": {
        "id": "sSy89Bsz53sn",
        "tags": []
      },
      "outputs": [],
      "source": [
        "toxicity_cols = [\n",
        "    'toxicity',\n",
        "    'obscene',\n",
        "    'identity_attack',\n",
        "    'insult',\n",
        "    'threat',\n",
        "    'sexual_explicit']\n",
        "\n",
        "cols_to_load = toxicity_cols + ['created_date', 'comment_text', 'comment_text_tokenized_tab', 'toxicity_annotator_count']"
      ]
    },
    {
      "cell_type": "code",
      "execution_count": null,
      "metadata": {
        "tags": [],
        "id": "Do5h5kbJ8d_K",
        "outputId": "2975ade4-a7dc-41ca-a12c-8d9ab438d5d8"
      },
      "outputs": [
        {
          "data": {
            "text/html": [
              "<div>\n",
              "<style scoped>\n",
              "    .dataframe tbody tr th:only-of-type {\n",
              "        vertical-align: middle;\n",
              "    }\n",
              "\n",
              "    .dataframe tbody tr th {\n",
              "        vertical-align: top;\n",
              "    }\n",
              "\n",
              "    .dataframe thead th {\n",
              "        text-align: right;\n",
              "    }\n",
              "</style>\n",
              "<table border=\"1\" class=\"dataframe\">\n",
              "  <thead>\n",
              "    <tr style=\"text-align: right;\">\n",
              "      <th></th>\n",
              "      <th>toxicity</th>\n",
              "      <th>comment_text</th>\n",
              "      <th>obscene</th>\n",
              "      <th>identity_attack</th>\n",
              "      <th>insult</th>\n",
              "      <th>threat</th>\n",
              "      <th>created_date</th>\n",
              "      <th>sexual_explicit</th>\n",
              "      <th>toxicity_annotator_count</th>\n",
              "      <th>comment_text_tokenized_tab</th>\n",
              "    </tr>\n",
              "  </thead>\n",
              "  <tbody>\n",
              "    <tr>\n",
              "      <th>0</th>\n",
              "      <td>0.000000</td>\n",
              "      <td>This is so cool. It's like, 'would you want yo...</td>\n",
              "      <td>0.0</td>\n",
              "      <td>0.000000</td>\n",
              "      <td>0.00000</td>\n",
              "      <td>0.0</td>\n",
              "      <td>2015-09-29 10:50:41.987077+00:00</td>\n",
              "      <td>0.0</td>\n",
              "      <td>4</td>\n",
              "      <td>cool\\tlike\\twould\\twant\\tmother\\tread\\treally\\...</td>\n",
              "    </tr>\n",
              "    <tr>\n",
              "      <th>1</th>\n",
              "      <td>0.000000</td>\n",
              "      <td>Thank you!! This would make my life a lot less...</td>\n",
              "      <td>0.0</td>\n",
              "      <td>0.000000</td>\n",
              "      <td>0.00000</td>\n",
              "      <td>0.0</td>\n",
              "      <td>2015-09-29 10:50:42.870083+00:00</td>\n",
              "      <td>0.0</td>\n",
              "      <td>4</td>\n",
              "      <td>thank\\twould\\tmake\\tlife\\tlot\\tless\\tanxiety\\t...</td>\n",
              "    </tr>\n",
              "    <tr>\n",
              "      <th>2</th>\n",
              "      <td>0.000000</td>\n",
              "      <td>This is such an urgent design problem; kudos t...</td>\n",
              "      <td>0.0</td>\n",
              "      <td>0.000000</td>\n",
              "      <td>0.00000</td>\n",
              "      <td>0.0</td>\n",
              "      <td>2015-09-29 10:50:45.222647+00:00</td>\n",
              "      <td>0.0</td>\n",
              "      <td>4</td>\n",
              "      <td>urgent\\tdesign\\tproblem\\tkudo\\ttake\\timpressive</td>\n",
              "    </tr>\n",
              "    <tr>\n",
              "      <th>3</th>\n",
              "      <td>0.000000</td>\n",
              "      <td>Is this something I'll be able to install on m...</td>\n",
              "      <td>0.0</td>\n",
              "      <td>0.000000</td>\n",
              "      <td>0.00000</td>\n",
              "      <td>0.0</td>\n",
              "      <td>2015-09-29 10:50:47.601894+00:00</td>\n",
              "      <td>0.0</td>\n",
              "      <td>4</td>\n",
              "      <td>something\\table\\tinstall\\tsite\\trelease</td>\n",
              "    </tr>\n",
              "    <tr>\n",
              "      <th>4</th>\n",
              "      <td>0.893617</td>\n",
              "      <td>haha you guys are a bunch of losers.</td>\n",
              "      <td>0.0</td>\n",
              "      <td>0.021277</td>\n",
              "      <td>0.87234</td>\n",
              "      <td>0.0</td>\n",
              "      <td>2015-09-29 10:50:48.488476+00:00</td>\n",
              "      <td>0.0</td>\n",
              "      <td>47</td>\n",
              "      <td>haha\\tguy\\tbunch\\tloser</td>\n",
              "    </tr>\n",
              "  </tbody>\n",
              "</table>\n",
              "</div>"
            ],
            "text/plain": [
              "   toxicity                                       comment_text  obscene  \\\n",
              "0  0.000000  This is so cool. It's like, 'would you want yo...      0.0   \n",
              "1  0.000000  Thank you!! This would make my life a lot less...      0.0   \n",
              "2  0.000000  This is such an urgent design problem; kudos t...      0.0   \n",
              "3  0.000000  Is this something I'll be able to install on m...      0.0   \n",
              "4  0.893617               haha you guys are a bunch of losers.      0.0   \n",
              "\n",
              "   identity_attack   insult  threat                     created_date  \\\n",
              "0         0.000000  0.00000     0.0 2015-09-29 10:50:41.987077+00:00   \n",
              "1         0.000000  0.00000     0.0 2015-09-29 10:50:42.870083+00:00   \n",
              "2         0.000000  0.00000     0.0 2015-09-29 10:50:45.222647+00:00   \n",
              "3         0.000000  0.00000     0.0 2015-09-29 10:50:47.601894+00:00   \n",
              "4         0.021277  0.87234     0.0 2015-09-29 10:50:48.488476+00:00   \n",
              "\n",
              "   sexual_explicit  toxicity_annotator_count  \\\n",
              "0              0.0                         4   \n",
              "1              0.0                         4   \n",
              "2              0.0                         4   \n",
              "3              0.0                         4   \n",
              "4              0.0                        47   \n",
              "\n",
              "                          comment_text_tokenized_tab  \n",
              "0  cool\\tlike\\twould\\twant\\tmother\\tread\\treally\\...  \n",
              "1  thank\\twould\\tmake\\tlife\\tlot\\tless\\tanxiety\\t...  \n",
              "2    urgent\\tdesign\\tproblem\\tkudo\\ttake\\timpressive  \n",
              "3            something\\table\\tinstall\\tsite\\trelease  \n",
              "4                            haha\\tguy\\tbunch\\tloser  "
            ]
          },
          "execution_count": 3,
          "metadata": {},
          "output_type": "execute_result"
        }
      ],
      "source": [
        "import pandas as pd\n",
        "df = pd.read_csv('./data_tokenized.csv', usecols=cols_to_load, parse_dates=['created_date'], date_format='ISO8601')\n",
        "df.head()"
      ]
    },
    {
      "cell_type": "code",
      "execution_count": null,
      "metadata": {
        "id": "XC9LDSHJ3x4r",
        "tags": []
      },
      "outputs": [],
      "source": [
        "# import pandas as pd\n",
        "# from google.colab import drive\n",
        "# drive.mount('/content/drive')\n",
        "\n",
        "# df = pd.read_csv('/content/drive/MyDrive/toxic_comments_tmp/data_tokenized.csv', usecols=cols_to_load, parse_dates=['created_date'], date_format='ISO8601')\n",
        "\n",
        "# drive.flush_and_unmount()\n",
        "\n",
        "# df.head()"
      ]
    },
    {
      "cell_type": "markdown",
      "metadata": {
        "id": "wMRMw2GEOIjO"
      },
      "source": [
        "## Split data"
      ]
    },
    {
      "cell_type": "code",
      "execution_count": null,
      "metadata": {
        "id": "e88lQAxU_BAW",
        "tags": []
      },
      "outputs": [],
      "source": [
        "import matplotlib.pyplot as plt\n",
        "import seaborn as sns\n",
        "import numpy as np\n",
        "import datetime\n",
        "import os\n",
        "import logging"
      ]
    },
    {
      "cell_type": "code",
      "execution_count": null,
      "metadata": {
        "colab": {
          "base_uri": "https://localhost:8080/",
          "height": 313
        },
        "id": "a51KImuM4iS4",
        "outputId": "d3e54c0f-05ab-44b6-cb0e-18a8ca4575d8",
        "tags": []
      },
      "outputs": [
        {
          "data": {
            "text/html": [
              "<div>\n",
              "<style scoped>\n",
              "    .dataframe tbody tr th:only-of-type {\n",
              "        vertical-align: middle;\n",
              "    }\n",
              "\n",
              "    .dataframe tbody tr th {\n",
              "        vertical-align: top;\n",
              "    }\n",
              "\n",
              "    .dataframe thead th {\n",
              "        text-align: right;\n",
              "    }\n",
              "</style>\n",
              "<table border=\"1\" class=\"dataframe\">\n",
              "  <thead>\n",
              "    <tr style=\"text-align: right;\">\n",
              "      <th></th>\n",
              "      <th>toxicity</th>\n",
              "      <th>obscene</th>\n",
              "      <th>identity_attack</th>\n",
              "      <th>insult</th>\n",
              "      <th>threat</th>\n",
              "      <th>created_date</th>\n",
              "      <th>sexual_explicit</th>\n",
              "      <th>comment_text_tokenized_tab</th>\n",
              "    </tr>\n",
              "  </thead>\n",
              "  <tbody>\n",
              "    <tr>\n",
              "      <th>0</th>\n",
              "      <td>1</td>\n",
              "      <td>1</td>\n",
              "      <td>0</td>\n",
              "      <td>0</td>\n",
              "      <td>0</td>\n",
              "      <td>2017-04-10 23:30:10.076014+00:00</td>\n",
              "      <td>1</td>\n",
              "      <td>stick\\tdick\\tanyone\\t's\\tbutt\\tlaw</td>\n",
              "    </tr>\n",
              "    <tr>\n",
              "      <th>1</th>\n",
              "      <td>1</td>\n",
              "      <td>1</td>\n",
              "      <td>0</td>\n",
              "      <td>1</td>\n",
              "      <td>0</td>\n",
              "      <td>2017-06-08 18:24:06.236150+00:00</td>\n",
              "      <td>1</td>\n",
              "      <td>bet\\tfat\\tbitter\\tlittle\\tnerd\\tass\\twait\\tday...</td>\n",
              "    </tr>\n",
              "    <tr>\n",
              "      <th>2</th>\n",
              "      <td>1</td>\n",
              "      <td>0</td>\n",
              "      <td>0</td>\n",
              "      <td>1</td>\n",
              "      <td>1</td>\n",
              "      <td>2017-05-23 18:10:27.505027+00:00</td>\n",
              "      <td>0</td>\n",
              "      <td>hope\\tdie\\ttoday\\tworld\\tmuch\\twell\\twithout\\t...</td>\n",
              "    </tr>\n",
              "    <tr>\n",
              "      <th>3</th>\n",
              "      <td>1</td>\n",
              "      <td>0</td>\n",
              "      <td>0</td>\n",
              "      <td>0</td>\n",
              "      <td>1</td>\n",
              "      <td>2017-06-26 21:37:55.561744+00:00</td>\n",
              "      <td>0</td>\n",
              "      <td>let\\tdie\\tmaybe\\tbuild\\tconcentration\\tcamp\\tg...</td>\n",
              "    </tr>\n",
              "    <tr>\n",
              "      <th>4</th>\n",
              "      <td>1</td>\n",
              "      <td>0</td>\n",
              "      <td>0</td>\n",
              "      <td>1</td>\n",
              "      <td>1</td>\n",
              "      <td>2017-07-13 21:15:03.037890+00:00</td>\n",
              "      <td>0</td>\n",
              "      <td>shoot\\tpermanent\\tsolution\\tcreature\\twaste\\ts...</td>\n",
              "    </tr>\n",
              "  </tbody>\n",
              "</table>\n",
              "</div>"
            ],
            "text/plain": [
              "   toxicity  obscene  identity_attack  insult  threat  \\\n",
              "0         1        1                0       0       0   \n",
              "1         1        1                0       1       0   \n",
              "2         1        0                0       1       1   \n",
              "3         1        0                0       0       1   \n",
              "4         1        0                0       1       1   \n",
              "\n",
              "                      created_date  sexual_explicit  \\\n",
              "0 2017-04-10 23:30:10.076014+00:00                1   \n",
              "1 2017-06-08 18:24:06.236150+00:00                1   \n",
              "2 2017-05-23 18:10:27.505027+00:00                0   \n",
              "3 2017-06-26 21:37:55.561744+00:00                0   \n",
              "4 2017-07-13 21:15:03.037890+00:00                0   \n",
              "\n",
              "                          comment_text_tokenized_tab  \n",
              "0                 stick\\tdick\\tanyone\\t's\\tbutt\\tlaw  \n",
              "1  bet\\tfat\\tbitter\\tlittle\\tnerd\\tass\\twait\\tday...  \n",
              "2  hope\\tdie\\ttoday\\tworld\\tmuch\\twell\\twithout\\t...  \n",
              "3  let\\tdie\\tmaybe\\tbuild\\tconcentration\\tcamp\\tg...  \n",
              "4  shoot\\tpermanent\\tsolution\\tcreature\\twaste\\ts...  "
            ]
          },
          "execution_count": 6,
          "metadata": {},
          "output_type": "execute_result"
        }
      ],
      "source": [
        "df = df.dropna(subset='comment_text').sort_values(by='toxicity_annotator_count', ascending=False).drop_duplicates(subset='comment_text', keep='first').reset_index(drop=True)\n",
        "df = df.drop(['comment_text', 'toxicity_annotator_count'], axis=1)\n",
        "\n",
        "df['comment_text_tokenized_tab'] = df['comment_text_tokenized_tab'].fillna('').astype('str')\n",
        "\n",
        "df = df[df['created_date'] >= '2016-06-01'].reset_index(drop=True)\n",
        "\n",
        "for col in toxicity_cols:\n",
        "    df[col] = np.where(df[col] >= 0.4, 1, 0).astype('uint8')\n",
        "\n",
        "df.head()"
      ]
    },
    {
      "cell_type": "code",
      "execution_count": null,
      "metadata": {
        "id": "Pp_Cn99ERq-c",
        "tags": []
      },
      "outputs": [],
      "source": [
        "test_split_date = df['created_date'].quantile(0.8)\n",
        "test_split_mask = (df['created_date'] >= test_split_date)\n",
        "\n",
        "validation_split_date = df[~test_split_mask]['created_date'].quantile(0.8)\n",
        "validation_split_mask = (df[~test_split_mask]['created_date'] >= validation_split_date)\n",
        "\n",
        "text_col = 'comment_text_tokenized_tab'\n",
        "\n",
        "X, y = df[text_col], df[toxicity_cols]\n",
        "\n",
        "X_train, y_train, X_test, y_test = (df[text_col][~test_split_mask],\n",
        "                                    df[toxicity_cols][~test_split_mask],\n",
        "                                    df[text_col][test_split_mask],\n",
        "                                    df[toxicity_cols][test_split_mask])\n",
        "\n",
        "X_train, y_train, X_val, y_val = (X_train[~validation_split_mask],\n",
        "                                  y_train[~validation_split_mask],\n",
        "                                  X_train[validation_split_mask],\n",
        "                                  y_train[validation_split_mask])"
      ]
    },
    {
      "cell_type": "code",
      "execution_count": null,
      "metadata": {
        "id": "FEkvbXZlf1Gs",
        "tags": []
      },
      "outputs": [],
      "source": [
        "from sklearn.feature_extraction.text import CountVectorizer, TfidfVectorizer, TfidfTransformer\n",
        "from sklearn.metrics import precision_score, recall_score, f1_score, confusion_matrix, roc_curve, precision_recall_curve, auc, roc_auc_score, classification_report, average_precision_score\n",
        "\n",
        "from sklearn.multiclass import OneVsRestClassifier\n",
        "from sklearn.multioutput import MultiOutputClassifier\n",
        "\n",
        "from sklearn.linear_model import LogisticRegression\n",
        "\n",
        "from gensim.models import Word2Vec, KeyedVectors\n",
        "import gensim.downloader\n",
        "\n",
        "from functools import partial\n",
        "from tqdm import tqdm\n",
        "tqdm.pandas()"
      ]
    },
    {
      "cell_type": "markdown",
      "metadata": {
        "id": "6_NyCmmBNqL2"
      },
      "source": [
        "## Word2Vec pretrained (google-news-300)"
      ]
    },
    {
      "cell_type": "code",
      "execution_count": null,
      "metadata": {
        "id": "3mhBGbnDLcHl",
        "tags": []
      },
      "outputs": [],
      "source": [
        "# list(gensim.downloader.info()['models'].keys())"
      ]
    },
    {
      "cell_type": "code",
      "execution_count": null,
      "metadata": {
        "colab": {
          "base_uri": "https://localhost:8080/",
          "height": 35
        },
        "id": "Om_PeNFaLpMP",
        "outputId": "7a83a052-639f-496e-cdc1-cb4edae40223",
        "tags": []
      },
      "outputs": [
        {
          "data": {
            "text/plain": [
              "'./word2vec-google-news-300.gz'"
            ]
          },
          "execution_count": 10,
          "metadata": {},
          "output_type": "execute_result"
        }
      ],
      "source": [
        "# gn300_path = gensim.downloader.load('word2vec-google-news-300', return_path=True)\n",
        "gn300_path = './word2vec-google-news-300.gz'\n",
        "gn300_path"
      ]
    },
    {
      "cell_type": "code",
      "execution_count": null,
      "metadata": {
        "id": "vrOgemXMQjJr",
        "tags": []
      },
      "outputs": [],
      "source": [
        "word_vectors = KeyedVectors.load_word2vec_format(gn300_path, binary=True)"
      ]
    },
    {
      "cell_type": "code",
      "execution_count": null,
      "metadata": {
        "colab": {
          "base_uri": "https://localhost:8080/"
        },
        "id": "YHg6fUjkQl-R",
        "outputId": "2ac7f9b2-9f21-4493-c62e-185cdede8fd6",
        "tags": []
      },
      "outputs": [
        {
          "data": {
            "text/plain": [
              "(3000000, 300)"
            ]
          },
          "execution_count": 12,
          "metadata": {},
          "output_type": "execute_result"
        }
      ],
      "source": [
        "len(word_vectors), word_vectors.vector_size"
      ]
    },
    {
      "cell_type": "markdown",
      "metadata": {
        "id": "eru8no-vKXMR"
      },
      "source": [
        "### Averaging token embeddings"
      ]
    },
    {
      "cell_type": "code",
      "execution_count": null,
      "metadata": {
        "id": "YS2nC938iho4",
        "tags": []
      },
      "outputs": [],
      "source": [
        "def tokenized_text_to_vec(text, emb_dict, emb_dim, token_sep='\\t'):\n",
        "    words = text.split(token_sep)\n",
        "    vecs = [emb_dict[word] for word in words if word in emb_dict]\n",
        "    return np.mean(vecs, axis=0) if vecs else np.zeros(emb_dim)"
      ]
    },
    {
      "cell_type": "code",
      "execution_count": null,
      "metadata": {
        "colab": {
          "base_uri": "https://localhost:8080/",
          "height": 81,
          "referenced_widgets": [
            "4cda5b31dfa7488ea4a34fc5185680c4",
            "a2e413af725642b5b14d783efdabdc9a",
            "18b241d2882e47f99acd72266a3fd309",
            "fce8df36590d4d2a9a4752824823d435",
            "8f95c20bb8c94120a1370bb62a6b40e1",
            "edcb04ddd6544c76ac95d2a5732fc980",
            "0c4487052a7c45919dffa8c75f4331d9",
            "be53e23d6c92497aaeb362e64a27531d",
            "4190da204a354ff584433aa9acec42bd",
            "51e637a59c7244ce86ea6f5657b0acb2",
            "87ce5e4faef4400e8753da54169d43e0",
            "d3d7fcc7de9d43c28caa3db72ef6a5ea",
            "f8b3144d000e4e0dbc1fa357bde3938a",
            "f113a6c32e444ffcbc671e8ff6d0e6e3",
            "3365ca02ffeb4c7bb4b163f32666aa88",
            "096b1e037a6d4b5e841cbfd15f04cabd",
            "51f543f87cf043f98460632bee648f41",
            "6e547496e8614cccabb51622bb29f2d9",
            "693dd3b6742c44d1953b78f36e7c3f94",
            "1044d6dca5bb4fc595ef35511e492640",
            "79aea13aaf0a4bbf94cf7609172a1a34",
            "d0c127d68a2146348f1f4e723ee45130"
          ]
        },
        "id": "TwFrxU6NnGlo",
        "outputId": "d57912d0-bd3b-4ced-e73a-6e8c2b5d2fc8",
        "tags": []
      },
      "outputs": [
        {
          "name": "stderr",
          "output_type": "stream",
          "text": [
            "100%|██████████| 1092918/1092918 [01:18<00:00, 13874.13it/s]\n",
            "100%|██████████| 273230/273230 [00:18<00:00, 14799.37it/s]\n"
          ]
        }
      ],
      "source": [
        "X_train_wv = np.vstack(X_train.progress_apply(tokenized_text_to_vec, emb_dict=word_vectors, emb_dim=word_vectors.vector_size).values)\n",
        "X_val_wv = np.vstack(X_val.progress_apply(tokenized_text_to_vec, emb_dict=word_vectors, emb_dim=word_vectors.vector_size).values)"
      ]
    },
    {
      "cell_type": "code",
      "execution_count": null,
      "metadata": {
        "id": "km99bQdDNR5f",
        "tags": [],
        "outputId": "98c5299d-0f2a-426e-d5e3-f36ac8f0757c"
      },
      "outputs": [
        {
          "name": "stdout",
          "output_type": "stream",
          "text": [
            "CPU times: user 4min 11s, sys: 15min 38s, total: 19min 50s\n",
            "Wall time: 1min 40s\n"
          ]
        }
      ],
      "source": [
        "%%time\n",
        "lr = LogisticRegression().fit(X_train_wv, y_train['toxicity'])"
      ]
    },
    {
      "cell_type": "code",
      "execution_count": null,
      "metadata": {
        "colab": {
          "base_uri": "https://localhost:8080/"
        },
        "id": "13cZQ64_O1gi",
        "outputId": "9fc350f4-28ee-41e3-94c9-a6984c1bce9a",
        "tags": []
      },
      "outputs": [
        {
          "data": {
            "text/plain": [
              "0.28021477539671125"
            ]
          },
          "execution_count": 16,
          "metadata": {},
          "output_type": "execute_result"
        }
      ],
      "source": [
        "f1_score(y_val['toxicity'], lr.predict(X_val_wv))"
      ]
    },
    {
      "cell_type": "code",
      "execution_count": null,
      "metadata": {
        "colab": {
          "base_uri": "https://localhost:8080/"
        },
        "id": "7tEUwk_CO1gj",
        "outputId": "3f2f3eea-8030-4458-b0ae-979619df3d71",
        "tags": []
      },
      "outputs": [
        {
          "data": {
            "text/plain": [
              "0.8456670429986215"
            ]
          },
          "execution_count": 17,
          "metadata": {},
          "output_type": "execute_result"
        }
      ],
      "source": [
        "roc_auc_score(y_val['toxicity'], lr.predict_proba(X_val_wv)[:, 1])"
      ]
    },
    {
      "cell_type": "code",
      "execution_count": null,
      "metadata": {
        "id": "pB63bmBRS8HK"
      },
      "outputs": [],
      "source": [
        "del X_train_wv\n",
        "del X_val_wv"
      ]
    },
    {
      "cell_type": "markdown",
      "metadata": {
        "id": "GUuyY4LIKmjF"
      },
      "source": [
        "### Tf-Idf'ing token embeddings"
      ]
    },
    {
      "cell_type": "code",
      "execution_count": null,
      "metadata": {
        "id": "sROp28lM_w5L"
      },
      "outputs": [],
      "source": [
        "def get_corpus_embs_tfidf(corpus, emb_dict, emb_dim, tfidf_vectorizer):\n",
        "    tfidf = tfidf_vectorizer.transform(corpus)\n",
        "    features = tfidf_vectorizer.get_feature_names_out()\n",
        "    features_embs = np.array([emb_dict[word] if word in emb_dict else np.zeros(emb_dim) for word in features])\n",
        "\n",
        "    weighted_embs = tfidf @ features_embs\n",
        "\n",
        "    norms = np.linalg.norm(weighted_embs, axis=1, keepdims=True)\n",
        "    weighted_embs = np.divide(weighted_embs, norms, where=norms>0)\n",
        "\n",
        "    return weighted_embs"
      ]
    },
    {
      "cell_type": "code",
      "execution_count": null,
      "metadata": {
        "colab": {
          "base_uri": "https://localhost:8080/",
          "height": 132
        },
        "id": "Xkofia-himN-",
        "outputId": "8fdf9409-bfb2-4b31-dbe7-b1cae6bc06ba"
      },
      "outputs": [
        {
          "name": "stdout",
          "output_type": "stream",
          "text": [
            "CPU times: user 14.3 s, sys: 162 ms, total: 14.4 s\n",
            "Wall time: 14.5 s\n"
          ]
        },
        {
          "data": {
            "text/html": [
              "<style>#sk-container-id-1 {\n",
              "  /* Definition of color scheme common for light and dark mode */\n",
              "  --sklearn-color-text: #000;\n",
              "  --sklearn-color-text-muted: #666;\n",
              "  --sklearn-color-line: gray;\n",
              "  /* Definition of color scheme for unfitted estimators */\n",
              "  --sklearn-color-unfitted-level-0: #fff5e6;\n",
              "  --sklearn-color-unfitted-level-1: #f6e4d2;\n",
              "  --sklearn-color-unfitted-level-2: #ffe0b3;\n",
              "  --sklearn-color-unfitted-level-3: chocolate;\n",
              "  /* Definition of color scheme for fitted estimators */\n",
              "  --sklearn-color-fitted-level-0: #f0f8ff;\n",
              "  --sklearn-color-fitted-level-1: #d4ebff;\n",
              "  --sklearn-color-fitted-level-2: #b3dbfd;\n",
              "  --sklearn-color-fitted-level-3: cornflowerblue;\n",
              "\n",
              "  /* Specific color for light theme */\n",
              "  --sklearn-color-text-on-default-background: var(--sg-text-color, var(--theme-code-foreground, var(--jp-content-font-color1, black)));\n",
              "  --sklearn-color-background: var(--sg-background-color, var(--theme-background, var(--jp-layout-color0, white)));\n",
              "  --sklearn-color-border-box: var(--sg-text-color, var(--theme-code-foreground, var(--jp-content-font-color1, black)));\n",
              "  --sklearn-color-icon: #696969;\n",
              "\n",
              "  @media (prefers-color-scheme: dark) {\n",
              "    /* Redefinition of color scheme for dark theme */\n",
              "    --sklearn-color-text-on-default-background: var(--sg-text-color, var(--theme-code-foreground, var(--jp-content-font-color1, white)));\n",
              "    --sklearn-color-background: var(--sg-background-color, var(--theme-background, var(--jp-layout-color0, #111)));\n",
              "    --sklearn-color-border-box: var(--sg-text-color, var(--theme-code-foreground, var(--jp-content-font-color1, white)));\n",
              "    --sklearn-color-icon: #878787;\n",
              "  }\n",
              "}\n",
              "\n",
              "#sk-container-id-1 {\n",
              "  color: var(--sklearn-color-text);\n",
              "}\n",
              "\n",
              "#sk-container-id-1 pre {\n",
              "  padding: 0;\n",
              "}\n",
              "\n",
              "#sk-container-id-1 input.sk-hidden--visually {\n",
              "  border: 0;\n",
              "  clip: rect(1px 1px 1px 1px);\n",
              "  clip: rect(1px, 1px, 1px, 1px);\n",
              "  height: 1px;\n",
              "  margin: -1px;\n",
              "  overflow: hidden;\n",
              "  padding: 0;\n",
              "  position: absolute;\n",
              "  width: 1px;\n",
              "}\n",
              "\n",
              "#sk-container-id-1 div.sk-dashed-wrapped {\n",
              "  border: 1px dashed var(--sklearn-color-line);\n",
              "  margin: 0 0.4em 0.5em 0.4em;\n",
              "  box-sizing: border-box;\n",
              "  padding-bottom: 0.4em;\n",
              "  background-color: var(--sklearn-color-background);\n",
              "}\n",
              "\n",
              "#sk-container-id-1 div.sk-container {\n",
              "  /* jupyter's `normalize.less` sets `[hidden] { display: none; }`\n",
              "     but bootstrap.min.css set `[hidden] { display: none !important; }`\n",
              "     so we also need the `!important` here to be able to override the\n",
              "     default hidden behavior on the sphinx rendered scikit-learn.org.\n",
              "     See: https://github.com/scikit-learn/scikit-learn/issues/21755 */\n",
              "  display: inline-block !important;\n",
              "  position: relative;\n",
              "}\n",
              "\n",
              "#sk-container-id-1 div.sk-text-repr-fallback {\n",
              "  display: none;\n",
              "}\n",
              "\n",
              "div.sk-parallel-item,\n",
              "div.sk-serial,\n",
              "div.sk-item {\n",
              "  /* draw centered vertical line to link estimators */\n",
              "  background-image: linear-gradient(var(--sklearn-color-text-on-default-background), var(--sklearn-color-text-on-default-background));\n",
              "  background-size: 2px 100%;\n",
              "  background-repeat: no-repeat;\n",
              "  background-position: center center;\n",
              "}\n",
              "\n",
              "/* Parallel-specific style estimator block */\n",
              "\n",
              "#sk-container-id-1 div.sk-parallel-item::after {\n",
              "  content: \"\";\n",
              "  width: 100%;\n",
              "  border-bottom: 2px solid var(--sklearn-color-text-on-default-background);\n",
              "  flex-grow: 1;\n",
              "}\n",
              "\n",
              "#sk-container-id-1 div.sk-parallel {\n",
              "  display: flex;\n",
              "  align-items: stretch;\n",
              "  justify-content: center;\n",
              "  background-color: var(--sklearn-color-background);\n",
              "  position: relative;\n",
              "}\n",
              "\n",
              "#sk-container-id-1 div.sk-parallel-item {\n",
              "  display: flex;\n",
              "  flex-direction: column;\n",
              "}\n",
              "\n",
              "#sk-container-id-1 div.sk-parallel-item:first-child::after {\n",
              "  align-self: flex-end;\n",
              "  width: 50%;\n",
              "}\n",
              "\n",
              "#sk-container-id-1 div.sk-parallel-item:last-child::after {\n",
              "  align-self: flex-start;\n",
              "  width: 50%;\n",
              "}\n",
              "\n",
              "#sk-container-id-1 div.sk-parallel-item:only-child::after {\n",
              "  width: 0;\n",
              "}\n",
              "\n",
              "/* Serial-specific style estimator block */\n",
              "\n",
              "#sk-container-id-1 div.sk-serial {\n",
              "  display: flex;\n",
              "  flex-direction: column;\n",
              "  align-items: center;\n",
              "  background-color: var(--sklearn-color-background);\n",
              "  padding-right: 1em;\n",
              "  padding-left: 1em;\n",
              "}\n",
              "\n",
              "\n",
              "/* Toggleable style: style used for estimator/Pipeline/ColumnTransformer box that is\n",
              "clickable and can be expanded/collapsed.\n",
              "- Pipeline and ColumnTransformer use this feature and define the default style\n",
              "- Estimators will overwrite some part of the style using the `sk-estimator` class\n",
              "*/\n",
              "\n",
              "/* Pipeline and ColumnTransformer style (default) */\n",
              "\n",
              "#sk-container-id-1 div.sk-toggleable {\n",
              "  /* Default theme specific background. It is overwritten whether we have a\n",
              "  specific estimator or a Pipeline/ColumnTransformer */\n",
              "  background-color: var(--sklearn-color-background);\n",
              "}\n",
              "\n",
              "/* Toggleable label */\n",
              "#sk-container-id-1 label.sk-toggleable__label {\n",
              "  cursor: pointer;\n",
              "  display: flex;\n",
              "  width: 100%;\n",
              "  margin-bottom: 0;\n",
              "  padding: 0.5em;\n",
              "  box-sizing: border-box;\n",
              "  text-align: center;\n",
              "  align-items: start;\n",
              "  justify-content: space-between;\n",
              "  gap: 0.5em;\n",
              "}\n",
              "\n",
              "#sk-container-id-1 label.sk-toggleable__label .caption {\n",
              "  font-size: 0.6rem;\n",
              "  font-weight: lighter;\n",
              "  color: var(--sklearn-color-text-muted);\n",
              "}\n",
              "\n",
              "#sk-container-id-1 label.sk-toggleable__label-arrow:before {\n",
              "  /* Arrow on the left of the label */\n",
              "  content: \"▸\";\n",
              "  float: left;\n",
              "  margin-right: 0.25em;\n",
              "  color: var(--sklearn-color-icon);\n",
              "}\n",
              "\n",
              "#sk-container-id-1 label.sk-toggleable__label-arrow:hover:before {\n",
              "  color: var(--sklearn-color-text);\n",
              "}\n",
              "\n",
              "/* Toggleable content - dropdown */\n",
              "\n",
              "#sk-container-id-1 div.sk-toggleable__content {\n",
              "  max-height: 0;\n",
              "  max-width: 0;\n",
              "  overflow: hidden;\n",
              "  text-align: left;\n",
              "  /* unfitted */\n",
              "  background-color: var(--sklearn-color-unfitted-level-0);\n",
              "}\n",
              "\n",
              "#sk-container-id-1 div.sk-toggleable__content.fitted {\n",
              "  /* fitted */\n",
              "  background-color: var(--sklearn-color-fitted-level-0);\n",
              "}\n",
              "\n",
              "#sk-container-id-1 div.sk-toggleable__content pre {\n",
              "  margin: 0.2em;\n",
              "  border-radius: 0.25em;\n",
              "  color: var(--sklearn-color-text);\n",
              "  /* unfitted */\n",
              "  background-color: var(--sklearn-color-unfitted-level-0);\n",
              "}\n",
              "\n",
              "#sk-container-id-1 div.sk-toggleable__content.fitted pre {\n",
              "  /* unfitted */\n",
              "  background-color: var(--sklearn-color-fitted-level-0);\n",
              "}\n",
              "\n",
              "#sk-container-id-1 input.sk-toggleable__control:checked~div.sk-toggleable__content {\n",
              "  /* Expand drop-down */\n",
              "  max-height: 200px;\n",
              "  max-width: 100%;\n",
              "  overflow: auto;\n",
              "}\n",
              "\n",
              "#sk-container-id-1 input.sk-toggleable__control:checked~label.sk-toggleable__label-arrow:before {\n",
              "  content: \"▾\";\n",
              "}\n",
              "\n",
              "/* Pipeline/ColumnTransformer-specific style */\n",
              "\n",
              "#sk-container-id-1 div.sk-label input.sk-toggleable__control:checked~label.sk-toggleable__label {\n",
              "  color: var(--sklearn-color-text);\n",
              "  background-color: var(--sklearn-color-unfitted-level-2);\n",
              "}\n",
              "\n",
              "#sk-container-id-1 div.sk-label.fitted input.sk-toggleable__control:checked~label.sk-toggleable__label {\n",
              "  background-color: var(--sklearn-color-fitted-level-2);\n",
              "}\n",
              "\n",
              "/* Estimator-specific style */\n",
              "\n",
              "/* Colorize estimator box */\n",
              "#sk-container-id-1 div.sk-estimator input.sk-toggleable__control:checked~label.sk-toggleable__label {\n",
              "  /* unfitted */\n",
              "  background-color: var(--sklearn-color-unfitted-level-2);\n",
              "}\n",
              "\n",
              "#sk-container-id-1 div.sk-estimator.fitted input.sk-toggleable__control:checked~label.sk-toggleable__label {\n",
              "  /* fitted */\n",
              "  background-color: var(--sklearn-color-fitted-level-2);\n",
              "}\n",
              "\n",
              "#sk-container-id-1 div.sk-label label.sk-toggleable__label,\n",
              "#sk-container-id-1 div.sk-label label {\n",
              "  /* The background is the default theme color */\n",
              "  color: var(--sklearn-color-text-on-default-background);\n",
              "}\n",
              "\n",
              "/* On hover, darken the color of the background */\n",
              "#sk-container-id-1 div.sk-label:hover label.sk-toggleable__label {\n",
              "  color: var(--sklearn-color-text);\n",
              "  background-color: var(--sklearn-color-unfitted-level-2);\n",
              "}\n",
              "\n",
              "/* Label box, darken color on hover, fitted */\n",
              "#sk-container-id-1 div.sk-label.fitted:hover label.sk-toggleable__label.fitted {\n",
              "  color: var(--sklearn-color-text);\n",
              "  background-color: var(--sklearn-color-fitted-level-2);\n",
              "}\n",
              "\n",
              "/* Estimator label */\n",
              "\n",
              "#sk-container-id-1 div.sk-label label {\n",
              "  font-family: monospace;\n",
              "  font-weight: bold;\n",
              "  display: inline-block;\n",
              "  line-height: 1.2em;\n",
              "}\n",
              "\n",
              "#sk-container-id-1 div.sk-label-container {\n",
              "  text-align: center;\n",
              "}\n",
              "\n",
              "/* Estimator-specific */\n",
              "#sk-container-id-1 div.sk-estimator {\n",
              "  font-family: monospace;\n",
              "  border: 1px dotted var(--sklearn-color-border-box);\n",
              "  border-radius: 0.25em;\n",
              "  box-sizing: border-box;\n",
              "  margin-bottom: 0.5em;\n",
              "  /* unfitted */\n",
              "  background-color: var(--sklearn-color-unfitted-level-0);\n",
              "}\n",
              "\n",
              "#sk-container-id-1 div.sk-estimator.fitted {\n",
              "  /* fitted */\n",
              "  background-color: var(--sklearn-color-fitted-level-0);\n",
              "}\n",
              "\n",
              "/* on hover */\n",
              "#sk-container-id-1 div.sk-estimator:hover {\n",
              "  /* unfitted */\n",
              "  background-color: var(--sklearn-color-unfitted-level-2);\n",
              "}\n",
              "\n",
              "#sk-container-id-1 div.sk-estimator.fitted:hover {\n",
              "  /* fitted */\n",
              "  background-color: var(--sklearn-color-fitted-level-2);\n",
              "}\n",
              "\n",
              "/* Specification for estimator info (e.g. \"i\" and \"?\") */\n",
              "\n",
              "/* Common style for \"i\" and \"?\" */\n",
              "\n",
              ".sk-estimator-doc-link,\n",
              "a:link.sk-estimator-doc-link,\n",
              "a:visited.sk-estimator-doc-link {\n",
              "  float: right;\n",
              "  font-size: smaller;\n",
              "  line-height: 1em;\n",
              "  font-family: monospace;\n",
              "  background-color: var(--sklearn-color-background);\n",
              "  border-radius: 1em;\n",
              "  height: 1em;\n",
              "  width: 1em;\n",
              "  text-decoration: none !important;\n",
              "  margin-left: 0.5em;\n",
              "  text-align: center;\n",
              "  /* unfitted */\n",
              "  border: var(--sklearn-color-unfitted-level-1) 1pt solid;\n",
              "  color: var(--sklearn-color-unfitted-level-1);\n",
              "}\n",
              "\n",
              ".sk-estimator-doc-link.fitted,\n",
              "a:link.sk-estimator-doc-link.fitted,\n",
              "a:visited.sk-estimator-doc-link.fitted {\n",
              "  /* fitted */\n",
              "  border: var(--sklearn-color-fitted-level-1) 1pt solid;\n",
              "  color: var(--sklearn-color-fitted-level-1);\n",
              "}\n",
              "\n",
              "/* On hover */\n",
              "div.sk-estimator:hover .sk-estimator-doc-link:hover,\n",
              ".sk-estimator-doc-link:hover,\n",
              "div.sk-label-container:hover .sk-estimator-doc-link:hover,\n",
              ".sk-estimator-doc-link:hover {\n",
              "  /* unfitted */\n",
              "  background-color: var(--sklearn-color-unfitted-level-3);\n",
              "  color: var(--sklearn-color-background);\n",
              "  text-decoration: none;\n",
              "}\n",
              "\n",
              "div.sk-estimator.fitted:hover .sk-estimator-doc-link.fitted:hover,\n",
              ".sk-estimator-doc-link.fitted:hover,\n",
              "div.sk-label-container:hover .sk-estimator-doc-link.fitted:hover,\n",
              ".sk-estimator-doc-link.fitted:hover {\n",
              "  /* fitted */\n",
              "  background-color: var(--sklearn-color-fitted-level-3);\n",
              "  color: var(--sklearn-color-background);\n",
              "  text-decoration: none;\n",
              "}\n",
              "\n",
              "/* Span, style for the box shown on hovering the info icon */\n",
              ".sk-estimator-doc-link span {\n",
              "  display: none;\n",
              "  z-index: 9999;\n",
              "  position: relative;\n",
              "  font-weight: normal;\n",
              "  right: .2ex;\n",
              "  padding: .5ex;\n",
              "  margin: .5ex;\n",
              "  width: min-content;\n",
              "  min-width: 20ex;\n",
              "  max-width: 50ex;\n",
              "  color: var(--sklearn-color-text);\n",
              "  box-shadow: 2pt 2pt 4pt #999;\n",
              "  /* unfitted */\n",
              "  background: var(--sklearn-color-unfitted-level-0);\n",
              "  border: .5pt solid var(--sklearn-color-unfitted-level-3);\n",
              "}\n",
              "\n",
              ".sk-estimator-doc-link.fitted span {\n",
              "  /* fitted */\n",
              "  background: var(--sklearn-color-fitted-level-0);\n",
              "  border: var(--sklearn-color-fitted-level-3);\n",
              "}\n",
              "\n",
              ".sk-estimator-doc-link:hover span {\n",
              "  display: block;\n",
              "}\n",
              "\n",
              "/* \"?\"-specific style due to the `<a>` HTML tag */\n",
              "\n",
              "#sk-container-id-1 a.estimator_doc_link {\n",
              "  float: right;\n",
              "  font-size: 1rem;\n",
              "  line-height: 1em;\n",
              "  font-family: monospace;\n",
              "  background-color: var(--sklearn-color-background);\n",
              "  border-radius: 1rem;\n",
              "  height: 1rem;\n",
              "  width: 1rem;\n",
              "  text-decoration: none;\n",
              "  /* unfitted */\n",
              "  color: var(--sklearn-color-unfitted-level-1);\n",
              "  border: var(--sklearn-color-unfitted-level-1) 1pt solid;\n",
              "}\n",
              "\n",
              "#sk-container-id-1 a.estimator_doc_link.fitted {\n",
              "  /* fitted */\n",
              "  border: var(--sklearn-color-fitted-level-1) 1pt solid;\n",
              "  color: var(--sklearn-color-fitted-level-1);\n",
              "}\n",
              "\n",
              "/* On hover */\n",
              "#sk-container-id-1 a.estimator_doc_link:hover {\n",
              "  /* unfitted */\n",
              "  background-color: var(--sklearn-color-unfitted-level-3);\n",
              "  color: var(--sklearn-color-background);\n",
              "  text-decoration: none;\n",
              "}\n",
              "\n",
              "#sk-container-id-1 a.estimator_doc_link.fitted:hover {\n",
              "  /* fitted */\n",
              "  background-color: var(--sklearn-color-fitted-level-3);\n",
              "}\n",
              "</style><div id=\"sk-container-id-1\" class=\"sk-top-container\"><div class=\"sk-text-repr-fallback\"><pre>TfidfVectorizer(lowercase=False, token_pattern=None,\n",
              "                tokenizer=&lt;function &lt;lambda&gt; at 0x7fce1f601fc0&gt;)</pre><b>In a Jupyter environment, please rerun this cell to show the HTML representation or trust the notebook. <br />On GitHub, the HTML representation is unable to render, please try loading this page with nbviewer.org.</b></div><div class=\"sk-container\" hidden><div class=\"sk-item\"><div class=\"sk-estimator fitted sk-toggleable\"><input class=\"sk-toggleable__control sk-hidden--visually\" id=\"sk-estimator-id-1\" type=\"checkbox\" checked><label for=\"sk-estimator-id-1\" class=\"sk-toggleable__label fitted sk-toggleable__label-arrow\"><div><div>TfidfVectorizer</div></div><div><a class=\"sk-estimator-doc-link fitted\" rel=\"noreferrer\" target=\"_blank\" href=\"https://scikit-learn.org/1.6/modules/generated/sklearn.feature_extraction.text.TfidfVectorizer.html\">?<span>Documentation for TfidfVectorizer</span></a><span class=\"sk-estimator-doc-link fitted\">i<span>Fitted</span></span></div></label><div class=\"sk-toggleable__content fitted\"><pre>TfidfVectorizer(lowercase=False, token_pattern=None,\n",
              "                tokenizer=&lt;function &lt;lambda&gt; at 0x7fce1f601fc0&gt;)</pre></div> </div></div></div></div>"
            ],
            "text/plain": [
              "TfidfVectorizer(lowercase=False, token_pattern=None,\n",
              "                tokenizer=<function <lambda> at 0x7fce1f601fc0>)"
            ]
          },
          "execution_count": 20,
          "metadata": {},
          "output_type": "execute_result"
        }
      ],
      "source": [
        "%%time\n",
        "vec = TfidfVectorizer(ngram_range=(1, 1),\n",
        "                      tokenizer=lambda x: x.split('\\t'),\n",
        "                      strip_accents=None,\n",
        "                      lowercase=False,\n",
        "                      preprocessor=None,\n",
        "                      stop_words=None,\n",
        "                      token_pattern=None)\n",
        "vec.fit(X_train)"
      ]
    },
    {
      "cell_type": "code",
      "execution_count": null,
      "metadata": {
        "id": "A2-ImLv9EDEJ",
        "outputId": "dd4cdd4c-c214-4ba9-a632-4fc7476cdacb"
      },
      "outputs": [
        {
          "name": "stdout",
          "output_type": "stream",
          "text": [
            "CPU times: user 28.5 s, sys: 5.93 s, total: 34.5 s\n",
            "Wall time: 34.6 s\n"
          ]
        }
      ],
      "source": [
        "%%time\n",
        "X_train_wv_tfidf = get_corpus_embs_tfidf(X_train, word_vectors, word_vectors.vector_size, vec)\n",
        "X_val_wv_tfidf = get_corpus_embs_tfidf(X_val, word_vectors, word_vectors.vector_size, vec)"
      ]
    },
    {
      "cell_type": "code",
      "execution_count": null,
      "metadata": {
        "id": "81zq5JRmjFDm",
        "outputId": "f8d2b56e-cc85-49de-fbfc-85f1f2ba5711"
      },
      "outputs": [
        {
          "name": "stdout",
          "output_type": "stream",
          "text": [
            "CPU times: user 5min 56s, sys: 9min 33s, total: 15min 30s\n",
            "Wall time: 1min 18s\n"
          ]
        }
      ],
      "source": [
        "%%time\n",
        "lr = LogisticRegression().fit(X_train_wv_tfidf, y_train['toxicity'])"
      ]
    },
    {
      "cell_type": "code",
      "execution_count": null,
      "metadata": {
        "id": "OMKFnM1FjFDn",
        "outputId": "798557ab-1192-4e50-83e8-207a08c25afa"
      },
      "outputs": [
        {
          "data": {
            "text/plain": [
              "0.413797640454366"
            ]
          },
          "execution_count": 23,
          "metadata": {},
          "output_type": "execute_result"
        }
      ],
      "source": [
        "f1_score(y_val['toxicity'], lr.predict(X_val_wv_tfidf))"
      ]
    },
    {
      "cell_type": "code",
      "execution_count": null,
      "metadata": {
        "id": "vL9G4Kz8jFDn",
        "outputId": "55c44aaa-5186-4de9-f74a-6415e72f0e91"
      },
      "outputs": [
        {
          "data": {
            "text/plain": [
              "0.8684603669758275"
            ]
          },
          "execution_count": 24,
          "metadata": {},
          "output_type": "execute_result"
        }
      ],
      "source": [
        "roc_auc_score(y_val['toxicity'], lr.predict_proba(X_val_wv_tfidf)[:, 1])"
      ]
    },
    {
      "cell_type": "markdown",
      "metadata": {
        "id": "OG8FxpZJ8d_P"
      },
      "source": [
        "## Building own Word2Vec model"
      ]
    },
    {
      "cell_type": "code",
      "execution_count": null,
      "metadata": {
        "id": "vJvoyfpr8d_P",
        "outputId": "29f50ba0-2d5b-4cbd-9dbd-2530d925f35d"
      },
      "outputs": [
        {
          "data": {
            "text/plain": [
              "96"
            ]
          },
          "execution_count": 25,
          "metadata": {},
          "output_type": "execute_result"
        }
      ],
      "source": [
        "os.cpu_count()"
      ]
    },
    {
      "cell_type": "code",
      "execution_count": null,
      "metadata": {
        "id": "0I1SGgmK8d_P"
      },
      "outputs": [],
      "source": [
        "workers = 90"
      ]
    },
    {
      "cell_type": "code",
      "execution_count": null,
      "metadata": {
        "id": "MM5xDDZd-ZIM"
      },
      "outputs": [],
      "source": [
        "class SentenceIterator:\n",
        "    def __init__(self, corpus, sep='\\t'):\n",
        "        self.corpus = corpus\n",
        "        self.sep = sep\n",
        "\n",
        "    def __iter__(self):\n",
        "        for sentence in self.corpus:\n",
        "            yield sentence.split(self.sep)\n",
        "\n",
        "    def __len__(self):\n",
        "        return len(self.corpus)"
      ]
    },
    {
      "cell_type": "markdown",
      "metadata": {
        "id": "p5bgqHBT8d_P"
      },
      "source": [
        "### Default parameters"
      ]
    },
    {
      "cell_type": "code",
      "execution_count": null,
      "metadata": {
        "id": "wed_YhroJkkK",
        "outputId": "b59e2246-79a7-4555-d706-9cce02116200"
      },
      "outputs": [
        {
          "name": "stdout",
          "output_type": "stream",
          "text": [
            "CPU times: user 6min 43s, sys: 115 ms, total: 6min 43s\n",
            "Wall time: 1min 24s\n"
          ]
        }
      ],
      "source": [
        "%%time\n",
        "wv_model = Word2Vec(sentences=SentenceIterator(X_train), workers=workers)"
      ]
    },
    {
      "cell_type": "code",
      "execution_count": null,
      "metadata": {
        "id": "2Uuv8DY4K4Pv",
        "outputId": "c9f600ab-eeca-4ad7-e98a-0d4cbfb250b2"
      },
      "outputs": [
        {
          "data": {
            "text/plain": [
              "(100, 5, 5, 0, 5)"
            ]
          },
          "execution_count": 29,
          "metadata": {},
          "output_type": "execute_result"
        }
      ],
      "source": [
        "wv_model.vector_size, wv_model.window, wv_model.min_count, wv_model.sg, wv_model.epochs"
      ]
    },
    {
      "cell_type": "code",
      "execution_count": null,
      "metadata": {
        "id": "_jR2YEOgcDEU"
      },
      "outputs": [],
      "source": [
        "word_vectors = wv_model.wv\n",
        "del wv_model"
      ]
    },
    {
      "cell_type": "code",
      "execution_count": null,
      "metadata": {
        "id": "Zw8bpGuX8d_Q",
        "outputId": "7a8926b9-7f97-4ccb-eaa4-08231550b779"
      },
      "outputs": [
        {
          "data": {
            "text/plain": [
              "63603"
            ]
          },
          "execution_count": 31,
          "metadata": {},
          "output_type": "execute_result"
        }
      ],
      "source": [
        "len(word_vectors)"
      ]
    },
    {
      "cell_type": "code",
      "execution_count": null,
      "metadata": {
        "id": "NolTZjVq8d_Q",
        "outputId": "a34e4e79-1215-4a53-f79e-83deb4b25510"
      },
      "outputs": [
        {
          "name": "stdout",
          "output_type": "stream",
          "text": [
            "CPU times: user 22.6 s, sys: 1.2 s, total: 23.8 s\n",
            "Wall time: 23.8 s\n"
          ]
        }
      ],
      "source": [
        "%%time\n",
        "X_train_wv_tfidf = get_corpus_embs_tfidf(X_train, word_vectors, word_vectors.vector_size, vec)\n",
        "X_val_wv_tfidf = get_corpus_embs_tfidf(X_val, word_vectors, word_vectors.vector_size, vec)"
      ]
    },
    {
      "cell_type": "code",
      "execution_count": null,
      "metadata": {
        "id": "u2th9Zmb8d_R",
        "outputId": "43ad1725-7f84-4016-c84a-58365c1dd8a8"
      },
      "outputs": [
        {
          "name": "stdout",
          "output_type": "stream",
          "text": [
            "CPU times: user 1min 12s, sys: 1min 4s, total: 2min 17s\n",
            "Wall time: 11.6 s\n"
          ]
        }
      ],
      "source": [
        "%%time\n",
        "lr = LogisticRegression().fit(X_train_wv_tfidf, y_train['toxicity'])"
      ]
    },
    {
      "cell_type": "code",
      "execution_count": null,
      "metadata": {
        "id": "Uw8J1mq78d_R",
        "outputId": "a3addfa7-9da0-4ceb-80cd-53ca74592118"
      },
      "outputs": [
        {
          "data": {
            "text/plain": [
              "0.3016877133513165"
            ]
          },
          "execution_count": 34,
          "metadata": {},
          "output_type": "execute_result"
        }
      ],
      "source": [
        "f1_score(y_val['toxicity'], lr.predict(X_val_wv_tfidf))"
      ]
    },
    {
      "cell_type": "code",
      "execution_count": null,
      "metadata": {
        "id": "BzEsR8em8d_R",
        "outputId": "f5d862de-9a7e-4dd4-cbf4-4763210e1280"
      },
      "outputs": [
        {
          "data": {
            "text/plain": [
              "0.8259257423056505"
            ]
          },
          "execution_count": 35,
          "metadata": {},
          "output_type": "execute_result"
        }
      ],
      "source": [
        "roc_auc_score(y_val['toxicity'], lr.predict_proba(X_val_wv_tfidf)[:, 1])"
      ]
    },
    {
      "cell_type": "markdown",
      "metadata": {
        "id": "Te7zyIWw8d_R"
      },
      "source": [
        "### Try SkipGram"
      ]
    },
    {
      "cell_type": "code",
      "execution_count": null,
      "metadata": {
        "id": "bqiYkvpR8d_R",
        "outputId": "59705e20-77d7-43c1-ba2e-72226900c71b"
      },
      "outputs": [
        {
          "name": "stdout",
          "output_type": "stream",
          "text": [
            "CPU times: user 40min 45s, sys: 3.59 s, total: 40min 49s\n",
            "Wall time: 3min 47s\n"
          ]
        }
      ],
      "source": [
        "%%time\n",
        "wv_model = Word2Vec(sentences=SentenceIterator(X_train), sg=1, workers=workers)"
      ]
    },
    {
      "cell_type": "code",
      "execution_count": null,
      "metadata": {
        "id": "knA1X-eq8d_R"
      },
      "outputs": [],
      "source": [
        "word_vectors = wv_model.wv\n",
        "del wv_model"
      ]
    },
    {
      "cell_type": "code",
      "execution_count": null,
      "metadata": {
        "id": "xgEiMgIV8d_S",
        "outputId": "98a804bc-21c9-4e6b-feb5-404ba285095d"
      },
      "outputs": [
        {
          "name": "stdout",
          "output_type": "stream",
          "text": [
            "CPU times: user 22 s, sys: 2.03 s, total: 24 s\n",
            "Wall time: 24 s\n"
          ]
        }
      ],
      "source": [
        "%%time\n",
        "X_train_wv_tfidf = get_corpus_embs_tfidf(X_train, word_vectors, word_vectors.vector_size, vec)\n",
        "X_val_wv_tfidf = get_corpus_embs_tfidf(X_val, word_vectors, word_vectors.vector_size, vec)"
      ]
    },
    {
      "cell_type": "code",
      "execution_count": null,
      "metadata": {
        "id": "56zJKHpt8d_S",
        "outputId": "4b5f7bc8-47d9-40b7-9868-526d329ea932"
      },
      "outputs": [
        {
          "name": "stdout",
          "output_type": "stream",
          "text": [
            "CPU times: user 1min 16s, sys: 58.6 s, total: 2min 14s\n",
            "Wall time: 11.3 s\n"
          ]
        }
      ],
      "source": [
        "%%time\n",
        "lr = LogisticRegression().fit(X_train_wv_tfidf, y_train['toxicity'])"
      ]
    },
    {
      "cell_type": "code",
      "execution_count": null,
      "metadata": {
        "id": "65bb5sWI8d_S",
        "outputId": "2b88a1cb-28ea-44c9-8a9c-4f1e002309de"
      },
      "outputs": [
        {
          "data": {
            "text/plain": [
              "0.3251572771612356"
            ]
          },
          "execution_count": 40,
          "metadata": {},
          "output_type": "execute_result"
        }
      ],
      "source": [
        "f1_score(y_val['toxicity'], lr.predict(X_val_wv_tfidf))"
      ]
    },
    {
      "cell_type": "code",
      "execution_count": null,
      "metadata": {
        "id": "jBQKaooq8d_S",
        "outputId": "5857203a-4b0a-4fee-b127-0c1664bc9ffa"
      },
      "outputs": [
        {
          "data": {
            "text/plain": [
              "0.840251554195323"
            ]
          },
          "execution_count": 41,
          "metadata": {},
          "output_type": "execute_result"
        }
      ],
      "source": [
        "roc_auc_score(y_val['toxicity'], lr.predict_proba(X_val_wv_tfidf)[:, 1])"
      ]
    },
    {
      "cell_type": "markdown",
      "metadata": {
        "id": "bKirp-cI8d_S"
      },
      "source": [
        "## Estimator hyperparams tuning"
      ]
    },
    {
      "cell_type": "code",
      "execution_count": null,
      "metadata": {
        "id": "eHfkNdxN8d_S"
      },
      "outputs": [],
      "source": [
        "import optuna\n",
        "from optuna.samplers import TPESampler"
      ]
    },
    {
      "cell_type": "code",
      "execution_count": null,
      "metadata": {
        "id": "o0o5udCo8d_S"
      },
      "outputs": [],
      "source": [
        "class ObjectiveLogReg:\n",
        "\n",
        "    def __init__(self):\n",
        "        self.best_model = None\n",
        "        self._model = None\n",
        "\n",
        "    def __call__(self, trial, X_train, y_train, X_val, y_val):\n",
        "        params = {\n",
        "            'C': trial.suggest_float('C', 1e-3, 1e2, log=True),\n",
        "            'max_iter': 10**3,\n",
        "            'random_state': 42\n",
        "        }\n",
        "\n",
        "        model = LogisticRegression(**params)\n",
        "        model.fit(X_train, y_train)\n",
        "\n",
        "        self._model = model\n",
        "\n",
        "        return f1_score(y_val, model.predict(X_val))\n",
        "\n",
        "    def callback(self, study, trial):\n",
        "        if study.best_trial == trial:\n",
        "            self.best_model = self._model"
      ]
    },
    {
      "cell_type": "code",
      "execution_count": null,
      "metadata": {
        "id": "F7auJsY18d_T",
        "outputId": "32bd067b-b33d-43ad-e2a0-2a21a596c024"
      },
      "outputs": [
        {
          "name": "stderr",
          "output_type": "stream",
          "text": [
            "[I 2025-03-08 15:51:51,425] A new study created in memory with name: LogReg\n",
            "[I 2025-03-08 15:52:04,044] Trial 0 finished with value: 0.3202371072910492 and parameters: {'C': 0.25952326585326946}. Best is trial 0 with value: 0.3202371072910492.\n",
            "[I 2025-03-08 15:52:17,259] Trial 1 finished with value: 0.31305637982195844 and parameters: {'C': 0.08631141525080009}. Best is trial 0 with value: 0.3202371072910492.\n",
            "[I 2025-03-08 15:52:30,141] Trial 2 finished with value: 0.25065018668726663 and parameters: {'C': 0.013254992842283889}. Best is trial 0 with value: 0.3202371072910492.\n",
            "[I 2025-03-08 15:52:42,341] Trial 3 finished with value: 0.2974278881350969 and parameters: {'C': 0.057859526200600225}. Best is trial 0 with value: 0.3202371072910492.\n",
            "[I 2025-03-08 15:52:56,440] Trial 4 finished with value: 0.28528260761876456 and parameters: {'C': 0.029564117053603706}. Best is trial 0 with value: 0.3202371072910492.\n",
            "[I 2025-03-08 15:53:07,737] Trial 5 finished with value: 0.32617803511745047 and parameters: {'C': 4.084409719053664}. Best is trial 5 with value: 0.32617803511745047.\n",
            "[I 2025-03-08 15:53:19,146] Trial 6 finished with value: 0.18329625662574497 and parameters: {'C': 0.005758408047872594}. Best is trial 5 with value: 0.32617803511745047.\n",
            "[I 2025-03-08 15:53:31,638] Trial 7 finished with value: 0.326153991008168 and parameters: {'C': 3.162537368303405}. Best is trial 5 with value: 0.32617803511745047.\n",
            "[I 2025-03-08 15:53:43,143] Trial 8 finished with value: 0.3255134727718108 and parameters: {'C': 1.4851751546311238}. Best is trial 5 with value: 0.32617803511745047.\n",
            "[I 2025-03-08 15:53:56,242] Trial 9 finished with value: 0.3204210326679626 and parameters: {'C': 0.2719943427021206}. Best is trial 5 with value: 0.32617803511745047.\n",
            "[I 2025-03-08 15:54:10,041] Trial 10 finished with value: 0.3266112902087206 and parameters: {'C': 52.339998219695225}. Best is trial 10 with value: 0.3266112902087206.\n",
            "[I 2025-03-08 15:54:24,858] Trial 11 finished with value: 0.3266112902087206 and parameters: {'C': 79.74124250627303}. Best is trial 10 with value: 0.3266112902087206.\n",
            "[I 2025-03-08 15:54:40,648] Trial 12 finished with value: 0.3266112902087206 and parameters: {'C': 86.42554181926354}. Best is trial 10 with value: 0.3266112902087206.\n",
            "[I 2025-03-08 15:54:56,944] Trial 13 finished with value: 0.3266112902087206 and parameters: {'C': 79.73958737079573}. Best is trial 10 with value: 0.3266112902087206.\n",
            "[I 2025-03-08 15:55:11,030] Trial 14 finished with value: 0.3266266619602306 and parameters: {'C': 17.695753405542973}. Best is trial 14 with value: 0.3266266619602306.\n",
            "[I 2025-03-08 15:55:24,834] Trial 15 finished with value: 0.3265872829105285 and parameters: {'C': 14.7175542324889}. Best is trial 14 with value: 0.3266266619602306.\n",
            "[I 2025-03-08 15:55:31,747] Trial 16 finished with value: 0.02152611441192024 and parameters: {'C': 0.0010670366930674046}. Best is trial 14 with value: 0.3266266619602306.\n",
            "[I 2025-03-08 15:55:45,643] Trial 17 finished with value: 0.3265872829105285 and parameters: {'C': 15.360258068066614}. Best is trial 14 with value: 0.3266266619602306.\n",
            "[I 2025-03-08 15:55:59,745] Trial 18 finished with value: 0.3265872829105285 and parameters: {'C': 16.304991619214345}. Best is trial 14 with value: 0.3266266619602306.\n",
            "[I 2025-03-08 15:56:11,032] Trial 19 finished with value: 0.3254258050837476 and parameters: {'C': 1.1556391391796705}. Best is trial 14 with value: 0.3266266619602306.\n",
            "[I 2025-03-08 15:56:26,645] Trial 20 finished with value: 0.32661897590361444 and parameters: {'C': 29.54853369566112}. Best is trial 14 with value: 0.3266266619602306.\n",
            "[I 2025-03-08 15:56:40,229] Trial 21 finished with value: 0.32661897590361444 and parameters: {'C': 28.158284483612622}. Best is trial 14 with value: 0.3266266619602306.\n",
            "[I 2025-03-08 15:56:53,752] Trial 22 finished with value: 0.32628754354580547 and parameters: {'C': 7.440319859516602}. Best is trial 14 with value: 0.3266266619602306.\n",
            "[I 2025-03-08 15:57:07,934] Trial 23 finished with value: 0.32661897590361444 and parameters: {'C': 25.413078321699352}. Best is trial 14 with value: 0.3266266619602306.\n",
            "[I 2025-03-08 15:57:22,939] Trial 24 finished with value: 0.3262164261669923 and parameters: {'C': 5.746846694289391}. Best is trial 14 with value: 0.3266266619602306.\n",
            "[I 2025-03-08 15:57:34,030] Trial 25 finished with value: 0.3252285364244652 and parameters: {'C': 1.0375532571411357}. Best is trial 14 with value: 0.3266266619602306.\n",
            "[I 2025-03-08 15:57:47,936] Trial 26 finished with value: 0.32661897590361444 and parameters: {'C': 25.934838366919998}. Best is trial 14 with value: 0.3266266619602306.\n",
            "[I 2025-03-08 15:58:01,641] Trial 27 finished with value: 0.3266112902087206 and parameters: {'C': 37.02728943462387}. Best is trial 14 with value: 0.3266266619602306.\n",
            "[I 2025-03-08 15:58:12,942] Trial 28 finished with value: 0.3259405754108396 and parameters: {'C': 2.328936454616127}. Best is trial 14 with value: 0.3266266619602306.\n",
            "[I 2025-03-08 15:58:24,526] Trial 29 finished with value: 0.32466460754957205 and parameters: {'C': 0.6571049416562867}. Best is trial 14 with value: 0.3266266619602306.\n"
          ]
        }
      ],
      "source": [
        "objective_logreg = ObjectiveLogReg()\n",
        "study = optuna.create_study(study_name='LogReg', direction='maximize', sampler=TPESampler())\n",
        "study.optimize(partial(objective_logreg,\n",
        "                       X_train=X_train_wv_tfidf,\n",
        "                       y_train=y_train['toxicity'],\n",
        "                       X_val=X_val_wv_tfidf,\n",
        "                       y_val=y_val['toxicity']),\n",
        "               n_trials=30,\n",
        "               callbacks=[objective_logreg.callback])"
      ]
    },
    {
      "cell_type": "code",
      "execution_count": null,
      "metadata": {
        "id": "mYhipTpA8d_T",
        "outputId": "396f8b3d-9c75-4126-9606-394c8b08cf54"
      },
      "outputs": [
        {
          "data": {
            "text/plain": [
              "({'C': 17.695753405542973}, 0.3266266619602306)"
            ]
          },
          "execution_count": 45,
          "metadata": {},
          "output_type": "execute_result"
        }
      ],
      "source": [
        "study.best_params, study.best_value"
      ]
    },
    {
      "cell_type": "code",
      "execution_count": null,
      "metadata": {
        "id": "SivrzhhQ8d_T"
      },
      "outputs": [],
      "source": [
        "lr = objective_logreg.best_model"
      ]
    },
    {
      "cell_type": "markdown",
      "metadata": {
        "id": "Dj2vfwAu8d_T"
      },
      "source": [
        "## Word2Vec hyperparams tuning"
      ]
    },
    {
      "cell_type": "code",
      "execution_count": null,
      "metadata": {
        "id": "Y5IuRVWD8d_T"
      },
      "outputs": [],
      "source": [
        "logger = logging.getLogger('wv_train')\n",
        "logger.setLevel(logging.INFO)\n",
        "\n",
        "if (logger.hasHandlers()):\n",
        "    logger.handlers.clear()\n",
        "\n",
        "logger.propagate = False\n",
        "\n",
        "stream_handler = logging.StreamHandler()\n",
        "stream_handler.setLevel(logging.INFO)\n",
        "stream_handler.setFormatter(logging.Formatter('%(asctime)s - %(name)s - %(levelname)s - %(message)s'))\n",
        "\n",
        "logger.addHandler(stream_handler)"
      ]
    },
    {
      "cell_type": "code",
      "execution_count": null,
      "metadata": {
        "id": "i_oomCk98d_T"
      },
      "outputs": [],
      "source": [
        "class ObjectiveWord2Vec:\n",
        "\n",
        "    def __init__(self):\n",
        "        self.best_model = None\n",
        "        self._model = None\n",
        "\n",
        "    def __call__(self, trial, logger, estimator, vec, X_train, y_train, X_val, y_val):\n",
        "        params = {\n",
        "            'sg': '1',\n",
        "            'workers': 90,\n",
        "            'seed': 42,\n",
        "            'vector_size': trial.suggest_categorical('vector_size', [100, 200, 300]),\n",
        "            'epochs': trial.suggest_categorical('epochs', [6, 10, 14]),\n",
        "            'window': trial.suggest_int('window', 5, 20),\n",
        "            'min_count': trial.suggest_int('min_count', 4, 10)\n",
        "        }\n",
        "\n",
        "        logger.info('Starting Word2Vec fitting')\n",
        "        wv_model = Word2Vec(sentences=SentenceIterator(X_train), **params)\n",
        "\n",
        "        word_vectors = wv_model.wv\n",
        "        self._model = word_vectors\n",
        "        del wv_model\n",
        "\n",
        "        logger.info('Starting corpus transforming')\n",
        "        X_train_wv_tfidf = get_corpus_embs_tfidf(X_train, word_vectors, word_vectors.vector_size, vec)\n",
        "        X_val_wv_tfidf = get_corpus_embs_tfidf(X_val, word_vectors, word_vectors.vector_size, vec)\n",
        "\n",
        "        logger.info('Starting estimator fitting')\n",
        "        estimator = estimator.fit(X_train_wv_tfidf, y_train)\n",
        "\n",
        "        return f1_score(y_val, estimator.predict(X_val_wv_tfidf))\n",
        "\n",
        "    def callback(self, study, trial):\n",
        "        if study.best_trial == trial:\n",
        "            self.best_model = self._model"
      ]
    },
    {
      "cell_type": "code",
      "execution_count": null,
      "metadata": {
        "id": "ew7Z7NKS8d_T",
        "outputId": "80416a19-9f7f-4b15-f2a4-8066c2fd43b4"
      },
      "outputs": [
        {
          "name": "stderr",
          "output_type": "stream",
          "text": [
            "[I 2025-03-08 15:58:24,554] A new study created in memory with name: Word2Vec\n",
            "2025-03-08 15:58:24,556 - wv_train - INFO - Starting Word2Vec fitting\n",
            "2025-03-08 16:16:40,172 - wv_train - INFO - Starting corpus transforming\n",
            "2025-03-08 16:17:10,831 - wv_train - INFO - Starting estimator fitting\n",
            "[I 2025-03-08 16:17:46,573] Trial 0 finished with value: 0.3910037668956348 and parameters: {'vector_size': 200, 'epochs': 6, 'window': 10, 'min_count': 8}. Best is trial 0 with value: 0.3910037668956348.\n",
            "2025-03-08 16:17:46,576 - wv_train - INFO - Starting Word2Vec fitting\n",
            "2025-03-08 16:53:51,328 - wv_train - INFO - Starting corpus transforming\n",
            "2025-03-08 16:54:22,698 - wv_train - INFO - Starting estimator fitting\n",
            "[I 2025-03-08 16:54:45,974] Trial 1 finished with value: 0.38557916991209523 and parameters: {'vector_size': 200, 'epochs': 10, 'window': 12, 'min_count': 6}. Best is trial 0 with value: 0.3910037668956348.\n",
            "2025-03-08 16:54:45,976 - wv_train - INFO - Starting Word2Vec fitting\n",
            "2025-03-08 17:25:17,909 - wv_train - INFO - Starting corpus transforming\n",
            "2025-03-08 17:25:47,680 - wv_train - INFO - Starting estimator fitting\n",
            "[I 2025-03-08 17:26:41,591] Trial 2 finished with value: 0.3680901408450704 and parameters: {'vector_size': 200, 'epochs': 6, 'window': 18, 'min_count': 6}. Best is trial 0 with value: 0.3910037668956348.\n",
            "2025-03-08 17:26:41,595 - wv_train - INFO - Starting Word2Vec fitting\n",
            "2025-03-08 18:00:07,088 - wv_train - INFO - Starting corpus transforming\n",
            "2025-03-08 18:00:42,069 - wv_train - INFO - Starting estimator fitting\n",
            "[I 2025-03-08 18:02:17,683] Trial 3 finished with value: 0.41846647584352503 and parameters: {'vector_size': 300, 'epochs': 14, 'window': 6, 'min_count': 10}. Best is trial 3 with value: 0.41846647584352503.\n",
            "2025-03-08 18:02:17,696 - wv_train - INFO - Starting Word2Vec fitting\n",
            "2025-03-08 18:28:04,173 - wv_train - INFO - Starting corpus transforming\n",
            "2025-03-08 18:28:30,885 - wv_train - INFO - Starting estimator fitting\n",
            "[I 2025-03-08 18:28:44,728] Trial 4 finished with value: 0.3345265213146762 and parameters: {'vector_size': 100, 'epochs': 14, 'window': 10, 'min_count': 7}. Best is trial 3 with value: 0.41846647584352503.\n",
            "2025-03-08 18:28:44,730 - wv_train - INFO - Starting Word2Vec fitting\n",
            "2025-03-08 19:07:12,990 - wv_train - INFO - Starting corpus transforming\n",
            "2025-03-08 19:07:48,286 - wv_train - INFO - Starting estimator fitting\n",
            "[I 2025-03-08 19:08:42,503] Trial 5 finished with value: 0.419071897684065 and parameters: {'vector_size': 300, 'epochs': 10, 'window': 10, 'min_count': 6}. Best is trial 5 with value: 0.419071897684065.\n",
            "2025-03-08 19:08:42,520 - wv_train - INFO - Starting Word2Vec fitting\n",
            "2025-03-08 19:29:04,763 - wv_train - INFO - Starting corpus transforming\n",
            "2025-03-08 19:29:41,181 - wv_train - INFO - Starting estimator fitting\n",
            "[I 2025-03-08 19:30:45,183] Trial 6 finished with value: 0.42085427135678394 and parameters: {'vector_size': 300, 'epochs': 10, 'window': 5, 'min_count': 10}. Best is trial 6 with value: 0.42085427135678394.\n",
            "2025-03-08 19:30:45,196 - wv_train - INFO - Starting Word2Vec fitting\n",
            "2025-03-08 20:15:04,991 - wv_train - INFO - Starting corpus transforming\n",
            "2025-03-08 20:15:43,438 - wv_train - INFO - Starting estimator fitting\n",
            "[I 2025-03-08 20:17:00,298] Trial 7 finished with value: 0.4131104840460169 and parameters: {'vector_size': 300, 'epochs': 10, 'window': 12, 'min_count': 4}. Best is trial 6 with value: 0.42085427135678394.\n",
            "2025-03-08 20:17:00,301 - wv_train - INFO - Starting Word2Vec fitting\n",
            "2025-03-08 20:47:44,962 - wv_train - INFO - Starting corpus transforming\n",
            "2025-03-08 20:48:20,777 - wv_train - INFO - Starting estimator fitting\n",
            "[I 2025-03-08 20:48:56,131] Trial 8 finished with value: 0.39743447479970706 and parameters: {'vector_size': 300, 'epochs': 6, 'window': 14, 'min_count': 5}. Best is trial 6 with value: 0.42085427135678394.\n",
            "2025-03-08 20:48:56,133 - wv_train - INFO - Starting Word2Vec fitting\n",
            "2025-03-08 21:00:59,500 - wv_train - INFO - Starting corpus transforming\n",
            "2025-03-08 21:01:36,633 - wv_train - INFO - Starting estimator fitting\n",
            "[I 2025-03-08 21:02:25,797] Trial 9 finished with value: 0.41944480760012204 and parameters: {'vector_size': 300, 'epochs': 6, 'window': 5, 'min_count': 9}. Best is trial 6 with value: 0.42085427135678394.\n",
            "2025-03-08 21:02:25,813 - wv_train - INFO - Starting Word2Vec fitting\n",
            "2025-03-08 21:36:04,409 - wv_train - INFO - Starting corpus transforming\n",
            "2025-03-08 21:36:29,823 - wv_train - INFO - Starting estimator fitting\n",
            "[I 2025-03-08 21:36:44,434] Trial 10 finished with value: 0.3165504898266767 and parameters: {'vector_size': 100, 'epochs': 10, 'window': 20, 'min_count': 10}. Best is trial 6 with value: 0.42085427135678394.\n",
            "2025-03-08 21:36:44,447 - wv_train - INFO - Starting Word2Vec fitting\n",
            "2025-03-08 21:49:00,028 - wv_train - INFO - Starting corpus transforming\n",
            "2025-03-08 21:49:35,422 - wv_train - INFO - Starting estimator fitting\n",
            "[I 2025-03-08 21:50:17,818] Trial 11 finished with value: 0.4205204201717299 and parameters: {'vector_size': 300, 'epochs': 6, 'window': 5, 'min_count': 9}. Best is trial 6 with value: 0.42085427135678394.\n",
            "2025-03-08 21:50:17,833 - wv_train - INFO - Starting Word2Vec fitting\n",
            "2025-03-08 22:06:45,750 - wv_train - INFO - Starting corpus transforming\n",
            "2025-03-08 22:07:22,107 - wv_train - INFO - Starting estimator fitting\n",
            "[I 2025-03-08 22:09:01,588] Trial 12 finished with value: 0.41637482870380443 and parameters: {'vector_size': 300, 'epochs': 6, 'window': 7, 'min_count': 9}. Best is trial 6 with value: 0.42085427135678394.\n",
            "2025-03-08 22:09:01,602 - wv_train - INFO - Starting Word2Vec fitting\n",
            "2025-03-08 22:40:14,353 - wv_train - INFO - Starting corpus transforming\n",
            "2025-03-08 22:40:49,410 - wv_train - INFO - Starting estimator fitting\n",
            "[I 2025-03-08 22:41:57,998] Trial 13 finished with value: 0.41523602821486705 and parameters: {'vector_size': 300, 'epochs': 10, 'window': 8, 'min_count': 9}. Best is trial 6 with value: 0.42085427135678394.\n",
            "2025-03-08 22:41:58,011 - wv_train - INFO - Starting Word2Vec fitting\n",
            "2025-03-08 23:09:54,045 - wv_train - INFO - Starting corpus transforming\n",
            "2025-03-08 23:10:29,722 - wv_train - INFO - Starting estimator fitting\n",
            "[I 2025-03-08 23:11:22,390] Trial 14 finished with value: 0.4218696102104174 and parameters: {'vector_size': 300, 'epochs': 14, 'window': 5, 'min_count': 8}. Best is trial 14 with value: 0.4218696102104174.\n",
            "2025-03-08 23:11:22,413 - wv_train - INFO - Starting Word2Vec fitting\n",
            "2025-03-08 23:33:04,652 - wv_train - INFO - Starting corpus transforming\n",
            "2025-03-08 23:33:31,160 - wv_train - INFO - Starting estimator fitting\n",
            "[I 2025-03-08 23:33:44,557] Trial 15 finished with value: 0.3410881367679335 and parameters: {'vector_size': 100, 'epochs': 14, 'window': 8, 'min_count': 8}. Best is trial 14 with value: 0.4218696102104174.\n",
            "2025-03-08 23:33:44,571 - wv_train - INFO - Starting Word2Vec fitting\n",
            "2025-03-09 00:50:17,157 - wv_train - INFO - Starting corpus transforming\n",
            "2025-03-09 00:50:52,623 - wv_train - INFO - Starting estimator fitting\n",
            "[I 2025-03-09 00:51:45,389] Trial 16 finished with value: 0.4096955493348957 and parameters: {'vector_size': 300, 'epochs': 14, 'window': 15, 'min_count': 8}. Best is trial 14 with value: 0.4218696102104174.\n",
            "2025-03-09 00:51:45,404 - wv_train - INFO - Starting Word2Vec fitting\n",
            "2025-03-09 01:35:34,286 - wv_train - INFO - Starting corpus transforming\n",
            "2025-03-09 01:36:10,938 - wv_train - INFO - Starting estimator fitting\n",
            "[I 2025-03-09 01:36:56,489] Trial 17 finished with value: 0.4233799128512246 and parameters: {'vector_size': 300, 'epochs': 14, 'window': 8, 'min_count': 10}. Best is trial 17 with value: 0.4233799128512246.\n",
            "2025-03-09 01:36:56,514 - wv_train - INFO - Starting Word2Vec fitting\n",
            "2025-03-09 02:11:38,034 - wv_train - INFO - Starting corpus transforming\n",
            "2025-03-09 02:12:10,747 - wv_train - INFO - Starting estimator fitting\n",
            "[I 2025-03-09 02:12:31,968] Trial 18 finished with value: 0.39650274186799395 and parameters: {'vector_size': 200, 'epochs': 14, 'window': 8, 'min_count': 7}. Best is trial 17 with value: 0.4233799128512246.\n",
            "2025-03-09 02:12:31,984 - wv_train - INFO - Starting Word2Vec fitting\n",
            "2025-03-09 02:36:13,384 - wv_train - INFO - Starting corpus transforming\n"
          ]
        },
        {
          "name": "stderr",
          "output_type": "stream",
          "text": [
            "2025-03-09 02:36:38,718 - wv_train - INFO - Starting estimator fitting\n",
            "[I 2025-03-09 02:37:00,557] Trial 19 finished with value: 0.33633118538778917 and parameters: {'vector_size': 100, 'epochs': 14, 'window': 9, 'min_count': 7}. Best is trial 17 with value: 0.4233799128512246.\n"
          ]
        }
      ],
      "source": [
        "objective_w2v = ObjectiveWord2Vec()\n",
        "study = optuna.create_study(study_name='Word2Vec', direction='maximize', sampler=TPESampler())\n",
        "study.optimize(partial(objective_w2v,\n",
        "                       logger=logger,\n",
        "                       estimator=lr,\n",
        "                       vec=vec,\n",
        "                       X_train=X_train,\n",
        "                       y_train=y_train['toxicity'],\n",
        "                       X_val=X_val,\n",
        "                       y_val=y_val['toxicity']),\n",
        "               n_trials=20,\n",
        "               callbacks=[objective_w2v.callback])"
      ]
    },
    {
      "cell_type": "code",
      "execution_count": null,
      "metadata": {
        "id": "VBLCKONp8d_U",
        "outputId": "19529765-c8fd-485d-a3e8-ac8f4f6889c8"
      },
      "outputs": [
        {
          "data": {
            "text/plain": [
              "({'vector_size': 300, 'epochs': 14, 'window': 8, 'min_count': 10},\n",
              " 0.4233799128512246)"
            ]
          },
          "execution_count": 50,
          "metadata": {},
          "output_type": "execute_result"
        }
      ],
      "source": [
        "study.best_params, study.best_value"
      ]
    },
    {
      "cell_type": "code",
      "execution_count": null,
      "metadata": {
        "id": "X7M3G09r8d_U"
      },
      "outputs": [],
      "source": [
        "objective_w2v.best_model.save_word2vec_format('best_vectors.bin', binary=True)"
      ]
    },
    {
      "cell_type": "markdown",
      "metadata": {
        "id": "BWSR9Ew58d_U"
      },
      "source": [
        "## XGBoost"
      ]
    },
    {
      "cell_type": "code",
      "execution_count": null,
      "metadata": {
        "id": "qGbXrdUL8d_U"
      },
      "outputs": [],
      "source": [
        "word_vectors = KeyedVectors.load_word2vec_format('best_vectors.bin', binary=True)"
      ]
    },
    {
      "cell_type": "code",
      "execution_count": null,
      "metadata": {
        "id": "2c96ztzL8d_U",
        "outputId": "56c98828-d090-47f4-d75f-728d923bf054"
      },
      "outputs": [
        {
          "data": {
            "text/plain": [
              "(44153, 300)"
            ]
          },
          "execution_count": 73,
          "metadata": {},
          "output_type": "execute_result"
        }
      ],
      "source": [
        "len(word_vectors), word_vectors.vector_size"
      ]
    },
    {
      "cell_type": "code",
      "execution_count": null,
      "metadata": {
        "id": "Pp2rnBp_8d_U"
      },
      "outputs": [],
      "source": [
        "X_train_wv_tfidf = get_corpus_embs_tfidf(X_train, word_vectors, word_vectors.vector_size, vec)\n",
        "X_val_wv_tfidf = get_corpus_embs_tfidf(X_val, word_vectors, word_vectors.vector_size, vec)"
      ]
    },
    {
      "cell_type": "code",
      "execution_count": null,
      "metadata": {
        "id": "u10xfVrO8d_U"
      },
      "outputs": [],
      "source": [
        "from xgboost import XGBClassifier"
      ]
    },
    {
      "cell_type": "code",
      "execution_count": null,
      "metadata": {
        "id": "U8BEjZX68d_V"
      },
      "outputs": [],
      "source": [
        "xgb = XGBClassifier().fit(X_train_wv_tfidf, y_train['toxicity'])"
      ]
    },
    {
      "cell_type": "code",
      "execution_count": null,
      "metadata": {
        "id": "3lZV-aYZ8d_V",
        "outputId": "53054779-697c-438d-d67e-428e79de1c89"
      },
      "outputs": [
        {
          "data": {
            "text/plain": [
              "0.4056502849158352"
            ]
          },
          "execution_count": 76,
          "metadata": {},
          "output_type": "execute_result"
        }
      ],
      "source": [
        "f1_score(y_val['toxicity'], xgb.predict(X_val_wv_tfidf))"
      ]
    },
    {
      "cell_type": "code",
      "execution_count": null,
      "metadata": {
        "id": "OaaCOxGQ8d_V",
        "outputId": "238ffd21-6f54-459e-a894-7fd09924c766"
      },
      "outputs": [
        {
          "data": {
            "text/plain": [
              "0.8589137012047753"
            ]
          },
          "execution_count": 77,
          "metadata": {},
          "output_type": "execute_result"
        }
      ],
      "source": [
        "roc_auc_score(y_val['toxicity'], xgb.predict_proba(X_val_wv_tfidf)[:, 1])"
      ]
    },
    {
      "cell_type": "code",
      "execution_count": null,
      "metadata": {
        "id": "UpJ2TfEb8d_V"
      },
      "outputs": [],
      "source": [
        "class ObjectiveXGBoost:\n",
        "\n",
        "    def __init__(self):\n",
        "        self.best_model = None\n",
        "        self._model = None\n",
        "\n",
        "    def __call__(self, trial, X_train, y_train, X_val, y_val):\n",
        "        params = {\n",
        "            'objective': 'binary:logistic',\n",
        "            'random_state': 42,\n",
        "            'learning_rate': trial.suggest_float('learning_rate', 0.01, 0.3, log=True),\n",
        "            'n_estimators': trial.suggest_int('n_estimators', 500, 2300),\n",
        "            'max_depth': trial.suggest_int('max_depth', 4, 14),\n",
        "            'subsample': trial.suggest_categorical('subsample', [0.5, 1.0]),\n",
        "            'colsample_bytree': trial.suggest_categorical('colsample_bytree', [0.5, 1.0]),\n",
        "            'reg_alpha': trial.suggest_float('reg_alpha', 1e-2, 10, log=True),\n",
        "            'reg_lambda': trial.suggest_float('reg_lambda', 1e-2, 10, log=True)\n",
        "        }\n",
        "\n",
        "        model = XGBClassifier(**params)\n",
        "        model.fit(X_train, y_train)\n",
        "\n",
        "        self._model = model\n",
        "\n",
        "        return f1_score(y_val, model.predict(X_val))\n",
        "\n",
        "    def callback(self, study, trial):\n",
        "        if study.best_trial == trial:\n",
        "            self.best_model = self._model"
      ]
    },
    {
      "cell_type": "code",
      "execution_count": null,
      "metadata": {
        "id": "cTWdL_S18d_V",
        "outputId": "f5878898-ca84-4646-ad2f-dd6f112dce6d"
      },
      "outputs": [
        {
          "name": "stderr",
          "output_type": "stream",
          "text": [
            "[I 2025-03-09 08:40:26,250] A new study created in memory with name: XGBoost\n",
            "[I 2025-03-09 08:44:14,834] Trial 0 finished with value: 0.4329036486781735 and parameters: {'learning_rate': 0.056603947379876944, 'n_estimators': 798, 'max_depth': 9, 'subsample': 1.0, 'colsample_bytree': 1.0, 'reg_alpha': 1.5744779896815362, 'reg_lambda': 0.39678031005284725}. Best is trial 0 with value: 0.4329036486781735.\n",
            "[I 2025-03-09 08:49:27,081] Trial 1 finished with value: 0.4045272156315422 and parameters: {'learning_rate': 0.1905168827545536, 'n_estimators': 1161, 'max_depth': 13, 'subsample': 0.5, 'colsample_bytree': 0.5, 'reg_alpha': 0.04784542122399979, 'reg_lambda': 0.1781125254879991}. Best is trial 0 with value: 0.4329036486781735.\n",
            "[I 2025-03-09 08:52:29,297] Trial 2 finished with value: 0.45744747833022015 and parameters: {'learning_rate': 0.07546877012927698, 'n_estimators': 1289, 'max_depth': 6, 'subsample': 0.5, 'colsample_bytree': 0.5, 'reg_alpha': 0.010316689685158172, 'reg_lambda': 2.48965140281631}. Best is trial 2 with value: 0.45744747833022015.\n",
            "[I 2025-03-09 08:54:43,437] Trial 3 finished with value: 0.45887823307178144 and parameters: {'learning_rate': 0.10248994100589501, 'n_estimators': 918, 'max_depth': 6, 'subsample': 0.5, 'colsample_bytree': 1.0, 'reg_alpha': 0.15904720645155224, 'reg_lambda': 0.021933668381380774}. Best is trial 3 with value: 0.45887823307178144.\n",
            "[I 2025-03-09 09:08:20,850] Trial 4 finished with value: 0.40367478180983 and parameters: {'learning_rate': 0.03920495876202473, 'n_estimators': 2047, 'max_depth': 11, 'subsample': 1.0, 'colsample_bytree': 0.5, 'reg_alpha': 0.011771305199118278, 'reg_lambda': 0.5182474998758742}. Best is trial 3 with value: 0.45887823307178144.\n",
            "[I 2025-03-09 09:18:31,694] Trial 5 finished with value: 0.4090919453753733 and parameters: {'learning_rate': 0.10598264350124875, 'n_estimators': 1288, 'max_depth': 12, 'subsample': 1.0, 'colsample_bytree': 0.5, 'reg_alpha': 0.02110164071444041, 'reg_lambda': 2.1040772040367397}. Best is trial 3 with value: 0.45887823307178144.\n",
            "[I 2025-03-09 09:27:37,238] Trial 6 finished with value: 0.3808703746800093 and parameters: {'learning_rate': 0.05868825298596442, 'n_estimators': 565, 'max_depth': 14, 'subsample': 0.5, 'colsample_bytree': 1.0, 'reg_alpha': 0.017826415391506693, 'reg_lambda': 2.212895270089789}. Best is trial 3 with value: 0.45887823307178144.\n",
            "[I 2025-03-09 09:29:43,684] Trial 7 finished with value: 0.45948908884062467 and parameters: {'learning_rate': 0.221908696214406, 'n_estimators': 1244, 'max_depth': 4, 'subsample': 1.0, 'colsample_bytree': 0.5, 'reg_alpha': 0.41782906040880363, 'reg_lambda': 0.36889733485129644}. Best is trial 7 with value: 0.45948908884062467.\n",
            "[I 2025-03-09 09:33:19,793] Trial 8 finished with value: 0.3990819495072229 and parameters: {'learning_rate': 0.021068469749250217, 'n_estimators': 1607, 'max_depth': 5, 'subsample': 0.5, 'colsample_bytree': 0.5, 'reg_alpha': 0.20762275793831783, 'reg_lambda': 0.859273487936641}. Best is trial 7 with value: 0.45948908884062467.\n",
            "[I 2025-03-09 09:35:11,477] Trial 9 finished with value: 0.46135884148214906 and parameters: {'learning_rate': 0.18196974329378512, 'n_estimators': 906, 'max_depth': 5, 'subsample': 0.5, 'colsample_bytree': 0.5, 'reg_alpha': 2.6515994502123297, 'reg_lambda': 0.01532002758462057}. Best is trial 9 with value: 0.46135884148214906.\n",
            "[I 2025-03-09 09:41:56,308] Trial 10 finished with value: 0.40847775594068253 and parameters: {'learning_rate': 0.010690785752624039, 'n_estimators': 1725, 'max_depth': 8, 'subsample': 0.5, 'colsample_bytree': 1.0, 'reg_alpha': 8.517480412863415, 'reg_lambda': 0.012697619525137434}. Best is trial 9 with value: 0.46135884148214906.\n",
            "[I 2025-03-09 09:43:38,503] Trial 11 finished with value: 0.4528144312677468 and parameters: {'learning_rate': 0.21689264006900405, 'n_estimators': 966, 'max_depth': 4, 'subsample': 1.0, 'colsample_bytree': 0.5, 'reg_alpha': 1.2622956814966255, 'reg_lambda': 0.09577068997730677}. Best is trial 9 with value: 0.46135884148214906.\n",
            "[I 2025-03-09 09:44:44,177] Trial 12 finished with value: 0.4467315134400167 and parameters: {'learning_rate': 0.27020693809860663, 'n_estimators': 590, 'max_depth': 4, 'subsample': 1.0, 'colsample_bytree': 0.5, 'reg_alpha': 1.1534397090766817, 'reg_lambda': 0.05316314389537649}. Best is trial 9 with value: 0.46135884148214906.\n",
            "[I 2025-03-09 09:48:56,472] Trial 13 finished with value: 0.464133795364472 and parameters: {'learning_rate': 0.1434894931395502, 'n_estimators': 1556, 'max_depth': 7, 'subsample': 1.0, 'colsample_bytree': 0.5, 'reg_alpha': 4.331292129617854, 'reg_lambda': 0.0429061855257676}. Best is trial 13 with value: 0.464133795364472.\n",
            "[I 2025-03-09 09:53:21,332] Trial 14 finished with value: 0.466683231871454 and parameters: {'learning_rate': 0.1368873457281579, 'n_estimators': 1648, 'max_depth': 7, 'subsample': 1.0, 'colsample_bytree': 0.5, 'reg_alpha': 6.415466411692148, 'reg_lambda': 0.04440768766605585}. Best is trial 14 with value: 0.466683231871454.\n",
            "[I 2025-03-09 09:59:53,875] Trial 15 finished with value: 0.4599919920763703 and parameters: {'learning_rate': 0.11723746830539124, 'n_estimators': 1969, 'max_depth': 8, 'subsample': 1.0, 'colsample_bytree': 0.5, 'reg_alpha': 4.7302671326722905, 'reg_lambda': 0.04316018012506184}. Best is trial 14 with value: 0.466683231871454.\n",
            "[I 2025-03-09 10:04:26,406] Trial 16 finished with value: 0.43761372498050427 and parameters: {'learning_rate': 0.033825882064674795, 'n_estimators': 1587, 'max_depth': 7, 'subsample': 1.0, 'colsample_bytree': 0.5, 'reg_alpha': 9.937697901474296, 'reg_lambda': 0.12730247493790103}. Best is trial 14 with value: 0.466683231871454.\n",
            "[I 2025-03-09 10:16:07,187] Trial 17 finished with value: 0.43778012127603483 and parameters: {'learning_rate': 0.1373138906929403, 'n_estimators': 2232, 'max_depth': 10, 'subsample': 1.0, 'colsample_bytree': 0.5, 'reg_alpha': 0.4734538998859941, 'reg_lambda': 0.0378219481558251}. Best is trial 14 with value: 0.466683231871454.\n",
            "[I 2025-03-09 10:23:28,666] Trial 18 finished with value: 0.4661762584739651 and parameters: {'learning_rate': 0.29582459354715174, 'n_estimators': 1828, 'max_depth': 8, 'subsample': 1.0, 'colsample_bytree': 1.0, 'reg_alpha': 2.8229189360796445, 'reg_lambda': 0.07661065801425306}. Best is trial 14 with value: 0.466683231871454.\n",
            "[I 2025-03-09 10:34:34,756] Trial 19 finished with value: 0.4539221531385742 and parameters: {'learning_rate': 0.26718237619788043, 'n_estimators': 1823, 'max_depth': 10, 'subsample': 1.0, 'colsample_bytree': 1.0, 'reg_alpha': 0.7115965525632538, 'reg_lambda': 8.729822624288166}. Best is trial 14 with value: 0.466683231871454.\n",
            "[I 2025-03-09 10:45:03,092] Trial 20 finished with value: 0.46286643592844334 and parameters: {'learning_rate': 0.29532149605481606, 'n_estimators': 2275, 'max_depth': 9, 'subsample': 1.0, 'colsample_bytree': 1.0, 'reg_alpha': 3.0658695633294926, 'reg_lambda': 0.1886914483700445}. Best is trial 14 with value: 0.466683231871454.\n",
            "[I 2025-03-09 10:49:28,117] Trial 21 finished with value: 0.46544329896907216 and parameters: {'learning_rate': 0.15822208277935834, 'n_estimators': 1506, 'max_depth': 7, 'subsample': 1.0, 'colsample_bytree': 1.0, 'reg_alpha': 4.752824966621727, 'reg_lambda': 0.07211596867359166}. Best is trial 14 with value: 0.466683231871454.\n",
            "[I 2025-03-09 10:53:41,097] Trial 22 finished with value: 0.46602261725750305 and parameters: {'learning_rate': 0.1639863836254623, 'n_estimators': 1435, 'max_depth': 7, 'subsample': 1.0, 'colsample_bytree': 1.0, 'reg_alpha': 5.8820639872277685, 'reg_lambda': 0.08199090774453242}. Best is trial 14 with value: 0.466683231871454.\n",
            "[I 2025-03-09 11:00:16,691] Trial 23 finished with value: 0.45193907589914245 and parameters: {'learning_rate': 0.07981587506015654, 'n_estimators': 1824, 'max_depth': 8, 'subsample': 1.0, 'colsample_bytree': 1.0, 'reg_alpha': 1.8345377056192693, 'reg_lambda': 0.02502024139272437}. Best is trial 14 with value: 0.466683231871454.\n",
            "[I 2025-03-09 11:03:39,114] Trial 24 finished with value: 0.4547005666378784 and parameters: {'learning_rate': 0.08411266025474062, 'n_estimators': 1439, 'max_depth': 6, 'subsample': 1.0, 'colsample_bytree': 1.0, 'reg_alpha': 9.681271977722176, 'reg_lambda': 0.15810758669974073}. Best is trial 14 with value: 0.466683231871454.\n"
          ]
        }
      ],
      "source": [
        "objective_xgb = ObjectiveXGBoost()\n",
        "\n",
        "study = optuna.create_study(study_name='XGBoost', direction='maximize', sampler=TPESampler())\n",
        "study.optimize(partial(objective_xgb,\n",
        "                       X_train=X_train_wv_tfidf,\n",
        "                       y_train=y_train['toxicity'],\n",
        "                       X_val=X_val_wv_tfidf,\n",
        "                       y_val=y_val['toxicity']),\n",
        "               n_trials=25,\n",
        "               callbacks=[objective_xgb.callback])"
      ]
    },
    {
      "cell_type": "code",
      "execution_count": null,
      "metadata": {
        "id": "S7HUb8fn8d_V",
        "outputId": "051072fb-fcd5-4085-aaef-951637f2fca1"
      },
      "outputs": [
        {
          "data": {
            "text/plain": [
              "({'learning_rate': 0.1368873457281579,\n",
              "  'n_estimators': 1648,\n",
              "  'max_depth': 7,\n",
              "  'subsample': 1.0,\n",
              "  'colsample_bytree': 0.5,\n",
              "  'reg_alpha': 6.415466411692148,\n",
              "  'reg_lambda': 0.04440768766605585},\n",
              " 0.466683231871454)"
            ]
          },
          "execution_count": 82,
          "metadata": {},
          "output_type": "execute_result"
        }
      ],
      "source": [
        "study.best_params, study.best_value"
      ]
    },
    {
      "cell_type": "markdown",
      "metadata": {
        "id": "0M1_6fcN8d_W"
      },
      "source": [
        "## Multilabel"
      ]
    },
    {
      "cell_type": "code",
      "execution_count": null,
      "metadata": {
        "id": "FpJlh3xq8d_W",
        "outputId": "4f7d23e1-a952-49d3-e69a-1576ed04ab68"
      },
      "outputs": [
        {
          "data": {
            "text/plain": [
              "['sexual_explicit', 'insult', 'threat', 'identity_attack', 'obscene']"
            ]
          },
          "execution_count": 94,
          "metadata": {},
          "output_type": "execute_result"
        }
      ],
      "source": [
        "multilabel_cols = list(set(toxicity_cols) - {'toxicity'})\n",
        "multilabel_cols"
      ]
    },
    {
      "cell_type": "code",
      "execution_count": null,
      "metadata": {
        "id": "h2Ddh-558d_W"
      },
      "outputs": [],
      "source": [
        "X_train_val = pd.concat([X_train, X_val])\n",
        "y_train_val = pd.concat([y_train, y_val])"
      ]
    },
    {
      "cell_type": "code",
      "execution_count": null,
      "metadata": {
        "id": "3khrFvdS8d_W",
        "outputId": "c126d747-f12f-4edf-ffbf-90a8dcd1b70f"
      },
      "outputs": [
        {
          "name": "stdout",
          "output_type": "stream",
          "text": [
            "CPU times: user 17.6 s, sys: 1.44 s, total: 19 s\n",
            "Wall time: 19.1 s\n"
          ]
        },
        {
          "data": {
            "text/html": [
              "<style>#sk-container-id-2 {\n",
              "  /* Definition of color scheme common for light and dark mode */\n",
              "  --sklearn-color-text: #000;\n",
              "  --sklearn-color-text-muted: #666;\n",
              "  --sklearn-color-line: gray;\n",
              "  /* Definition of color scheme for unfitted estimators */\n",
              "  --sklearn-color-unfitted-level-0: #fff5e6;\n",
              "  --sklearn-color-unfitted-level-1: #f6e4d2;\n",
              "  --sklearn-color-unfitted-level-2: #ffe0b3;\n",
              "  --sklearn-color-unfitted-level-3: chocolate;\n",
              "  /* Definition of color scheme for fitted estimators */\n",
              "  --sklearn-color-fitted-level-0: #f0f8ff;\n",
              "  --sklearn-color-fitted-level-1: #d4ebff;\n",
              "  --sklearn-color-fitted-level-2: #b3dbfd;\n",
              "  --sklearn-color-fitted-level-3: cornflowerblue;\n",
              "\n",
              "  /* Specific color for light theme */\n",
              "  --sklearn-color-text-on-default-background: var(--sg-text-color, var(--theme-code-foreground, var(--jp-content-font-color1, black)));\n",
              "  --sklearn-color-background: var(--sg-background-color, var(--theme-background, var(--jp-layout-color0, white)));\n",
              "  --sklearn-color-border-box: var(--sg-text-color, var(--theme-code-foreground, var(--jp-content-font-color1, black)));\n",
              "  --sklearn-color-icon: #696969;\n",
              "\n",
              "  @media (prefers-color-scheme: dark) {\n",
              "    /* Redefinition of color scheme for dark theme */\n",
              "    --sklearn-color-text-on-default-background: var(--sg-text-color, var(--theme-code-foreground, var(--jp-content-font-color1, white)));\n",
              "    --sklearn-color-background: var(--sg-background-color, var(--theme-background, var(--jp-layout-color0, #111)));\n",
              "    --sklearn-color-border-box: var(--sg-text-color, var(--theme-code-foreground, var(--jp-content-font-color1, white)));\n",
              "    --sklearn-color-icon: #878787;\n",
              "  }\n",
              "}\n",
              "\n",
              "#sk-container-id-2 {\n",
              "  color: var(--sklearn-color-text);\n",
              "}\n",
              "\n",
              "#sk-container-id-2 pre {\n",
              "  padding: 0;\n",
              "}\n",
              "\n",
              "#sk-container-id-2 input.sk-hidden--visually {\n",
              "  border: 0;\n",
              "  clip: rect(1px 1px 1px 1px);\n",
              "  clip: rect(1px, 1px, 1px, 1px);\n",
              "  height: 1px;\n",
              "  margin: -1px;\n",
              "  overflow: hidden;\n",
              "  padding: 0;\n",
              "  position: absolute;\n",
              "  width: 1px;\n",
              "}\n",
              "\n",
              "#sk-container-id-2 div.sk-dashed-wrapped {\n",
              "  border: 1px dashed var(--sklearn-color-line);\n",
              "  margin: 0 0.4em 0.5em 0.4em;\n",
              "  box-sizing: border-box;\n",
              "  padding-bottom: 0.4em;\n",
              "  background-color: var(--sklearn-color-background);\n",
              "}\n",
              "\n",
              "#sk-container-id-2 div.sk-container {\n",
              "  /* jupyter's `normalize.less` sets `[hidden] { display: none; }`\n",
              "     but bootstrap.min.css set `[hidden] { display: none !important; }`\n",
              "     so we also need the `!important` here to be able to override the\n",
              "     default hidden behavior on the sphinx rendered scikit-learn.org.\n",
              "     See: https://github.com/scikit-learn/scikit-learn/issues/21755 */\n",
              "  display: inline-block !important;\n",
              "  position: relative;\n",
              "}\n",
              "\n",
              "#sk-container-id-2 div.sk-text-repr-fallback {\n",
              "  display: none;\n",
              "}\n",
              "\n",
              "div.sk-parallel-item,\n",
              "div.sk-serial,\n",
              "div.sk-item {\n",
              "  /* draw centered vertical line to link estimators */\n",
              "  background-image: linear-gradient(var(--sklearn-color-text-on-default-background), var(--sklearn-color-text-on-default-background));\n",
              "  background-size: 2px 100%;\n",
              "  background-repeat: no-repeat;\n",
              "  background-position: center center;\n",
              "}\n",
              "\n",
              "/* Parallel-specific style estimator block */\n",
              "\n",
              "#sk-container-id-2 div.sk-parallel-item::after {\n",
              "  content: \"\";\n",
              "  width: 100%;\n",
              "  border-bottom: 2px solid var(--sklearn-color-text-on-default-background);\n",
              "  flex-grow: 1;\n",
              "}\n",
              "\n",
              "#sk-container-id-2 div.sk-parallel {\n",
              "  display: flex;\n",
              "  align-items: stretch;\n",
              "  justify-content: center;\n",
              "  background-color: var(--sklearn-color-background);\n",
              "  position: relative;\n",
              "}\n",
              "\n",
              "#sk-container-id-2 div.sk-parallel-item {\n",
              "  display: flex;\n",
              "  flex-direction: column;\n",
              "}\n",
              "\n",
              "#sk-container-id-2 div.sk-parallel-item:first-child::after {\n",
              "  align-self: flex-end;\n",
              "  width: 50%;\n",
              "}\n",
              "\n",
              "#sk-container-id-2 div.sk-parallel-item:last-child::after {\n",
              "  align-self: flex-start;\n",
              "  width: 50%;\n",
              "}\n",
              "\n",
              "#sk-container-id-2 div.sk-parallel-item:only-child::after {\n",
              "  width: 0;\n",
              "}\n",
              "\n",
              "/* Serial-specific style estimator block */\n",
              "\n",
              "#sk-container-id-2 div.sk-serial {\n",
              "  display: flex;\n",
              "  flex-direction: column;\n",
              "  align-items: center;\n",
              "  background-color: var(--sklearn-color-background);\n",
              "  padding-right: 1em;\n",
              "  padding-left: 1em;\n",
              "}\n",
              "\n",
              "\n",
              "/* Toggleable style: style used for estimator/Pipeline/ColumnTransformer box that is\n",
              "clickable and can be expanded/collapsed.\n",
              "- Pipeline and ColumnTransformer use this feature and define the default style\n",
              "- Estimators will overwrite some part of the style using the `sk-estimator` class\n",
              "*/\n",
              "\n",
              "/* Pipeline and ColumnTransformer style (default) */\n",
              "\n",
              "#sk-container-id-2 div.sk-toggleable {\n",
              "  /* Default theme specific background. It is overwritten whether we have a\n",
              "  specific estimator or a Pipeline/ColumnTransformer */\n",
              "  background-color: var(--sklearn-color-background);\n",
              "}\n",
              "\n",
              "/* Toggleable label */\n",
              "#sk-container-id-2 label.sk-toggleable__label {\n",
              "  cursor: pointer;\n",
              "  display: flex;\n",
              "  width: 100%;\n",
              "  margin-bottom: 0;\n",
              "  padding: 0.5em;\n",
              "  box-sizing: border-box;\n",
              "  text-align: center;\n",
              "  align-items: start;\n",
              "  justify-content: space-between;\n",
              "  gap: 0.5em;\n",
              "}\n",
              "\n",
              "#sk-container-id-2 label.sk-toggleable__label .caption {\n",
              "  font-size: 0.6rem;\n",
              "  font-weight: lighter;\n",
              "  color: var(--sklearn-color-text-muted);\n",
              "}\n",
              "\n",
              "#sk-container-id-2 label.sk-toggleable__label-arrow:before {\n",
              "  /* Arrow on the left of the label */\n",
              "  content: \"▸\";\n",
              "  float: left;\n",
              "  margin-right: 0.25em;\n",
              "  color: var(--sklearn-color-icon);\n",
              "}\n",
              "\n",
              "#sk-container-id-2 label.sk-toggleable__label-arrow:hover:before {\n",
              "  color: var(--sklearn-color-text);\n",
              "}\n",
              "\n",
              "/* Toggleable content - dropdown */\n",
              "\n",
              "#sk-container-id-2 div.sk-toggleable__content {\n",
              "  max-height: 0;\n",
              "  max-width: 0;\n",
              "  overflow: hidden;\n",
              "  text-align: left;\n",
              "  /* unfitted */\n",
              "  background-color: var(--sklearn-color-unfitted-level-0);\n",
              "}\n",
              "\n",
              "#sk-container-id-2 div.sk-toggleable__content.fitted {\n",
              "  /* fitted */\n",
              "  background-color: var(--sklearn-color-fitted-level-0);\n",
              "}\n",
              "\n",
              "#sk-container-id-2 div.sk-toggleable__content pre {\n",
              "  margin: 0.2em;\n",
              "  border-radius: 0.25em;\n",
              "  color: var(--sklearn-color-text);\n",
              "  /* unfitted */\n",
              "  background-color: var(--sklearn-color-unfitted-level-0);\n",
              "}\n",
              "\n",
              "#sk-container-id-2 div.sk-toggleable__content.fitted pre {\n",
              "  /* unfitted */\n",
              "  background-color: var(--sklearn-color-fitted-level-0);\n",
              "}\n",
              "\n",
              "#sk-container-id-2 input.sk-toggleable__control:checked~div.sk-toggleable__content {\n",
              "  /* Expand drop-down */\n",
              "  max-height: 200px;\n",
              "  max-width: 100%;\n",
              "  overflow: auto;\n",
              "}\n",
              "\n",
              "#sk-container-id-2 input.sk-toggleable__control:checked~label.sk-toggleable__label-arrow:before {\n",
              "  content: \"▾\";\n",
              "}\n",
              "\n",
              "/* Pipeline/ColumnTransformer-specific style */\n",
              "\n",
              "#sk-container-id-2 div.sk-label input.sk-toggleable__control:checked~label.sk-toggleable__label {\n",
              "  color: var(--sklearn-color-text);\n",
              "  background-color: var(--sklearn-color-unfitted-level-2);\n",
              "}\n",
              "\n",
              "#sk-container-id-2 div.sk-label.fitted input.sk-toggleable__control:checked~label.sk-toggleable__label {\n",
              "  background-color: var(--sklearn-color-fitted-level-2);\n",
              "}\n",
              "\n",
              "/* Estimator-specific style */\n",
              "\n",
              "/* Colorize estimator box */\n",
              "#sk-container-id-2 div.sk-estimator input.sk-toggleable__control:checked~label.sk-toggleable__label {\n",
              "  /* unfitted */\n",
              "  background-color: var(--sklearn-color-unfitted-level-2);\n",
              "}\n",
              "\n",
              "#sk-container-id-2 div.sk-estimator.fitted input.sk-toggleable__control:checked~label.sk-toggleable__label {\n",
              "  /* fitted */\n",
              "  background-color: var(--sklearn-color-fitted-level-2);\n",
              "}\n",
              "\n",
              "#sk-container-id-2 div.sk-label label.sk-toggleable__label,\n",
              "#sk-container-id-2 div.sk-label label {\n",
              "  /* The background is the default theme color */\n",
              "  color: var(--sklearn-color-text-on-default-background);\n",
              "}\n",
              "\n",
              "/* On hover, darken the color of the background */\n",
              "#sk-container-id-2 div.sk-label:hover label.sk-toggleable__label {\n",
              "  color: var(--sklearn-color-text);\n",
              "  background-color: var(--sklearn-color-unfitted-level-2);\n",
              "}\n",
              "\n",
              "/* Label box, darken color on hover, fitted */\n",
              "#sk-container-id-2 div.sk-label.fitted:hover label.sk-toggleable__label.fitted {\n",
              "  color: var(--sklearn-color-text);\n",
              "  background-color: var(--sklearn-color-fitted-level-2);\n",
              "}\n",
              "\n",
              "/* Estimator label */\n",
              "\n",
              "#sk-container-id-2 div.sk-label label {\n",
              "  font-family: monospace;\n",
              "  font-weight: bold;\n",
              "  display: inline-block;\n",
              "  line-height: 1.2em;\n",
              "}\n",
              "\n",
              "#sk-container-id-2 div.sk-label-container {\n",
              "  text-align: center;\n",
              "}\n",
              "\n",
              "/* Estimator-specific */\n",
              "#sk-container-id-2 div.sk-estimator {\n",
              "  font-family: monospace;\n",
              "  border: 1px dotted var(--sklearn-color-border-box);\n",
              "  border-radius: 0.25em;\n",
              "  box-sizing: border-box;\n",
              "  margin-bottom: 0.5em;\n",
              "  /* unfitted */\n",
              "  background-color: var(--sklearn-color-unfitted-level-0);\n",
              "}\n",
              "\n",
              "#sk-container-id-2 div.sk-estimator.fitted {\n",
              "  /* fitted */\n",
              "  background-color: var(--sklearn-color-fitted-level-0);\n",
              "}\n",
              "\n",
              "/* on hover */\n",
              "#sk-container-id-2 div.sk-estimator:hover {\n",
              "  /* unfitted */\n",
              "  background-color: var(--sklearn-color-unfitted-level-2);\n",
              "}\n",
              "\n",
              "#sk-container-id-2 div.sk-estimator.fitted:hover {\n",
              "  /* fitted */\n",
              "  background-color: var(--sklearn-color-fitted-level-2);\n",
              "}\n",
              "\n",
              "/* Specification for estimator info (e.g. \"i\" and \"?\") */\n",
              "\n",
              "/* Common style for \"i\" and \"?\" */\n",
              "\n",
              ".sk-estimator-doc-link,\n",
              "a:link.sk-estimator-doc-link,\n",
              "a:visited.sk-estimator-doc-link {\n",
              "  float: right;\n",
              "  font-size: smaller;\n",
              "  line-height: 1em;\n",
              "  font-family: monospace;\n",
              "  background-color: var(--sklearn-color-background);\n",
              "  border-radius: 1em;\n",
              "  height: 1em;\n",
              "  width: 1em;\n",
              "  text-decoration: none !important;\n",
              "  margin-left: 0.5em;\n",
              "  text-align: center;\n",
              "  /* unfitted */\n",
              "  border: var(--sklearn-color-unfitted-level-1) 1pt solid;\n",
              "  color: var(--sklearn-color-unfitted-level-1);\n",
              "}\n",
              "\n",
              ".sk-estimator-doc-link.fitted,\n",
              "a:link.sk-estimator-doc-link.fitted,\n",
              "a:visited.sk-estimator-doc-link.fitted {\n",
              "  /* fitted */\n",
              "  border: var(--sklearn-color-fitted-level-1) 1pt solid;\n",
              "  color: var(--sklearn-color-fitted-level-1);\n",
              "}\n",
              "\n",
              "/* On hover */\n",
              "div.sk-estimator:hover .sk-estimator-doc-link:hover,\n",
              ".sk-estimator-doc-link:hover,\n",
              "div.sk-label-container:hover .sk-estimator-doc-link:hover,\n",
              ".sk-estimator-doc-link:hover {\n",
              "  /* unfitted */\n",
              "  background-color: var(--sklearn-color-unfitted-level-3);\n",
              "  color: var(--sklearn-color-background);\n",
              "  text-decoration: none;\n",
              "}\n",
              "\n",
              "div.sk-estimator.fitted:hover .sk-estimator-doc-link.fitted:hover,\n",
              ".sk-estimator-doc-link.fitted:hover,\n",
              "div.sk-label-container:hover .sk-estimator-doc-link.fitted:hover,\n",
              ".sk-estimator-doc-link.fitted:hover {\n",
              "  /* fitted */\n",
              "  background-color: var(--sklearn-color-fitted-level-3);\n",
              "  color: var(--sklearn-color-background);\n",
              "  text-decoration: none;\n",
              "}\n",
              "\n",
              "/* Span, style for the box shown on hovering the info icon */\n",
              ".sk-estimator-doc-link span {\n",
              "  display: none;\n",
              "  z-index: 9999;\n",
              "  position: relative;\n",
              "  font-weight: normal;\n",
              "  right: .2ex;\n",
              "  padding: .5ex;\n",
              "  margin: .5ex;\n",
              "  width: min-content;\n",
              "  min-width: 20ex;\n",
              "  max-width: 50ex;\n",
              "  color: var(--sklearn-color-text);\n",
              "  box-shadow: 2pt 2pt 4pt #999;\n",
              "  /* unfitted */\n",
              "  background: var(--sklearn-color-unfitted-level-0);\n",
              "  border: .5pt solid var(--sklearn-color-unfitted-level-3);\n",
              "}\n",
              "\n",
              ".sk-estimator-doc-link.fitted span {\n",
              "  /* fitted */\n",
              "  background: var(--sklearn-color-fitted-level-0);\n",
              "  border: var(--sklearn-color-fitted-level-3);\n",
              "}\n",
              "\n",
              ".sk-estimator-doc-link:hover span {\n",
              "  display: block;\n",
              "}\n",
              "\n",
              "/* \"?\"-specific style due to the `<a>` HTML tag */\n",
              "\n",
              "#sk-container-id-2 a.estimator_doc_link {\n",
              "  float: right;\n",
              "  font-size: 1rem;\n",
              "  line-height: 1em;\n",
              "  font-family: monospace;\n",
              "  background-color: var(--sklearn-color-background);\n",
              "  border-radius: 1rem;\n",
              "  height: 1rem;\n",
              "  width: 1rem;\n",
              "  text-decoration: none;\n",
              "  /* unfitted */\n",
              "  color: var(--sklearn-color-unfitted-level-1);\n",
              "  border: var(--sklearn-color-unfitted-level-1) 1pt solid;\n",
              "}\n",
              "\n",
              "#sk-container-id-2 a.estimator_doc_link.fitted {\n",
              "  /* fitted */\n",
              "  border: var(--sklearn-color-fitted-level-1) 1pt solid;\n",
              "  color: var(--sklearn-color-fitted-level-1);\n",
              "}\n",
              "\n",
              "/* On hover */\n",
              "#sk-container-id-2 a.estimator_doc_link:hover {\n",
              "  /* unfitted */\n",
              "  background-color: var(--sklearn-color-unfitted-level-3);\n",
              "  color: var(--sklearn-color-background);\n",
              "  text-decoration: none;\n",
              "}\n",
              "\n",
              "#sk-container-id-2 a.estimator_doc_link.fitted:hover {\n",
              "  /* fitted */\n",
              "  background-color: var(--sklearn-color-fitted-level-3);\n",
              "}\n",
              "</style><div id=\"sk-container-id-2\" class=\"sk-top-container\"><div class=\"sk-text-repr-fallback\"><pre>TfidfVectorizer(lowercase=False, token_pattern=None,\n",
              "                tokenizer=&lt;function &lt;lambda&gt; at 0x7fce1f601fc0&gt;)</pre><b>In a Jupyter environment, please rerun this cell to show the HTML representation or trust the notebook. <br />On GitHub, the HTML representation is unable to render, please try loading this page with nbviewer.org.</b></div><div class=\"sk-container\" hidden><div class=\"sk-item\"><div class=\"sk-estimator fitted sk-toggleable\"><input class=\"sk-toggleable__control sk-hidden--visually\" id=\"sk-estimator-id-2\" type=\"checkbox\" checked><label for=\"sk-estimator-id-2\" class=\"sk-toggleable__label fitted sk-toggleable__label-arrow\"><div><div>TfidfVectorizer</div></div><div><a class=\"sk-estimator-doc-link fitted\" rel=\"noreferrer\" target=\"_blank\" href=\"https://scikit-learn.org/1.6/modules/generated/sklearn.feature_extraction.text.TfidfVectorizer.html\">?<span>Documentation for TfidfVectorizer</span></a><span class=\"sk-estimator-doc-link fitted\">i<span>Fitted</span></span></div></label><div class=\"sk-toggleable__content fitted\"><pre>TfidfVectorizer(lowercase=False, token_pattern=None,\n",
              "                tokenizer=&lt;function &lt;lambda&gt; at 0x7fce1f601fc0&gt;)</pre></div> </div></div></div></div>"
            ],
            "text/plain": [
              "TfidfVectorizer(lowercase=False, token_pattern=None,\n",
              "                tokenizer=<function <lambda> at 0x7fce1f601fc0>)"
            ]
          },
          "execution_count": 89,
          "metadata": {},
          "output_type": "execute_result"
        }
      ],
      "source": [
        "%%time\n",
        "vec.fit(X_train_val)"
      ]
    },
    {
      "cell_type": "code",
      "execution_count": null,
      "metadata": {
        "id": "Qloa1MJD8d_W",
        "outputId": "678035f2-9e1f-4037-c85f-32dceb6bce77"
      },
      "outputs": [
        {
          "name": "stdout",
          "output_type": "stream",
          "text": [
            "CPU times: user 34.9 s, sys: 8.52 s, total: 43.5 s\n",
            "Wall time: 43.5 s\n"
          ]
        }
      ],
      "source": [
        "%%time\n",
        "X_train_val_wv_tfidf = get_corpus_embs_tfidf(X_train_val, word_vectors, word_vectors.vector_size, vec)\n",
        "X_test_wv_tfidf = get_corpus_embs_tfidf(X_test, word_vectors, word_vectors.vector_size, vec)"
      ]
    },
    {
      "cell_type": "code",
      "execution_count": null,
      "metadata": {
        "id": "-ImaYCgH8d_W",
        "outputId": "183eb533-80e2-4b0d-8827-3857ded5dbe7"
      },
      "outputs": [
        {
          "name": "stdout",
          "output_type": "stream",
          "text": [
            "CPU times: user 4.09 s, sys: 9.22 s, total: 13.3 s\n",
            "Wall time: 59min 28s\n"
          ]
        },
        {
          "data": {
            "text/html": [
              "<style>#sk-container-id-3 {\n",
              "  /* Definition of color scheme common for light and dark mode */\n",
              "  --sklearn-color-text: #000;\n",
              "  --sklearn-color-text-muted: #666;\n",
              "  --sklearn-color-line: gray;\n",
              "  /* Definition of color scheme for unfitted estimators */\n",
              "  --sklearn-color-unfitted-level-0: #fff5e6;\n",
              "  --sklearn-color-unfitted-level-1: #f6e4d2;\n",
              "  --sklearn-color-unfitted-level-2: #ffe0b3;\n",
              "  --sklearn-color-unfitted-level-3: chocolate;\n",
              "  /* Definition of color scheme for fitted estimators */\n",
              "  --sklearn-color-fitted-level-0: #f0f8ff;\n",
              "  --sklearn-color-fitted-level-1: #d4ebff;\n",
              "  --sklearn-color-fitted-level-2: #b3dbfd;\n",
              "  --sklearn-color-fitted-level-3: cornflowerblue;\n",
              "\n",
              "  /* Specific color for light theme */\n",
              "  --sklearn-color-text-on-default-background: var(--sg-text-color, var(--theme-code-foreground, var(--jp-content-font-color1, black)));\n",
              "  --sklearn-color-background: var(--sg-background-color, var(--theme-background, var(--jp-layout-color0, white)));\n",
              "  --sklearn-color-border-box: var(--sg-text-color, var(--theme-code-foreground, var(--jp-content-font-color1, black)));\n",
              "  --sklearn-color-icon: #696969;\n",
              "\n",
              "  @media (prefers-color-scheme: dark) {\n",
              "    /* Redefinition of color scheme for dark theme */\n",
              "    --sklearn-color-text-on-default-background: var(--sg-text-color, var(--theme-code-foreground, var(--jp-content-font-color1, white)));\n",
              "    --sklearn-color-background: var(--sg-background-color, var(--theme-background, var(--jp-layout-color0, #111)));\n",
              "    --sklearn-color-border-box: var(--sg-text-color, var(--theme-code-foreground, var(--jp-content-font-color1, white)));\n",
              "    --sklearn-color-icon: #878787;\n",
              "  }\n",
              "}\n",
              "\n",
              "#sk-container-id-3 {\n",
              "  color: var(--sklearn-color-text);\n",
              "}\n",
              "\n",
              "#sk-container-id-3 pre {\n",
              "  padding: 0;\n",
              "}\n",
              "\n",
              "#sk-container-id-3 input.sk-hidden--visually {\n",
              "  border: 0;\n",
              "  clip: rect(1px 1px 1px 1px);\n",
              "  clip: rect(1px, 1px, 1px, 1px);\n",
              "  height: 1px;\n",
              "  margin: -1px;\n",
              "  overflow: hidden;\n",
              "  padding: 0;\n",
              "  position: absolute;\n",
              "  width: 1px;\n",
              "}\n",
              "\n",
              "#sk-container-id-3 div.sk-dashed-wrapped {\n",
              "  border: 1px dashed var(--sklearn-color-line);\n",
              "  margin: 0 0.4em 0.5em 0.4em;\n",
              "  box-sizing: border-box;\n",
              "  padding-bottom: 0.4em;\n",
              "  background-color: var(--sklearn-color-background);\n",
              "}\n",
              "\n",
              "#sk-container-id-3 div.sk-container {\n",
              "  /* jupyter's `normalize.less` sets `[hidden] { display: none; }`\n",
              "     but bootstrap.min.css set `[hidden] { display: none !important; }`\n",
              "     so we also need the `!important` here to be able to override the\n",
              "     default hidden behavior on the sphinx rendered scikit-learn.org.\n",
              "     See: https://github.com/scikit-learn/scikit-learn/issues/21755 */\n",
              "  display: inline-block !important;\n",
              "  position: relative;\n",
              "}\n",
              "\n",
              "#sk-container-id-3 div.sk-text-repr-fallback {\n",
              "  display: none;\n",
              "}\n",
              "\n",
              "div.sk-parallel-item,\n",
              "div.sk-serial,\n",
              "div.sk-item {\n",
              "  /* draw centered vertical line to link estimators */\n",
              "  background-image: linear-gradient(var(--sklearn-color-text-on-default-background), var(--sklearn-color-text-on-default-background));\n",
              "  background-size: 2px 100%;\n",
              "  background-repeat: no-repeat;\n",
              "  background-position: center center;\n",
              "}\n",
              "\n",
              "/* Parallel-specific style estimator block */\n",
              "\n",
              "#sk-container-id-3 div.sk-parallel-item::after {\n",
              "  content: \"\";\n",
              "  width: 100%;\n",
              "  border-bottom: 2px solid var(--sklearn-color-text-on-default-background);\n",
              "  flex-grow: 1;\n",
              "}\n",
              "\n",
              "#sk-container-id-3 div.sk-parallel {\n",
              "  display: flex;\n",
              "  align-items: stretch;\n",
              "  justify-content: center;\n",
              "  background-color: var(--sklearn-color-background);\n",
              "  position: relative;\n",
              "}\n",
              "\n",
              "#sk-container-id-3 div.sk-parallel-item {\n",
              "  display: flex;\n",
              "  flex-direction: column;\n",
              "}\n",
              "\n",
              "#sk-container-id-3 div.sk-parallel-item:first-child::after {\n",
              "  align-self: flex-end;\n",
              "  width: 50%;\n",
              "}\n",
              "\n",
              "#sk-container-id-3 div.sk-parallel-item:last-child::after {\n",
              "  align-self: flex-start;\n",
              "  width: 50%;\n",
              "}\n",
              "\n",
              "#sk-container-id-3 div.sk-parallel-item:only-child::after {\n",
              "  width: 0;\n",
              "}\n",
              "\n",
              "/* Serial-specific style estimator block */\n",
              "\n",
              "#sk-container-id-3 div.sk-serial {\n",
              "  display: flex;\n",
              "  flex-direction: column;\n",
              "  align-items: center;\n",
              "  background-color: var(--sklearn-color-background);\n",
              "  padding-right: 1em;\n",
              "  padding-left: 1em;\n",
              "}\n",
              "\n",
              "\n",
              "/* Toggleable style: style used for estimator/Pipeline/ColumnTransformer box that is\n",
              "clickable and can be expanded/collapsed.\n",
              "- Pipeline and ColumnTransformer use this feature and define the default style\n",
              "- Estimators will overwrite some part of the style using the `sk-estimator` class\n",
              "*/\n",
              "\n",
              "/* Pipeline and ColumnTransformer style (default) */\n",
              "\n",
              "#sk-container-id-3 div.sk-toggleable {\n",
              "  /* Default theme specific background. It is overwritten whether we have a\n",
              "  specific estimator or a Pipeline/ColumnTransformer */\n",
              "  background-color: var(--sklearn-color-background);\n",
              "}\n",
              "\n",
              "/* Toggleable label */\n",
              "#sk-container-id-3 label.sk-toggleable__label {\n",
              "  cursor: pointer;\n",
              "  display: flex;\n",
              "  width: 100%;\n",
              "  margin-bottom: 0;\n",
              "  padding: 0.5em;\n",
              "  box-sizing: border-box;\n",
              "  text-align: center;\n",
              "  align-items: start;\n",
              "  justify-content: space-between;\n",
              "  gap: 0.5em;\n",
              "}\n",
              "\n",
              "#sk-container-id-3 label.sk-toggleable__label .caption {\n",
              "  font-size: 0.6rem;\n",
              "  font-weight: lighter;\n",
              "  color: var(--sklearn-color-text-muted);\n",
              "}\n",
              "\n",
              "#sk-container-id-3 label.sk-toggleable__label-arrow:before {\n",
              "  /* Arrow on the left of the label */\n",
              "  content: \"▸\";\n",
              "  float: left;\n",
              "  margin-right: 0.25em;\n",
              "  color: var(--sklearn-color-icon);\n",
              "}\n",
              "\n",
              "#sk-container-id-3 label.sk-toggleable__label-arrow:hover:before {\n",
              "  color: var(--sklearn-color-text);\n",
              "}\n",
              "\n",
              "/* Toggleable content - dropdown */\n",
              "\n",
              "#sk-container-id-3 div.sk-toggleable__content {\n",
              "  max-height: 0;\n",
              "  max-width: 0;\n",
              "  overflow: hidden;\n",
              "  text-align: left;\n",
              "  /* unfitted */\n",
              "  background-color: var(--sklearn-color-unfitted-level-0);\n",
              "}\n",
              "\n",
              "#sk-container-id-3 div.sk-toggleable__content.fitted {\n",
              "  /* fitted */\n",
              "  background-color: var(--sklearn-color-fitted-level-0);\n",
              "}\n",
              "\n",
              "#sk-container-id-3 div.sk-toggleable__content pre {\n",
              "  margin: 0.2em;\n",
              "  border-radius: 0.25em;\n",
              "  color: var(--sklearn-color-text);\n",
              "  /* unfitted */\n",
              "  background-color: var(--sklearn-color-unfitted-level-0);\n",
              "}\n",
              "\n",
              "#sk-container-id-3 div.sk-toggleable__content.fitted pre {\n",
              "  /* unfitted */\n",
              "  background-color: var(--sklearn-color-fitted-level-0);\n",
              "}\n",
              "\n",
              "#sk-container-id-3 input.sk-toggleable__control:checked~div.sk-toggleable__content {\n",
              "  /* Expand drop-down */\n",
              "  max-height: 200px;\n",
              "  max-width: 100%;\n",
              "  overflow: auto;\n",
              "}\n",
              "\n",
              "#sk-container-id-3 input.sk-toggleable__control:checked~label.sk-toggleable__label-arrow:before {\n",
              "  content: \"▾\";\n",
              "}\n",
              "\n",
              "/* Pipeline/ColumnTransformer-specific style */\n",
              "\n",
              "#sk-container-id-3 div.sk-label input.sk-toggleable__control:checked~label.sk-toggleable__label {\n",
              "  color: var(--sklearn-color-text);\n",
              "  background-color: var(--sklearn-color-unfitted-level-2);\n",
              "}\n",
              "\n",
              "#sk-container-id-3 div.sk-label.fitted input.sk-toggleable__control:checked~label.sk-toggleable__label {\n",
              "  background-color: var(--sklearn-color-fitted-level-2);\n",
              "}\n",
              "\n",
              "/* Estimator-specific style */\n",
              "\n",
              "/* Colorize estimator box */\n",
              "#sk-container-id-3 div.sk-estimator input.sk-toggleable__control:checked~label.sk-toggleable__label {\n",
              "  /* unfitted */\n",
              "  background-color: var(--sklearn-color-unfitted-level-2);\n",
              "}\n",
              "\n",
              "#sk-container-id-3 div.sk-estimator.fitted input.sk-toggleable__control:checked~label.sk-toggleable__label {\n",
              "  /* fitted */\n",
              "  background-color: var(--sklearn-color-fitted-level-2);\n",
              "}\n",
              "\n",
              "#sk-container-id-3 div.sk-label label.sk-toggleable__label,\n",
              "#sk-container-id-3 div.sk-label label {\n",
              "  /* The background is the default theme color */\n",
              "  color: var(--sklearn-color-text-on-default-background);\n",
              "}\n",
              "\n",
              "/* On hover, darken the color of the background */\n",
              "#sk-container-id-3 div.sk-label:hover label.sk-toggleable__label {\n",
              "  color: var(--sklearn-color-text);\n",
              "  background-color: var(--sklearn-color-unfitted-level-2);\n",
              "}\n",
              "\n",
              "/* Label box, darken color on hover, fitted */\n",
              "#sk-container-id-3 div.sk-label.fitted:hover label.sk-toggleable__label.fitted {\n",
              "  color: var(--sklearn-color-text);\n",
              "  background-color: var(--sklearn-color-fitted-level-2);\n",
              "}\n",
              "\n",
              "/* Estimator label */\n",
              "\n",
              "#sk-container-id-3 div.sk-label label {\n",
              "  font-family: monospace;\n",
              "  font-weight: bold;\n",
              "  display: inline-block;\n",
              "  line-height: 1.2em;\n",
              "}\n",
              "\n",
              "#sk-container-id-3 div.sk-label-container {\n",
              "  text-align: center;\n",
              "}\n",
              "\n",
              "/* Estimator-specific */\n",
              "#sk-container-id-3 div.sk-estimator {\n",
              "  font-family: monospace;\n",
              "  border: 1px dotted var(--sklearn-color-border-box);\n",
              "  border-radius: 0.25em;\n",
              "  box-sizing: border-box;\n",
              "  margin-bottom: 0.5em;\n",
              "  /* unfitted */\n",
              "  background-color: var(--sklearn-color-unfitted-level-0);\n",
              "}\n",
              "\n",
              "#sk-container-id-3 div.sk-estimator.fitted {\n",
              "  /* fitted */\n",
              "  background-color: var(--sklearn-color-fitted-level-0);\n",
              "}\n",
              "\n",
              "/* on hover */\n",
              "#sk-container-id-3 div.sk-estimator:hover {\n",
              "  /* unfitted */\n",
              "  background-color: var(--sklearn-color-unfitted-level-2);\n",
              "}\n",
              "\n",
              "#sk-container-id-3 div.sk-estimator.fitted:hover {\n",
              "  /* fitted */\n",
              "  background-color: var(--sklearn-color-fitted-level-2);\n",
              "}\n",
              "\n",
              "/* Specification for estimator info (e.g. \"i\" and \"?\") */\n",
              "\n",
              "/* Common style for \"i\" and \"?\" */\n",
              "\n",
              ".sk-estimator-doc-link,\n",
              "a:link.sk-estimator-doc-link,\n",
              "a:visited.sk-estimator-doc-link {\n",
              "  float: right;\n",
              "  font-size: smaller;\n",
              "  line-height: 1em;\n",
              "  font-family: monospace;\n",
              "  background-color: var(--sklearn-color-background);\n",
              "  border-radius: 1em;\n",
              "  height: 1em;\n",
              "  width: 1em;\n",
              "  text-decoration: none !important;\n",
              "  margin-left: 0.5em;\n",
              "  text-align: center;\n",
              "  /* unfitted */\n",
              "  border: var(--sklearn-color-unfitted-level-1) 1pt solid;\n",
              "  color: var(--sklearn-color-unfitted-level-1);\n",
              "}\n",
              "\n",
              ".sk-estimator-doc-link.fitted,\n",
              "a:link.sk-estimator-doc-link.fitted,\n",
              "a:visited.sk-estimator-doc-link.fitted {\n",
              "  /* fitted */\n",
              "  border: var(--sklearn-color-fitted-level-1) 1pt solid;\n",
              "  color: var(--sklearn-color-fitted-level-1);\n",
              "}\n",
              "\n",
              "/* On hover */\n",
              "div.sk-estimator:hover .sk-estimator-doc-link:hover,\n",
              ".sk-estimator-doc-link:hover,\n",
              "div.sk-label-container:hover .sk-estimator-doc-link:hover,\n",
              ".sk-estimator-doc-link:hover {\n",
              "  /* unfitted */\n",
              "  background-color: var(--sklearn-color-unfitted-level-3);\n",
              "  color: var(--sklearn-color-background);\n",
              "  text-decoration: none;\n",
              "}\n",
              "\n",
              "div.sk-estimator.fitted:hover .sk-estimator-doc-link.fitted:hover,\n",
              ".sk-estimator-doc-link.fitted:hover,\n",
              "div.sk-label-container:hover .sk-estimator-doc-link.fitted:hover,\n",
              ".sk-estimator-doc-link.fitted:hover {\n",
              "  /* fitted */\n",
              "  background-color: var(--sklearn-color-fitted-level-3);\n",
              "  color: var(--sklearn-color-background);\n",
              "  text-decoration: none;\n",
              "}\n",
              "\n",
              "/* Span, style for the box shown on hovering the info icon */\n",
              ".sk-estimator-doc-link span {\n",
              "  display: none;\n",
              "  z-index: 9999;\n",
              "  position: relative;\n",
              "  font-weight: normal;\n",
              "  right: .2ex;\n",
              "  padding: .5ex;\n",
              "  margin: .5ex;\n",
              "  width: min-content;\n",
              "  min-width: 20ex;\n",
              "  max-width: 50ex;\n",
              "  color: var(--sklearn-color-text);\n",
              "  box-shadow: 2pt 2pt 4pt #999;\n",
              "  /* unfitted */\n",
              "  background: var(--sklearn-color-unfitted-level-0);\n",
              "  border: .5pt solid var(--sklearn-color-unfitted-level-3);\n",
              "}\n",
              "\n",
              ".sk-estimator-doc-link.fitted span {\n",
              "  /* fitted */\n",
              "  background: var(--sklearn-color-fitted-level-0);\n",
              "  border: var(--sklearn-color-fitted-level-3);\n",
              "}\n",
              "\n",
              ".sk-estimator-doc-link:hover span {\n",
              "  display: block;\n",
              "}\n",
              "\n",
              "/* \"?\"-specific style due to the `<a>` HTML tag */\n",
              "\n",
              "#sk-container-id-3 a.estimator_doc_link {\n",
              "  float: right;\n",
              "  font-size: 1rem;\n",
              "  line-height: 1em;\n",
              "  font-family: monospace;\n",
              "  background-color: var(--sklearn-color-background);\n",
              "  border-radius: 1rem;\n",
              "  height: 1rem;\n",
              "  width: 1rem;\n",
              "  text-decoration: none;\n",
              "  /* unfitted */\n",
              "  color: var(--sklearn-color-unfitted-level-1);\n",
              "  border: var(--sklearn-color-unfitted-level-1) 1pt solid;\n",
              "}\n",
              "\n",
              "#sk-container-id-3 a.estimator_doc_link.fitted {\n",
              "  /* fitted */\n",
              "  border: var(--sklearn-color-fitted-level-1) 1pt solid;\n",
              "  color: var(--sklearn-color-fitted-level-1);\n",
              "}\n",
              "\n",
              "/* On hover */\n",
              "#sk-container-id-3 a.estimator_doc_link:hover {\n",
              "  /* unfitted */\n",
              "  background-color: var(--sklearn-color-unfitted-level-3);\n",
              "  color: var(--sklearn-color-background);\n",
              "  text-decoration: none;\n",
              "}\n",
              "\n",
              "#sk-container-id-3 a.estimator_doc_link.fitted:hover {\n",
              "  /* fitted */\n",
              "  background-color: var(--sklearn-color-fitted-level-3);\n",
              "}\n",
              "</style><div id=\"sk-container-id-3\" class=\"sk-top-container\"><div class=\"sk-text-repr-fallback\"><pre>MultiOutputClassifier(estimator=XGBClassifier(base_score=None, booster=None,\n",
              "                                              callbacks=None,\n",
              "                                              colsample_bylevel=None,\n",
              "                                              colsample_bynode=None,\n",
              "                                              colsample_bytree=0.5, device=None,\n",
              "                                              early_stopping_rounds=None,\n",
              "                                              enable_categorical=False,\n",
              "                                              eval_metric=None,\n",
              "                                              feature_types=None, gamma=None,\n",
              "                                              grow_policy=None,\n",
              "                                              importance_type=None,\n",
              "                                              interaction_constraints=None,\n",
              "                                              learning_rate=0.1368873457281579,\n",
              "                                              max_bin=None,\n",
              "                                              max_cat_threshold=None,\n",
              "                                              max_cat_to_onehot=None,\n",
              "                                              max_delta_step=None, max_depth=7,\n",
              "                                              max_leaves=None,\n",
              "                                              min_child_weight=None,\n",
              "                                              missing=nan,\n",
              "                                              monotone_constraints=None,\n",
              "                                              multi_strategy=None,\n",
              "                                              n_estimators=1648, n_jobs=None,\n",
              "                                              num_parallel_tree=None,\n",
              "                                              random_state=42, ...),\n",
              "                      n_jobs=-1)</pre><b>In a Jupyter environment, please rerun this cell to show the HTML representation or trust the notebook. <br />On GitHub, the HTML representation is unable to render, please try loading this page with nbviewer.org.</b></div><div class=\"sk-container\" hidden><div class=\"sk-item sk-dashed-wrapped\"><div class=\"sk-label-container\"><div class=\"sk-label fitted sk-toggleable\"><input class=\"sk-toggleable__control sk-hidden--visually\" id=\"sk-estimator-id-3\" type=\"checkbox\" ><label for=\"sk-estimator-id-3\" class=\"sk-toggleable__label fitted sk-toggleable__label-arrow\"><div><div>MultiOutputClassifier</div></div><div><a class=\"sk-estimator-doc-link fitted\" rel=\"noreferrer\" target=\"_blank\" href=\"https://scikit-learn.org/1.6/modules/generated/sklearn.multioutput.MultiOutputClassifier.html\">?<span>Documentation for MultiOutputClassifier</span></a><span class=\"sk-estimator-doc-link fitted\">i<span>Fitted</span></span></div></label><div class=\"sk-toggleable__content fitted\"><pre>MultiOutputClassifier(estimator=XGBClassifier(base_score=None, booster=None,\n",
              "                                              callbacks=None,\n",
              "                                              colsample_bylevel=None,\n",
              "                                              colsample_bynode=None,\n",
              "                                              colsample_bytree=0.5, device=None,\n",
              "                                              early_stopping_rounds=None,\n",
              "                                              enable_categorical=False,\n",
              "                                              eval_metric=None,\n",
              "                                              feature_types=None, gamma=None,\n",
              "                                              grow_policy=None,\n",
              "                                              importance_type=None,\n",
              "                                              interaction_constraints=None,\n",
              "                                              learning_rate=0.1368873457281579,\n",
              "                                              max_bin=None,\n",
              "                                              max_cat_threshold=None,\n",
              "                                              max_cat_to_onehot=None,\n",
              "                                              max_delta_step=None, max_depth=7,\n",
              "                                              max_leaves=None,\n",
              "                                              min_child_weight=None,\n",
              "                                              missing=nan,\n",
              "                                              monotone_constraints=None,\n",
              "                                              multi_strategy=None,\n",
              "                                              n_estimators=1648, n_jobs=None,\n",
              "                                              num_parallel_tree=None,\n",
              "                                              random_state=42, ...),\n",
              "                      n_jobs=-1)</pre></div> </div></div><div class=\"sk-parallel\"><div class=\"sk-parallel-item\"><div class=\"sk-item\"><div class=\"sk-label-container\"><div class=\"sk-label fitted sk-toggleable\"><input class=\"sk-toggleable__control sk-hidden--visually\" id=\"sk-estimator-id-4\" type=\"checkbox\" ><label for=\"sk-estimator-id-4\" class=\"sk-toggleable__label fitted sk-toggleable__label-arrow\"><div><div>estimator: XGBClassifier</div></div></label><div class=\"sk-toggleable__content fitted\"><pre>XGBClassifier(base_score=None, booster=None, callbacks=None,\n",
              "              colsample_bylevel=None, colsample_bynode=None,\n",
              "              colsample_bytree=0.5, device=None, early_stopping_rounds=None,\n",
              "              enable_categorical=False, eval_metric=None, feature_types=None,\n",
              "              gamma=None, grow_policy=None, importance_type=None,\n",
              "              interaction_constraints=None, learning_rate=0.1368873457281579,\n",
              "              max_bin=None, max_cat_threshold=None, max_cat_to_onehot=None,\n",
              "              max_delta_step=None, max_depth=7, max_leaves=None,\n",
              "              min_child_weight=None, missing=nan, monotone_constraints=None,\n",
              "              multi_strategy=None, n_estimators=1648, n_jobs=None,\n",
              "              num_parallel_tree=None, random_state=42, ...)</pre></div> </div></div><div class=\"sk-serial\"><div class=\"sk-item\"><div class=\"sk-estimator fitted sk-toggleable\"><input class=\"sk-toggleable__control sk-hidden--visually\" id=\"sk-estimator-id-5\" type=\"checkbox\" ><label for=\"sk-estimator-id-5\" class=\"sk-toggleable__label fitted sk-toggleable__label-arrow\"><div><div>XGBClassifier</div></div></label><div class=\"sk-toggleable__content fitted\"><pre>XGBClassifier(base_score=None, booster=None, callbacks=None,\n",
              "              colsample_bylevel=None, colsample_bynode=None,\n",
              "              colsample_bytree=0.5, device=None, early_stopping_rounds=None,\n",
              "              enable_categorical=False, eval_metric=None, feature_types=None,\n",
              "              gamma=None, grow_policy=None, importance_type=None,\n",
              "              interaction_constraints=None, learning_rate=0.1368873457281579,\n",
              "              max_bin=None, max_cat_threshold=None, max_cat_to_onehot=None,\n",
              "              max_delta_step=None, max_depth=7, max_leaves=None,\n",
              "              min_child_weight=None, missing=nan, monotone_constraints=None,\n",
              "              multi_strategy=None, n_estimators=1648, n_jobs=None,\n",
              "              num_parallel_tree=None, random_state=42, ...)</pre></div> </div></div></div></div></div></div></div></div></div>"
            ],
            "text/plain": [
              "MultiOutputClassifier(estimator=XGBClassifier(base_score=None, booster=None,\n",
              "                                              callbacks=None,\n",
              "                                              colsample_bylevel=None,\n",
              "                                              colsample_bynode=None,\n",
              "                                              colsample_bytree=0.5, device=None,\n",
              "                                              early_stopping_rounds=None,\n",
              "                                              enable_categorical=False,\n",
              "                                              eval_metric=None,\n",
              "                                              feature_types=None, gamma=None,\n",
              "                                              grow_policy=None,\n",
              "                                              importance_type=None,\n",
              "                                              interaction_constraints=None,\n",
              "                                              learning_rate=0.1368873457281579,\n",
              "                                              max_bin=None,\n",
              "                                              max_cat_threshold=None,\n",
              "                                              max_cat_to_onehot=None,\n",
              "                                              max_delta_step=None, max_depth=7,\n",
              "                                              max_leaves=None,\n",
              "                                              min_child_weight=None,\n",
              "                                              missing=nan,\n",
              "                                              monotone_constraints=None,\n",
              "                                              multi_strategy=None,\n",
              "                                              n_estimators=1648, n_jobs=None,\n",
              "                                              num_parallel_tree=None,\n",
              "                                              random_state=42, ...),\n",
              "                      n_jobs=-1)"
            ]
          },
          "execution_count": 95,
          "metadata": {},
          "output_type": "execute_result"
        }
      ],
      "source": [
        "%%time\n",
        "xgb_multi = MultiOutputClassifier(XGBClassifier(**study.best_params, objective='binary:logistic', random_state=42), n_jobs=-1)\n",
        "xgb_multi.fit(X_train_val_wv_tfidf, y_train_val[multilabel_cols])"
      ]
    },
    {
      "cell_type": "code",
      "execution_count": null,
      "metadata": {
        "id": "eaMhgOIp8d_W"
      },
      "outputs": [],
      "source": [
        "def plot_metrics_multi(\n",
        "    estimator,\n",
        "    model_name,\n",
        "    label_names,\n",
        "    X_left,\n",
        "    y_left,\n",
        "    X_right,\n",
        "    y_right,\n",
        "    left_set_name,\n",
        "    right_set_name,\n",
        "    is_catboost=False\n",
        "):\n",
        "    '''\n",
        "    estimator\n",
        "        fitted on (X_left, y_left) instance of a model\n",
        "    model_name: str\n",
        "        info about model to show in title\n",
        "    label_names: str\n",
        "        class labels\n",
        "    '''\n",
        "    y_left_pred = estimator.predict(X_left)\n",
        "    y_right_pred = estimator.predict(X_right)\n",
        "\n",
        "    if is_catboost:\n",
        "        y_left_pred_proba = estimator.predict_proba(X_left)\n",
        "        y_right_pred_proba = estimator.predict_proba(X_right)\n",
        "    else:\n",
        "        y_left_pred_proba = np.array([arr[:, 1] for arr in estimator.predict_proba(X_left)]).T\n",
        "        y_right_pred_proba = np.array([arr[:, 1] for arr in estimator.predict_proba(X_right)]).T\n",
        "\n",
        "\n",
        "    y_pred_dict = {\n",
        "        left_set_name: y_left_pred,\n",
        "        f'{left_set_name}_proba': y_left_pred_proba,\n",
        "        right_set_name: y_right_pred,\n",
        "        f'{right_set_name}_proba': y_right_pred_proba\n",
        "    }\n",
        "\n",
        "    y_true_dict = {\n",
        "        left_set_name: y_left,\n",
        "        right_set_name: y_right\n",
        "    }\n",
        "\n",
        "    def plot_metrics_table(y_true, y_pred, set_name, ax):\n",
        "        tbl = pd.DataFrame.from_dict(classification_report(y_true, y_pred, zero_division=np.nan, target_names=label_names, output_dict=True)) \\\n",
        "            .drop(['micro avg', 'samples avg'], axis=1) \\\n",
        "            .T \\\n",
        "            .astype('float64') \\\n",
        "            .apply(lambda s: s.apply('{:,.0f}'.format) if s.name=='support' else s.apply('{:.2f}'.format), axis=0)\n",
        "        ax_tbl = ax.table(cellText=tbl.values, rowLabels=tbl.index.values, colLabels=tbl.columns.values, loc='center')\n",
        "        ax_tbl.auto_set_font_size(False)\n",
        "        ax_tbl.set_fontsize('small')\n",
        "        ax.axis('off')\n",
        "        ax_tbl.scale(1, 0.7)\n",
        "        ax.set_title(f'{set_name}', loc='left')\n",
        "\n",
        "    def plot_roc_curve(y_true, y_pred_proba, ax):\n",
        "        fpr_grid = np.linspace(0.0, 1.0, 1000)\n",
        "        mean_tpr = np.zeros_like(fpr_grid)\n",
        "\n",
        "        for i, label in enumerate(label_names):\n",
        "            fpr, tpr, _ = roc_curve(y_true[:,i], y_pred_proba[:,i])\n",
        "            mean_tpr += np.interp(fpr_grid, fpr, tpr)\n",
        "            ax.plot(fpr, tpr, label=f'ROC for {label}, AUC={auc(fpr, tpr):.2f}')\n",
        "\n",
        "        mean_tpr /= len(label_names)\n",
        "        fpr_macro = fpr_grid\n",
        "        tpr_macro = mean_tpr\n",
        "        ax.plot(fpr_macro, tpr_macro, '--', label=f'macro-average ROC curve, AUC={auc(fpr_macro, tpr_macro):.2f}')\n",
        "\n",
        "        ax.plot([0, 1], [0, 1], 'k--', lw=0.5, label='Chance level, AUC=0.5')\n",
        "\n",
        "        ax.set_xlabel('FPR')\n",
        "        ax.set_ylabel('TPR')\n",
        "        ax.legend(fontsize='x-small', loc='lower right')\n",
        "        ax.set_title(f'ROC', loc='left', fontsize='small')\n",
        "        ax.grid()\n",
        "        ax.set_ylim(bottom=0, top=1)\n",
        "        ax.set_xlim(left=0, right=1)\n",
        "\n",
        "    def plot_pr_curve(y_true, y_pred_proba, ax):\n",
        "        for i, label in enumerate(label_names):\n",
        "            prec, rec, _ = precision_recall_curve(y_true[:,i], y_pred_proba[:,i])\n",
        "            sorted_index = np.argsort(rec)\n",
        "            prec = prec[sorted_index]\n",
        "            rec = rec[sorted_index]\n",
        "            ax.plot(rec, prec, label=f'P-R for {label}, AUC={auc(rec, prec):.2f}, AP={average_precision_score(y_true[:,i], y_pred_proba[:,i]):.2f}')\n",
        "\n",
        "        f_scores = np.linspace(0.2, 0.8, num=4)\n",
        "        for f_score in f_scores:\n",
        "            x = np.linspace(0.01, 1)\n",
        "            y = f_score * x / (2 * x - f_score)\n",
        "            (l,) = ax.plot(x[y >= 0], y[y >= 0], color='gray', alpha=0.2)\n",
        "            ax.annotate(f'f1={f_score:0.1f}', xy=(0.9, y[45] + 0.02), fontsize='x-small')\n",
        "\n",
        "        ax.set_ylim(bottom=0, top=1)\n",
        "        ax.set_xlim(left=0, right=1)\n",
        "\n",
        "        handles, labels = ax.get_legend_handles_labels()\n",
        "        handles.extend([l])\n",
        "        labels.extend(['iso f1 curves'])\n",
        "        ax.legend(handles=handles, labels=labels, loc='best', fontsize='x-small')\n",
        "        ax.set_xlabel('Recall')\n",
        "        ax.set_ylabel('Precision')\n",
        "        ax.set_title(f'Precision-Recall', loc='left', fontsize='small')\n",
        "        ax.grid()\n",
        "\n",
        "    fig = plt.figure(figsize=(9, 9), layout='constrained')\n",
        "    gs = fig.add_gridspec(3, 2, height_ratios=[0.18, 0.41, 0.41])\n",
        "    nrows, ncols = gs.get_geometry()\n",
        "    ax = [[fig.add_subplot(gs[row, col]) for col in range(ncols)] for row in range(nrows)]\n",
        "\n",
        "    for colnum, set_name in enumerate([left_set_name, right_set_name]):\n",
        "        plot_metrics_table(y_true_dict[set_name], y_pred_dict[set_name], set_name, ax[0][colnum])\n",
        "        plot_roc_curve(y_true_dict[set_name].values, y_pred_dict[f'{set_name}_proba'], ax[1][colnum])\n",
        "        plot_pr_curve(y_true_dict[set_name].values, y_pred_dict[f'{set_name}_proba'], ax[2][colnum])\n",
        "\n",
        "    fig.suptitle(f'Multilabel classification metrics for {model_name}')"
      ]
    },
    {
      "cell_type": "code",
      "execution_count": null,
      "metadata": {
        "id": "d9nLSNH08d_X",
        "outputId": "ea758c02-c1eb-4614-92a1-c3554159e4c8"
      },
      "outputs": [
        {
          "data": {
            "image/png": "[encoded data removed]",
            "text/plain": [
              "<Figure size 900x900 with 6 Axes>"
            ]
          },
          "metadata": {},
          "output_type": "display_data"
        }
      ],
      "source": [
        "plot_metrics_multi(\n",
        "    xgb_multi,\n",
        "    'Word2Vec + XGBoost',\n",
        "    multilabel_cols,\n",
        "    X_train_val_wv_tfidf,\n",
        "    y_train_val[multilabel_cols],\n",
        "    X_test_wv_tfidf,\n",
        "    y_test[multilabel_cols],\n",
        "    'TRAIN+VAL',\n",
        "    'TEST')"
      ]
    }
  ],
  "metadata": {
    "colab": {
      "provenance": [],
      "toc_visible": true,
      "include_colab_link": true
    },
    "kernelspec": {
      "display_name": "Python 3 (ipykernel)",
      "language": "python",
      "name": "python3"
    },
    "language_info": {
      "codemirror_mode": {
        "name": "ipython",
        "version": 3
      },
      "file_extension": ".py",
      "mimetype": "text/x-python",
      "name": "python",
      "nbconvert_exporter": "python",
      "pygments_lexer": "ipython3",
      "version": "3.10.12"
    },
    "widgets": {
      "application/vnd.jupyter.widget-state+json": {
        "096b1e037a6d4b5e841cbfd15f04cabd": {
          "model_module": "@jupyter-widgets/base",
          "model_module_version": "1.2.0",
          "model_name": "LayoutModel",
          "state": {
            "_model_module": "@jupyter-widgets/base",
            "_model_module_version": "1.2.0",
            "_model_name": "LayoutModel",
            "_view_count": null,
            "_view_module": "@jupyter-widgets/base",
            "_view_module_version": "1.2.0",
            "_view_name": "LayoutView",
            "align_content": null,
            "align_items": null,
            "align_self": null,
            "border": null,
            "bottom": null,
            "display": null,
            "flex": null,
            "flex_flow": null,
            "grid_area": null,
            "grid_auto_columns": null,
            "grid_auto_flow": null,
            "grid_auto_rows": null,
            "grid_column": null,
            "grid_gap": null,
            "grid_row": null,
            "grid_template_areas": null,
            "grid_template_columns": null,
            "grid_template_rows": null,
            "height": null,
            "justify_content": null,
            "justify_items": null,
            "left": null,
            "margin": null,
            "max_height": null,
            "max_width": null,
            "min_height": null,
            "min_width": null,
            "object_fit": null,
            "object_position": null,
            "order": null,
            "overflow": null,
            "overflow_x": null,
            "overflow_y": null,
            "padding": null,
            "right": null,
            "top": null,
            "visibility": null,
            "width": null
          }
        },
        "0c4487052a7c45919dffa8c75f4331d9": {
          "model_module": "@jupyter-widgets/controls",
          "model_module_version": "1.5.0",
          "model_name": "DescriptionStyleModel",
          "state": {
            "_model_module": "@jupyter-widgets/controls",
            "_model_module_version": "1.5.0",
            "_model_name": "DescriptionStyleModel",
            "_view_count": null,
            "_view_module": "@jupyter-widgets/base",
            "_view_module_version": "1.2.0",
            "_view_name": "StyleView",
            "description_width": ""
          }
        },
        "1044d6dca5bb4fc595ef35511e492640": {
          "model_module": "@jupyter-widgets/controls",
          "model_module_version": "1.5.0",
          "model_name": "ProgressStyleModel",
          "state": {
            "_model_module": "@jupyter-widgets/controls",
            "_model_module_version": "1.5.0",
            "_model_name": "ProgressStyleModel",
            "_view_count": null,
            "_view_module": "@jupyter-widgets/base",
            "_view_module_version": "1.2.0",
            "_view_name": "StyleView",
            "bar_color": null,
            "description_width": ""
          }
        },
        "18b241d2882e47f99acd72266a3fd309": {
          "model_module": "@jupyter-widgets/controls",
          "model_module_version": "1.5.0",
          "model_name": "FloatProgressModel",
          "state": {
            "_dom_classes": [],
            "_model_module": "@jupyter-widgets/controls",
            "_model_module_version": "1.5.0",
            "_model_name": "FloatProgressModel",
            "_view_count": null,
            "_view_module": "@jupyter-widgets/controls",
            "_view_module_version": "1.5.0",
            "_view_name": "ProgressView",
            "bar_style": "success",
            "description": "",
            "description_tooltip": null,
            "layout": "IPY_MODEL_be53e23d6c92497aaeb362e64a27531d",
            "max": 1092977,
            "min": 0,
            "orientation": "horizontal",
            "style": "IPY_MODEL_4190da204a354ff584433aa9acec42bd",
            "value": 1092977
          }
        },
        "3365ca02ffeb4c7bb4b163f32666aa88": {
          "model_module": "@jupyter-widgets/controls",
          "model_module_version": "1.5.0",
          "model_name": "HTMLModel",
          "state": {
            "_dom_classes": [],
            "_model_module": "@jupyter-widgets/controls",
            "_model_module_version": "1.5.0",
            "_model_name": "HTMLModel",
            "_view_count": null,
            "_view_module": "@jupyter-widgets/controls",
            "_view_module_version": "1.5.0",
            "_view_name": "HTMLView",
            "description": "",
            "description_tooltip": null,
            "layout": "IPY_MODEL_79aea13aaf0a4bbf94cf7609172a1a34",
            "placeholder": "​",
            "style": "IPY_MODEL_d0c127d68a2146348f1f4e723ee45130",
            "value": " 273245/273245 [00:18&lt;00:00, 14258.87it/s]"
          }
        },
        "4190da204a354ff584433aa9acec42bd": {
          "model_module": "@jupyter-widgets/controls",
          "model_module_version": "1.5.0",
          "model_name": "ProgressStyleModel",
          "state": {
            "_model_module": "@jupyter-widgets/controls",
            "_model_module_version": "1.5.0",
            "_model_name": "ProgressStyleModel",
            "_view_count": null,
            "_view_module": "@jupyter-widgets/base",
            "_view_module_version": "1.2.0",
            "_view_name": "StyleView",
            "bar_color": null,
            "description_width": ""
          }
        },
        "4cda5b31dfa7488ea4a34fc5185680c4": {
          "model_module": "@jupyter-widgets/controls",
          "model_module_version": "1.5.0",
          "model_name": "HBoxModel",
          "state": {
            "_dom_classes": [],
            "_model_module": "@jupyter-widgets/controls",
            "_model_module_version": "1.5.0",
            "_model_name": "HBoxModel",
            "_view_count": null,
            "_view_module": "@jupyter-widgets/controls",
            "_view_module_version": "1.5.0",
            "_view_name": "HBoxView",
            "box_style": "",
            "children": [
              "IPY_MODEL_a2e413af725642b5b14d783efdabdc9a",
              "IPY_MODEL_18b241d2882e47f99acd72266a3fd309",
              "IPY_MODEL_fce8df36590d4d2a9a4752824823d435"
            ],
            "layout": "IPY_MODEL_8f95c20bb8c94120a1370bb62a6b40e1"
          }
        },
        "51e637a59c7244ce86ea6f5657b0acb2": {
          "model_module": "@jupyter-widgets/base",
          "model_module_version": "1.2.0",
          "model_name": "LayoutModel",
          "state": {
            "_model_module": "@jupyter-widgets/base",
            "_model_module_version": "1.2.0",
            "_model_name": "LayoutModel",
            "_view_count": null,
            "_view_module": "@jupyter-widgets/base",
            "_view_module_version": "1.2.0",
            "_view_name": "LayoutView",
            "align_content": null,
            "align_items": null,
            "align_self": null,
            "border": null,
            "bottom": null,
            "display": null,
            "flex": null,
            "flex_flow": null,
            "grid_area": null,
            "grid_auto_columns": null,
            "grid_auto_flow": null,
            "grid_auto_rows": null,
            "grid_column": null,
            "grid_gap": null,
            "grid_row": null,
            "grid_template_areas": null,
            "grid_template_columns": null,
            "grid_template_rows": null,
            "height": null,
            "justify_content": null,
            "justify_items": null,
            "left": null,
            "margin": null,
            "max_height": null,
            "max_width": null,
            "min_height": null,
            "min_width": null,
            "object_fit": null,
            "object_position": null,
            "order": null,
            "overflow": null,
            "overflow_x": null,
            "overflow_y": null,
            "padding": null,
            "right": null,
            "top": null,
            "visibility": null,
            "width": null
          }
        },
        "51f543f87cf043f98460632bee648f41": {
          "model_module": "@jupyter-widgets/base",
          "model_module_version": "1.2.0",
          "model_name": "LayoutModel",
          "state": {
            "_model_module": "@jupyter-widgets/base",
            "_model_module_version": "1.2.0",
            "_model_name": "LayoutModel",
            "_view_count": null,
            "_view_module": "@jupyter-widgets/base",
            "_view_module_version": "1.2.0",
            "_view_name": "LayoutView",
            "align_content": null,
            "align_items": null,
            "align_self": null,
            "border": null,
            "bottom": null,
            "display": null,
            "flex": null,
            "flex_flow": null,
            "grid_area": null,
            "grid_auto_columns": null,
            "grid_auto_flow": null,
            "grid_auto_rows": null,
            "grid_column": null,
            "grid_gap": null,
            "grid_row": null,
            "grid_template_areas": null,
            "grid_template_columns": null,
            "grid_template_rows": null,
            "height": null,
            "justify_content": null,
            "justify_items": null,
            "left": null,
            "margin": null,
            "max_height": null,
            "max_width": null,
            "min_height": null,
            "min_width": null,
            "object_fit": null,
            "object_position": null,
            "order": null,
            "overflow": null,
            "overflow_x": null,
            "overflow_y": null,
            "padding": null,
            "right": null,
            "top": null,
            "visibility": null,
            "width": null
          }
        },
        "693dd3b6742c44d1953b78f36e7c3f94": {
          "model_module": "@jupyter-widgets/base",
          "model_module_version": "1.2.0",
          "model_name": "LayoutModel",
          "state": {
            "_model_module": "@jupyter-widgets/base",
            "_model_module_version": "1.2.0",
            "_model_name": "LayoutModel",
            "_view_count": null,
            "_view_module": "@jupyter-widgets/base",
            "_view_module_version": "1.2.0",
            "_view_name": "LayoutView",
            "align_content": null,
            "align_items": null,
            "align_self": null,
            "border": null,
            "bottom": null,
            "display": null,
            "flex": null,
            "flex_flow": null,
            "grid_area": null,
            "grid_auto_columns": null,
            "grid_auto_flow": null,
            "grid_auto_rows": null,
            "grid_column": null,
            "grid_gap": null,
            "grid_row": null,
            "grid_template_areas": null,
            "grid_template_columns": null,
            "grid_template_rows": null,
            "height": null,
            "justify_content": null,
            "justify_items": null,
            "left": null,
            "margin": null,
            "max_height": null,
            "max_width": null,
            "min_height": null,
            "min_width": null,
            "object_fit": null,
            "object_position": null,
            "order": null,
            "overflow": null,
            "overflow_x": null,
            "overflow_y": null,
            "padding": null,
            "right": null,
            "top": null,
            "visibility": null,
            "width": null
          }
        },
        "6e547496e8614cccabb51622bb29f2d9": {
          "model_module": "@jupyter-widgets/controls",
          "model_module_version": "1.5.0",
          "model_name": "DescriptionStyleModel",
          "state": {
            "_model_module": "@jupyter-widgets/controls",
            "_model_module_version": "1.5.0",
            "_model_name": "DescriptionStyleModel",
            "_view_count": null,
            "_view_module": "@jupyter-widgets/base",
            "_view_module_version": "1.2.0",
            "_view_name": "StyleView",
            "description_width": ""
          }
        },
        "79aea13aaf0a4bbf94cf7609172a1a34": {
          "model_module": "@jupyter-widgets/base",
          "model_module_version": "1.2.0",
          "model_name": "LayoutModel",
          "state": {
            "_model_module": "@jupyter-widgets/base",
            "_model_module_version": "1.2.0",
            "_model_name": "LayoutModel",
            "_view_count": null,
            "_view_module": "@jupyter-widgets/base",
            "_view_module_version": "1.2.0",
            "_view_name": "LayoutView",
            "align_content": null,
            "align_items": null,
            "align_self": null,
            "border": null,
            "bottom": null,
            "display": null,
            "flex": null,
            "flex_flow": null,
            "grid_area": null,
            "grid_auto_columns": null,
            "grid_auto_flow": null,
            "grid_auto_rows": null,
            "grid_column": null,
            "grid_gap": null,
            "grid_row": null,
            "grid_template_areas": null,
            "grid_template_columns": null,
            "grid_template_rows": null,
            "height": null,
            "justify_content": null,
            "justify_items": null,
            "left": null,
            "margin": null,
            "max_height": null,
            "max_width": null,
            "min_height": null,
            "min_width": null,
            "object_fit": null,
            "object_position": null,
            "order": null,
            "overflow": null,
            "overflow_x": null,
            "overflow_y": null,
            "padding": null,
            "right": null,
            "top": null,
            "visibility": null,
            "width": null
          }
        },
        "87ce5e4faef4400e8753da54169d43e0": {
          "model_module": "@jupyter-widgets/controls",
          "model_module_version": "1.5.0",
          "model_name": "DescriptionStyleModel",
          "state": {
            "_model_module": "@jupyter-widgets/controls",
            "_model_module_version": "1.5.0",
            "_model_name": "DescriptionStyleModel",
            "_view_count": null,
            "_view_module": "@jupyter-widgets/base",
            "_view_module_version": "1.2.0",
            "_view_name": "StyleView",
            "description_width": ""
          }
        },
        "8f95c20bb8c94120a1370bb62a6b40e1": {
          "model_module": "@jupyter-widgets/base",
          "model_module_version": "1.2.0",
          "model_name": "LayoutModel",
          "state": {
            "_model_module": "@jupyter-widgets/base",
            "_model_module_version": "1.2.0",
            "_model_name": "LayoutModel",
            "_view_count": null,
            "_view_module": "@jupyter-widgets/base",
            "_view_module_version": "1.2.0",
            "_view_name": "LayoutView",
            "align_content": null,
            "align_items": null,
            "align_self": null,
            "border": null,
            "bottom": null,
            "display": null,
            "flex": null,
            "flex_flow": null,
            "grid_area": null,
            "grid_auto_columns": null,
            "grid_auto_flow": null,
            "grid_auto_rows": null,
            "grid_column": null,
            "grid_gap": null,
            "grid_row": null,
            "grid_template_areas": null,
            "grid_template_columns": null,
            "grid_template_rows": null,
            "height": null,
            "justify_content": null,
            "justify_items": null,
            "left": null,
            "margin": null,
            "max_height": null,
            "max_width": null,
            "min_height": null,
            "min_width": null,
            "object_fit": null,
            "object_position": null,
            "order": null,
            "overflow": null,
            "overflow_x": null,
            "overflow_y": null,
            "padding": null,
            "right": null,
            "top": null,
            "visibility": null,
            "width": null
          }
        },
        "a2e413af725642b5b14d783efdabdc9a": {
          "model_module": "@jupyter-widgets/controls",
          "model_module_version": "1.5.0",
          "model_name": "HTMLModel",
          "state": {
            "_dom_classes": [],
            "_model_module": "@jupyter-widgets/controls",
            "_model_module_version": "1.5.0",
            "_model_name": "HTMLModel",
            "_view_count": null,
            "_view_module": "@jupyter-widgets/controls",
            "_view_module_version": "1.5.0",
            "_view_name": "HTMLView",
            "description": "",
            "description_tooltip": null,
            "layout": "IPY_MODEL_edcb04ddd6544c76ac95d2a5732fc980",
            "placeholder": "​",
            "style": "IPY_MODEL_0c4487052a7c45919dffa8c75f4331d9",
            "value": "100%"
          }
        },
        "be53e23d6c92497aaeb362e64a27531d": {
          "model_module": "@jupyter-widgets/base",
          "model_module_version": "1.2.0",
          "model_name": "LayoutModel",
          "state": {
            "_model_module": "@jupyter-widgets/base",
            "_model_module_version": "1.2.0",
            "_model_name": "LayoutModel",
            "_view_count": null,
            "_view_module": "@jupyter-widgets/base",
            "_view_module_version": "1.2.0",
            "_view_name": "LayoutView",
            "align_content": null,
            "align_items": null,
            "align_self": null,
            "border": null,
            "bottom": null,
            "display": null,
            "flex": null,
            "flex_flow": null,
            "grid_area": null,
            "grid_auto_columns": null,
            "grid_auto_flow": null,
            "grid_auto_rows": null,
            "grid_column": null,
            "grid_gap": null,
            "grid_row": null,
            "grid_template_areas": null,
            "grid_template_columns": null,
            "grid_template_rows": null,
            "height": null,
            "justify_content": null,
            "justify_items": null,
            "left": null,
            "margin": null,
            "max_height": null,
            "max_width": null,
            "min_height": null,
            "min_width": null,
            "object_fit": null,
            "object_position": null,
            "order": null,
            "overflow": null,
            "overflow_x": null,
            "overflow_y": null,
            "padding": null,
            "right": null,
            "top": null,
            "visibility": null,
            "width": null
          }
        },
        "d0c127d68a2146348f1f4e723ee45130": {
          "model_module": "@jupyter-widgets/controls",
          "model_module_version": "1.5.0",
          "model_name": "DescriptionStyleModel",
          "state": {
            "_model_module": "@jupyter-widgets/controls",
            "_model_module_version": "1.5.0",
            "_model_name": "DescriptionStyleModel",
            "_view_count": null,
            "_view_module": "@jupyter-widgets/base",
            "_view_module_version": "1.2.0",
            "_view_name": "StyleView",
            "description_width": ""
          }
        },
        "d3d7fcc7de9d43c28caa3db72ef6a5ea": {
          "model_module": "@jupyter-widgets/controls",
          "model_module_version": "1.5.0",
          "model_name": "HBoxModel",
          "state": {
            "_dom_classes": [],
            "_model_module": "@jupyter-widgets/controls",
            "_model_module_version": "1.5.0",
            "_model_name": "HBoxModel",
            "_view_count": null,
            "_view_module": "@jupyter-widgets/controls",
            "_view_module_version": "1.5.0",
            "_view_name": "HBoxView",
            "box_style": "",
            "children": [
              "IPY_MODEL_f8b3144d000e4e0dbc1fa357bde3938a",
              "IPY_MODEL_f113a6c32e444ffcbc671e8ff6d0e6e3",
              "IPY_MODEL_3365ca02ffeb4c7bb4b163f32666aa88"
            ],
            "layout": "IPY_MODEL_096b1e037a6d4b5e841cbfd15f04cabd"
          }
        },
        "edcb04ddd6544c76ac95d2a5732fc980": {
          "model_module": "@jupyter-widgets/base",
          "model_module_version": "1.2.0",
          "model_name": "LayoutModel",
          "state": {
            "_model_module": "@jupyter-widgets/base",
            "_model_module_version": "1.2.0",
            "_model_name": "LayoutModel",
            "_view_count": null,
            "_view_module": "@jupyter-widgets/base",
            "_view_module_version": "1.2.0",
            "_view_name": "LayoutView",
            "align_content": null,
            "align_items": null,
            "align_self": null,
            "border": null,
            "bottom": null,
            "display": null,
            "flex": null,
            "flex_flow": null,
            "grid_area": null,
            "grid_auto_columns": null,
            "grid_auto_flow": null,
            "grid_auto_rows": null,
            "grid_column": null,
            "grid_gap": null,
            "grid_row": null,
            "grid_template_areas": null,
            "grid_template_columns": null,
            "grid_template_rows": null,
            "height": null,
            "justify_content": null,
            "justify_items": null,
            "left": null,
            "margin": null,
            "max_height": null,
            "max_width": null,
            "min_height": null,
            "min_width": null,
            "object_fit": null,
            "object_position": null,
            "order": null,
            "overflow": null,
            "overflow_x": null,
            "overflow_y": null,
            "padding": null,
            "right": null,
            "top": null,
            "visibility": null,
            "width": null
          }
        },
        "f113a6c32e444ffcbc671e8ff6d0e6e3": {
          "model_module": "@jupyter-widgets/controls",
          "model_module_version": "1.5.0",
          "model_name": "FloatProgressModel",
          "state": {
            "_dom_classes": [],
            "_model_module": "@jupyter-widgets/controls",
            "_model_module_version": "1.5.0",
            "_model_name": "FloatProgressModel",
            "_view_count": null,
            "_view_module": "@jupyter-widgets/controls",
            "_view_module_version": "1.5.0",
            "_view_name": "ProgressView",
            "bar_style": "success",
            "description": "",
            "description_tooltip": null,
            "layout": "IPY_MODEL_693dd3b6742c44d1953b78f36e7c3f94",
            "max": 273245,
            "min": 0,
            "orientation": "horizontal",
            "style": "IPY_MODEL_1044d6dca5bb4fc595ef35511e492640",
            "value": 273245
          }
        },
        "f8b3144d000e4e0dbc1fa357bde3938a": {
          "model_module": "@jupyter-widgets/controls",
          "model_module_version": "1.5.0",
          "model_name": "HTMLModel",
          "state": {
            "_dom_classes": [],
            "_model_module": "@jupyter-widgets/controls",
            "_model_module_version": "1.5.0",
            "_model_name": "HTMLModel",
            "_view_count": null,
            "_view_module": "@jupyter-widgets/controls",
            "_view_module_version": "1.5.0",
            "_view_name": "HTMLView",
            "description": "",
            "description_tooltip": null,
            "layout": "IPY_MODEL_51f543f87cf043f98460632bee648f41",
            "placeholder": "​",
            "style": "IPY_MODEL_6e547496e8614cccabb51622bb29f2d9",
            "value": "100%"
          }
        },
        "fce8df36590d4d2a9a4752824823d435": {
          "model_module": "@jupyter-widgets/controls",
          "model_module_version": "1.5.0",
          "model_name": "HTMLModel",
          "state": {
            "_dom_classes": [],
            "_model_module": "@jupyter-widgets/controls",
            "_model_module_version": "1.5.0",
            "_model_name": "HTMLModel",
            "_view_count": null,
            "_view_module": "@jupyter-widgets/controls",
            "_view_module_version": "1.5.0",
            "_view_name": "HTMLView",
            "description": "",
            "description_tooltip": null,
            "layout": "IPY_MODEL_51e637a59c7244ce86ea6f5657b0acb2",
            "placeholder": "​",
            "style": "IPY_MODEL_87ce5e4faef4400e8753da54169d43e0",
            "value": " 1092977/1092977 [01:27&lt;00:00, 13557.06it/s]"
          }
        }
      }
    }
  },
  "nbformat": 4,
  "nbformat_minor": 0
}