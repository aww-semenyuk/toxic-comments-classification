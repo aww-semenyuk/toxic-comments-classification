{
 "cells": [
  {
   "cell_type": "markdown",
   "id": "fdf95351-f598-41db-9bd1-bfe443ec8ae6",
   "metadata": {},
   "source": [
    "# Создание бейзлайна"
   ]
  },
  {
   "cell_type": "markdown",
   "id": "c0399390-fe93-4557-b600-82fd89d19586",
   "metadata": {},
   "source": [
    "## Подгрузка необходимых библиотек и данных"
   ]
  },
  {
   "cell_type": "markdown",
   "id": "242b5509-ed45-42bf-8c3b-16b978ad08ab",
   "metadata": {},
   "source": [
    "### Библиотеки"
   ]
  },
  {
   "cell_type": "code",
   "execution_count": 54,
   "id": "e2c6cfc6-1d2a-4be3-8c7b-f4bf0aa54985",
   "metadata": {},
   "outputs": [
    {
     "name": "stdout",
     "output_type": "stream",
     "text": [
      "INFO: Pandarallel will run on 10 workers.\n",
      "INFO: Pandarallel will use standard multiprocessing data transfer (pipe) to transfer data between the main process and workers.\n"
     ]
    }
   ],
   "source": [
    "# Базовые библиотеки\n",
    "import random\n",
    "import numpy as np\n",
    "import pandas as pd\n",
    "import matplotlib.pyplot as plt\n",
    "import seaborn as sns\n",
    "import nltk\n",
    "from nltk.sentiment.vader import SentimentIntensityAnalyzer\n",
    "import warnings\n",
    "warnings.filterwarnings('ignore')\n",
    "pd.options.display.float_format = '{:.2f}'.format\n",
    "random.seed(42)\n",
    "np.random.seed(42)\n",
    "\n",
    "# Библиотеки ML\n",
    "\n",
    "# Модели\n",
    "from sklearn.linear_model import LogisticRegression\n",
    "from sklearn.svm import LinearSVC\n",
    "from sklearn.naive_bayes import MultinomialNB\n",
    "from catboost import CatBoostClassifier\n",
    "from sklearn.metrics import classification_report\n",
    "from xgboost import XGBClassifier\n",
    "from sklearn.multioutput import MultiOutputClassifier\n",
    "from sklearn.pipeline import Pipeline\n",
    "from sklearn.preprocessing import MaxAbsScaler  \n",
    "\n",
    "# Подбор гиперпараметров, метрики, преобразование переменных\n",
    "import optuna\n",
    "from sklearn.feature_extraction.text import CountVectorizer, TfidfVectorizer\n",
    "from sklearn.model_selection import train_test_split\n",
    "from sklearn.metrics import accuracy_score, precision_score, recall_score, f1_score, confusion_matrix, roc_auc_score, roc_curve, precision_recall_curve, auc\n",
    "\n",
    "# Дополнительные библиотеки\n",
    "from functools import partial\n",
    "from IPython.display import display, HTML\n",
    "from pandarallel import pandarallel\n",
    "pandarallel.initialize(progress_bar=True)"
   ]
  },
  {
   "cell_type": "markdown",
   "id": "6b250bb5-27df-4b8b-ac77-4611e65388cf",
   "metadata": {},
   "source": [
    "### Данные"
   ]
  },
  {
   "cell_type": "code",
   "execution_count": 3,
   "id": "5d8eb1ac-ea79-4a57-a33c-31b3c185b651",
   "metadata": {},
   "outputs": [],
   "source": [
    "df = (pd.read_csv('modified_train.csv', parse_dates=['created_date'],\n",
    "    date_format='ISO8601'\n",
    "))"
   ]
  },
  {
   "cell_type": "code",
   "execution_count": 5,
   "id": "460978ce-841e-4b50-8921-98d684dfdf04",
   "metadata": {},
   "outputs": [
    {
     "data": {
      "text/html": [
       "<div>\n",
       "<style scoped>\n",
       "    .dataframe tbody tr th:only-of-type {\n",
       "        vertical-align: middle;\n",
       "    }\n",
       "\n",
       "    .dataframe tbody tr th {\n",
       "        vertical-align: top;\n",
       "    }\n",
       "\n",
       "    .dataframe thead th {\n",
       "        text-align: right;\n",
       "    }\n",
       "</style>\n",
       "<table border=\"1\" class=\"dataframe\">\n",
       "  <thead>\n",
       "    <tr style=\"text-align: right;\">\n",
       "      <th></th>\n",
       "      <th>id</th>\n",
       "      <th>toxicity</th>\n",
       "      <th>comment_text</th>\n",
       "      <th>severe_toxicity</th>\n",
       "      <th>obscene</th>\n",
       "      <th>identity_attack</th>\n",
       "      <th>insult</th>\n",
       "      <th>threat</th>\n",
       "      <th>created_date</th>\n",
       "      <th>parent_id</th>\n",
       "      <th>...</th>\n",
       "      <th>threat_b</th>\n",
       "      <th>sexual_explicit_b</th>\n",
       "      <th>toxicity_any_kind</th>\n",
       "      <th>num_words</th>\n",
       "      <th>num_sent</th>\n",
       "      <th>num_punct</th>\n",
       "      <th>tokens</th>\n",
       "      <th>tokens_cnt</th>\n",
       "      <th>tokens_ws</th>\n",
       "      <th>ctws</th>\n",
       "    </tr>\n",
       "  </thead>\n",
       "  <tbody>\n",
       "    <tr>\n",
       "      <th>0</th>\n",
       "      <td>5118044</td>\n",
       "      <td>0.98</td>\n",
       "      <td>You can stick your dick up anyone's butt. Why ...</td>\n",
       "      <td>0.13</td>\n",
       "      <td>0.94</td>\n",
       "      <td>0.01</td>\n",
       "      <td>0.25</td>\n",
       "      <td>0.01</td>\n",
       "      <td>2017-04-10 23:30:10.076014+00:00</td>\n",
       "      <td>NaN</td>\n",
       "      <td>...</td>\n",
       "      <td>0</td>\n",
       "      <td>1</td>\n",
       "      <td>1</td>\n",
       "      <td>17</td>\n",
       "      <td>2</td>\n",
       "      <td>3</td>\n",
       "      <td>['you', 'can', 'stick', 'your', 'dick', 'up', ...</td>\n",
       "      <td>15</td>\n",
       "      <td>['stick', 'dick', 'anyone', 'butt', 'law']</td>\n",
       "      <td>stick dick anyone butt law</td>\n",
       "    </tr>\n",
       "    <tr>\n",
       "      <th>1</th>\n",
       "      <td>5380193</td>\n",
       "      <td>0.98</td>\n",
       "      <td>I bet your fat bitter little nerd ass was wait...</td>\n",
       "      <td>0.20</td>\n",
       "      <td>0.94</td>\n",
       "      <td>0.02</td>\n",
       "      <td>0.97</td>\n",
       "      <td>0.02</td>\n",
       "      <td>2017-06-08 18:24:06.236150+00:00</td>\n",
       "      <td>5377903.00</td>\n",
       "      <td>...</td>\n",
       "      <td>0</td>\n",
       "      <td>1</td>\n",
       "      <td>1</td>\n",
       "      <td>30</td>\n",
       "      <td>2</td>\n",
       "      <td>4</td>\n",
       "      <td>['i', 'bet', 'your', 'fat', 'bitter', 'little'...</td>\n",
       "      <td>28</td>\n",
       "      <td>['bet', 'fat', 'bitter', 'little', 'nerd', 'as...</td>\n",
       "      <td>bet fat bitter little nerd as wait day find wa...</td>\n",
       "    </tr>\n",
       "    <tr>\n",
       "      <th>2</th>\n",
       "      <td>5292392</td>\n",
       "      <td>0.95</td>\n",
       "      <td>I hope you die today. The world will be much b...</td>\n",
       "      <td>0.25</td>\n",
       "      <td>0.08</td>\n",
       "      <td>0.01</td>\n",
       "      <td>0.76</td>\n",
       "      <td>0.86</td>\n",
       "      <td>2017-05-23 18:10:27.505027+00:00</td>\n",
       "      <td>5292009.00</td>\n",
       "      <td>...</td>\n",
       "      <td>1</td>\n",
       "      <td>0</td>\n",
       "      <td>1</td>\n",
       "      <td>20</td>\n",
       "      <td>2</td>\n",
       "      <td>2</td>\n",
       "      <td>['i', 'hope', 'you', 'die', 'today', 'the', 'w...</td>\n",
       "      <td>18</td>\n",
       "      <td>['hope', 'die', 'today', 'world', 'much', 'goo...</td>\n",
       "      <td>hope die today world much good without filth like</td>\n",
       "    </tr>\n",
       "    <tr>\n",
       "      <th>3</th>\n",
       "      <td>5481314</td>\n",
       "      <td>0.91</td>\n",
       "      <td>Let them die ..\\nMaybe we should build concent...</td>\n",
       "      <td>0.28</td>\n",
       "      <td>0.01</td>\n",
       "      <td>0.05</td>\n",
       "      <td>0.10</td>\n",
       "      <td>0.88</td>\n",
       "      <td>2017-06-26 21:37:55.561744+00:00</td>\n",
       "      <td>5480942.00</td>\n",
       "      <td>...</td>\n",
       "      <td>1</td>\n",
       "      <td>0</td>\n",
       "      <td>1</td>\n",
       "      <td>22</td>\n",
       "      <td>1</td>\n",
       "      <td>7</td>\n",
       "      <td>['let', 'them', 'die', 'maybe', 'we', 'should'...</td>\n",
       "      <td>18</td>\n",
       "      <td>['let', 'die', 'maybe', 'build', 'concentratio...</td>\n",
       "      <td>let die maybe build concentration camp gas cha...</td>\n",
       "    </tr>\n",
       "    <tr>\n",
       "      <th>4</th>\n",
       "      <td>5588434</td>\n",
       "      <td>0.94</td>\n",
       "      <td>If we shoot them it will be a permanent soluti...</td>\n",
       "      <td>0.15</td>\n",
       "      <td>0.00</td>\n",
       "      <td>0.03</td>\n",
       "      <td>0.50</td>\n",
       "      <td>0.91</td>\n",
       "      <td>2017-07-13 21:15:03.037890+00:00</td>\n",
       "      <td>5586783.00</td>\n",
       "      <td>...</td>\n",
       "      <td>1</td>\n",
       "      <td>0</td>\n",
       "      <td>1</td>\n",
       "      <td>19</td>\n",
       "      <td>2</td>\n",
       "      <td>2</td>\n",
       "      <td>['if', 'we', 'shoot', 'them', 'it', 'will', 'b...</td>\n",
       "      <td>17</td>\n",
       "      <td>['shoot', 'permanent', 'solution', 'creature',...</td>\n",
       "      <td>shoot permanent solution creature waste space</td>\n",
       "    </tr>\n",
       "  </tbody>\n",
       "</table>\n",
       "<p>5 rows × 39 columns</p>\n",
       "</div>"
      ],
      "text/plain": [
       "        id  toxicity                                       comment_text  \\\n",
       "0  5118044      0.98  You can stick your dick up anyone's butt. Why ...   \n",
       "1  5380193      0.98  I bet your fat bitter little nerd ass was wait...   \n",
       "2  5292392      0.95  I hope you die today. The world will be much b...   \n",
       "3  5481314      0.91  Let them die ..\\nMaybe we should build concent...   \n",
       "4  5588434      0.94  If we shoot them it will be a permanent soluti...   \n",
       "\n",
       "   severe_toxicity  obscene  identity_attack  insult  threat  \\\n",
       "0             0.13     0.94             0.01    0.25    0.01   \n",
       "1             0.20     0.94             0.02    0.97    0.02   \n",
       "2             0.25     0.08             0.01    0.76    0.86   \n",
       "3             0.28     0.01             0.05    0.10    0.88   \n",
       "4             0.15     0.00             0.03    0.50    0.91   \n",
       "\n",
       "                      created_date  parent_id  ... threat_b  \\\n",
       "0 2017-04-10 23:30:10.076014+00:00        NaN  ...        0   \n",
       "1 2017-06-08 18:24:06.236150+00:00 5377903.00  ...        0   \n",
       "2 2017-05-23 18:10:27.505027+00:00 5292009.00  ...        1   \n",
       "3 2017-06-26 21:37:55.561744+00:00 5480942.00  ...        1   \n",
       "4 2017-07-13 21:15:03.037890+00:00 5586783.00  ...        1   \n",
       "\n",
       "   sexual_explicit_b  toxicity_any_kind  num_words  num_sent  num_punct  \\\n",
       "0                  1                  1         17         2          3   \n",
       "1                  1                  1         30         2          4   \n",
       "2                  0                  1         20         2          2   \n",
       "3                  0                  1         22         1          7   \n",
       "4                  0                  1         19         2          2   \n",
       "\n",
       "                                              tokens  tokens_cnt  \\\n",
       "0  ['you', 'can', 'stick', 'your', 'dick', 'up', ...          15   \n",
       "1  ['i', 'bet', 'your', 'fat', 'bitter', 'little'...          28   \n",
       "2  ['i', 'hope', 'you', 'die', 'today', 'the', 'w...          18   \n",
       "3  ['let', 'them', 'die', 'maybe', 'we', 'should'...          18   \n",
       "4  ['if', 'we', 'shoot', 'them', 'it', 'will', 'b...          17   \n",
       "\n",
       "                                           tokens_ws  \\\n",
       "0         ['stick', 'dick', 'anyone', 'butt', 'law']   \n",
       "1  ['bet', 'fat', 'bitter', 'little', 'nerd', 'as...   \n",
       "2  ['hope', 'die', 'today', 'world', 'much', 'goo...   \n",
       "3  ['let', 'die', 'maybe', 'build', 'concentratio...   \n",
       "4  ['shoot', 'permanent', 'solution', 'creature',...   \n",
       "\n",
       "                                                ctws  \n",
       "0                         stick dick anyone butt law  \n",
       "1  bet fat bitter little nerd as wait day find wa...  \n",
       "2  hope die today world much good without filth like  \n",
       "3  let die maybe build concentration camp gas cha...  \n",
       "4      shoot permanent solution creature waste space  \n",
       "\n",
       "[5 rows x 39 columns]"
      ]
     },
     "execution_count": 5,
     "metadata": {},
     "output_type": "execute_result"
    }
   ],
   "source": [
    "df.head()"
   ]
  },
  {
   "cell_type": "code",
   "execution_count": 7,
   "id": "564d1070-4261-48b2-a4b9-476b64678b31",
   "metadata": {},
   "outputs": [
    {
     "data": {
      "text/plain": [
       "toxicity_b\n",
       "0   0.89\n",
       "1   0.11\n",
       "Name: proportion, dtype: float64"
      ]
     },
     "execution_count": 7,
     "metadata": {},
     "output_type": "execute_result"
    }
   ],
   "source": [
    "df.toxicity_b.value_counts(normalize=True)"
   ]
  },
  {
   "cell_type": "code",
   "execution_count": 9,
   "id": "b8190776-64d6-45f3-b950-86802d059f39",
   "metadata": {},
   "outputs": [
    {
     "data": {
      "text/plain": [
       "(1799551, 39)"
      ]
     },
     "execution_count": 9,
     "metadata": {},
     "output_type": "execute_result"
    }
   ],
   "source": [
    "df.shape"
   ]
  },
  {
   "cell_type": "code",
   "execution_count": 15,
   "id": "36ee029f-7b54-450f-99b0-6efede65a6e2",
   "metadata": {},
   "outputs": [
    {
     "data": {
      "text/plain": [
       "5052"
      ]
     },
     "execution_count": 15,
     "metadata": {},
     "output_type": "execute_result"
    }
   ],
   "source": [
    "df.ctws.isna().sum()"
   ]
  },
  {
   "cell_type": "code",
   "execution_count": 19,
   "id": "be775e00-8b50-4c76-9668-59d507c2ad7e",
   "metadata": {},
   "outputs": [],
   "source": [
    "df.dropna(subset='ctws', inplace=True)"
   ]
  },
  {
   "cell_type": "code",
   "execution_count": 21,
   "id": "a10a54d9-61cf-429a-9f58-a9c504755e2d",
   "metadata": {},
   "outputs": [
    {
     "data": {
      "text/plain": [
       "Index(['id', 'toxicity', 'comment_text', 'severe_toxicity', 'obscene',\n",
       "       'identity_attack', 'insult', 'threat', 'created_date', 'parent_id',\n",
       "       'rating', 'funny', 'wow', 'sad', 'likes', 'disagree', 'sexual_explicit',\n",
       "       'identity_annotator_count', 'toxicity_annotator_count', 'text_length',\n",
       "       'year', 'year_month', 'toxicity_b', 'any_reaction', 'toxicity_bins',\n",
       "       'severe_toxicity_b', 'obscene_b', 'identity_attack_b', 'insult_b',\n",
       "       'threat_b', 'sexual_explicit_b', 'toxicity_any_kind', 'num_words',\n",
       "       'num_sent', 'num_punct', 'tokens', 'tokens_cnt', 'tokens_ws', 'ctws'],\n",
       "      dtype='object')"
      ]
     },
     "execution_count": 21,
     "metadata": {},
     "output_type": "execute_result"
    }
   ],
   "source": [
    "df.columns"
   ]
  },
  {
   "cell_type": "code",
   "execution_count": 23,
   "id": "7af0ceb6-c738-4ed1-90b1-7e53cfd589ec",
   "metadata": {},
   "outputs": [],
   "source": [
    "df = df.drop(columns=['id', 'toxicity', 'severe_toxicity', 'obscene',\n",
    "       'identity_attack', 'insult', 'threat', 'created_date', 'parent_id',\n",
    "       'rating', 'funny', 'wow', 'sad', 'likes', 'disagree', 'sexual_explicit',\n",
    "       'identity_annotator_count', 'toxicity_annotator_count', 'text_length','year', 'year_month',\n",
    "        'any_reaction', 'toxicity_bins','severe_toxicity_b', 'obscene_b', 'identity_attack_b', 'insult_b',\n",
    "       'threat_b', 'sexual_explicit_b', 'toxicity_any_kind', 'num_words',\n",
    "       'num_sent', 'num_punct', 'tokens', 'tokens_cnt', 'tokens_ws'])"
   ]
  },
  {
   "cell_type": "code",
   "execution_count": 29,
   "id": "2c1d1f96-17cc-4258-86f8-ecfd1aa7b1d0",
   "metadata": {},
   "outputs": [],
   "source": [
    "df.head()\n",
    "df.rename(columns={'toxicity_b':'toxic'}, inplace=True)"
   ]
  },
  {
   "cell_type": "code",
   "execution_count": 35,
   "id": "19a68f61-bf3d-4063-8af5-fea30510c8df",
   "metadata": {},
   "outputs": [],
   "source": [
    "X = df.drop(columns='toxic')\n",
    "y = df['toxic']\n",
    "X_train, X_test, y_train, y_test = train_test_split(X, y, test_size=0.07, random_state=42,stratify=y)"
   ]
  },
  {
   "cell_type": "code",
   "execution_count": 37,
   "id": "8fd52062-5f90-48c4-be3e-23f437859ef9",
   "metadata": {},
   "outputs": [
    {
     "data": {
      "text/plain": [
       "(1668884, 2)"
      ]
     },
     "execution_count": 37,
     "metadata": {},
     "output_type": "execute_result"
    }
   ],
   "source": [
    "X_train.shape"
   ]
  },
  {
   "cell_type": "code",
   "execution_count": 39,
   "id": "07699b0c-c2b6-466e-a961-93c738354255",
   "metadata": {},
   "outputs": [
    {
     "data": {
      "text/plain": [
       "(125615, 2)"
      ]
     },
     "execution_count": 39,
     "metadata": {},
     "output_type": "execute_result"
    }
   ],
   "source": [
    "X_test.shape"
   ]
  },
  {
   "cell_type": "markdown",
   "id": "60680775-a011-47e9-b55f-452b8b5ead08",
   "metadata": {},
   "source": [
    "## Обучение и сохранение моделей"
   ]
  },
  {
   "cell_type": "markdown",
   "id": "369bdb96-6622-4511-96cb-3d0899164cbb",
   "metadata": {},
   "source": [
    "Возьмем наилучшие гиперпараметры моделей Baseline и обучим модели для демонстрации"
   ]
  },
  {
   "cell_type": "markdown",
   "id": "2a20c195-4420-4822-8602-fcc36e2e5de4",
   "metadata": {},
   "source": [
    "### Logistic Regression"
   ]
  },
  {
   "cell_type": "code",
   "execution_count": 74,
   "id": "57b87321-3b22-4297-902e-5e7e609d0528",
   "metadata": {},
   "outputs": [
    {
     "name": "stdout",
     "output_type": "stream",
     "text": [
      "              precision    recall  f1-score   support\n",
      "\n",
      "           0       0.97      0.90      0.94    111537\n",
      "           1       0.51      0.80      0.62     14078\n",
      "\n",
      "    accuracy                           0.89    125615\n",
      "   macro avg       0.74      0.85      0.78    125615\n",
      "weighted avg       0.92      0.89      0.90    125615\n",
      "\n"
     ]
    }
   ],
   "source": [
    "lr_params = {'C': 0.15039683695924158, 'max_iter': 4959, 'class_weight': 'balanced'}\n",
    "log_reg_example = Pipeline([\n",
    "    ('vectorizer', CountVectorizer()), \n",
    "#    ('scaler', MaxAbsScaler()),                          \n",
    "    ('classifier', LogisticRegression(**lr_params, random_state=42))\n",
    "])\n",
    "\n",
    "log_reg_example.fit(X_train['ctws'], y_train)\n",
    "\n",
    "preds = log_reg_example.predict(X_test['ctws'])\n",
    "print(classification_report(y_test, preds))"
   ]
  },
  {
   "cell_type": "markdown",
   "id": "b4f0143d-1a3d-4f75-abaf-8fae631bee07",
   "metadata": {},
   "source": [
    "### SVM"
   ]
  },
  {
   "cell_type": "code",
   "execution_count": 72,
   "id": "dd4383af-b15b-4496-a050-b2b008d1432b",
   "metadata": {},
   "outputs": [
    {
     "name": "stdout",
     "output_type": "stream",
     "text": [
      "              precision    recall  f1-score   support\n",
      "\n",
      "           0       0.97      0.91      0.94    111537\n",
      "           1       0.52      0.78      0.63     14078\n",
      "\n",
      "    accuracy                           0.89    125615\n",
      "   macro avg       0.75      0.85      0.78    125615\n",
      "weighted avg       0.92      0.89      0.90    125615\n",
      "\n"
     ]
    }
   ],
   "source": [
    "svc_params = {'C': 0.012478543429588021, 'penalty': 'l2', 'class_weight': 'balanced'}\n",
    "svc_example= Pipeline([\n",
    "    ('vectorizer', CountVectorizer()),                 \n",
    "#    ('scaler', MaxAbsScaler()),                       \n",
    "    ('classifier', LinearSVC(**svc_params, random_state=42))  \n",
    "])\n",
    "\n",
    "svc_example.fit(X_train['ctws'], y_train)\n",
    "\n",
    "preds_2 = svc_example.predict(X_test['ctws'])\n",
    "print(classification_report(y_test, preds_2))"
   ]
  },
  {
   "cell_type": "markdown",
   "id": "b897d325-ef1b-4a22-83a0-37714b88c11f",
   "metadata": {},
   "source": [
    "### Multinomial NB"
   ]
  },
  {
   "cell_type": "code",
   "execution_count": 70,
   "id": "d514a3b2-5837-498f-ae07-585629becfb0",
   "metadata": {},
   "outputs": [
    {
     "name": "stdout",
     "output_type": "stream",
     "text": [
      "              precision    recall  f1-score   support\n",
      "\n",
      "           0       0.95      0.93      0.94    111537\n",
      "           1       0.49      0.58      0.53     14078\n",
      "\n",
      "    accuracy                           0.89    125615\n",
      "   macro avg       0.72      0.75      0.73    125615\n",
      "weighted avg       0.89      0.89      0.89    125615\n",
      "\n"
     ]
    }
   ],
   "source": [
    "mnb_params = {'alpha': 1.2560819456336068}\n",
    "\n",
    "mnb_example = Pipeline([\n",
    "    ('vectorizer', CountVectorizer()),                                        \n",
    "    ('classifier', MultinomialNB(**mnb_params))  \n",
    "])\n",
    "\n",
    "mnb_example.fit(X_train['ctws'], y_train)\n",
    "\n",
    "preds_3 = mnb_example.predict(X_test['ctws'])\n",
    "print(classification_report(y_test, preds_3))"
   ]
  },
  {
   "cell_type": "markdown",
   "id": "31614bc3-98fd-4f6f-9424-13b4d33d8093",
   "metadata": {},
   "source": [
    "## Сохраненение моделей и данных для последующего использования"
   ]
  },
  {
   "cell_type": "markdown",
   "id": "ee68ddb4-8038-45d6-a11a-0ced58306e18",
   "metadata": {},
   "source": [
    "### Сохранение моделей"
   ]
  },
  {
   "cell_type": "code",
   "execution_count": 83,
   "id": "b1380f82-6b94-4251-b485-ec16bb025e08",
   "metadata": {},
   "outputs": [],
   "source": [
    "import cloudpickle"
   ]
  },
  {
   "cell_type": "code",
   "execution_count": 93,
   "id": "d9e30de6-ffec-40b3-9797-3b3d115f65c1",
   "metadata": {},
   "outputs": [],
   "source": [
    "with open(\"model_lr_e.cloudpickle\", \"wb\") as file:\n",
    "    cloudpickle.dump(log_reg_example, file)"
   ]
  },
  {
   "cell_type": "code",
   "execution_count": 89,
   "id": "cb0db8da-4167-446c-b661-6472fd96b3e1",
   "metadata": {},
   "outputs": [],
   "source": [
    "with open(\"model_svc_e.cloudpickle\", \"wb\") as file:\n",
    "    cloudpickle.dump(svc_example, file)"
   ]
  },
  {
   "cell_type": "code",
   "execution_count": 91,
   "id": "88880213-97e9-4e63-9628-895e294ebff0",
   "metadata": {},
   "outputs": [],
   "source": [
    "with open(\"model_mnb_e.cloudpickle\", \"wb\") as file:\n",
    "    cloudpickle.dump(mnb_example, file)"
   ]
  },
  {
   "cell_type": "markdown",
   "id": "7e6c5bc9-7bf2-4da0-87ee-b617a6966374",
   "metadata": {},
   "source": [
    "### Сохранение данных"
   ]
  },
  {
   "cell_type": "markdown",
   "id": "ec1ab499-195f-4be6-99be-bf50b5245e9d",
   "metadata": {},
   "source": [
    "Сохраним данные test в качестве датасета для пользователя"
   ]
  },
  {
   "cell_type": "code",
   "execution_count": 107,
   "id": "90e847c8-8a89-406d-afe7-a98bd74f7e1a",
   "metadata": {},
   "outputs": [],
   "source": [
    "data = pd.concat([pd.DataFrame(y_test), X_test], axis=1)"
   ]
  },
  {
   "cell_type": "code",
   "execution_count": 113,
   "id": "f366cb49-5a87-4f6a-af9d-2467426641fe",
   "metadata": {},
   "outputs": [],
   "source": [
    "data = data.reset_index(drop = True).drop(columns=['ctws'])"
   ]
  },
  {
   "cell_type": "code",
   "execution_count": 117,
   "id": "ad910cba-74b4-498b-85e6-5eae8a9db493",
   "metadata": {},
   "outputs": [],
   "source": [
    "data.to_csv('demo_data_2.csv')"
   ]
  },
  {
   "cell_type": "code",
   "execution_count": null,
   "id": "fa6273ff-7571-4471-81d3-172d51129d4e",
   "metadata": {},
   "outputs": [],
   "source": []
  }
 ],
 "metadata": {
  "kernelspec": {
   "display_name": "Python 3 (ipykernel)",
   "language": "python",
   "name": "python3"
  },
  "language_info": {
   "codemirror_mode": {
    "name": "ipython",
    "version": 3
   },
   "file_extension": ".py",
   "mimetype": "text/x-python",
   "name": "python",
   "nbconvert_exporter": "python",
   "pygments_lexer": "ipython3",
   "version": "3.12.2"
  },
  "widgets": {
   "application/vnd.jupyter.widget-state+json": {
    "state": {},
    "version_major": 2,
    "version_minor": 0
   }
  }
 },
 "nbformat": 4,
 "nbformat_minor": 5
}
