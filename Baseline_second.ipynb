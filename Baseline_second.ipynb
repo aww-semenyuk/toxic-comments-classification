{
 "cells": [
  {
   "cell_type": "code",
   "id": "initial_id",
   "metadata": {
    "collapsed": true,
    "ExecuteTime": {
     "end_time": "2024-12-04T11:47:43.377184Z",
     "start_time": "2024-12-04T11:47:43.149015Z"
    }
   },
   "source": [
    "import random\n",
    "import pandas as pd\n",
    "import seaborn as sns\n",
    "import matplotlib.pyplot as plt\n",
    "from sklearn.model_selection import train_test_split\n",
    "from sklearn.metrics import precision_score, recall_score, f1_score, confusion_matrix, accuracy_score, roc_auc_score, roc_curve, precision_recall_curve, auc, mean_squared_error, mean_absolute_error, classification_report\n",
    "from sklearn.feature_extraction.text import CountVectorizer, TfidfVectorizer\n",
    "from sklearn.linear_model import LogisticRegression\n",
    "from sklearn.svm import SVC\n",
    "from sklearn.naive_bayes import MultinomialNB\n",
    "from catboost import CatBoostClassifier\n",
    "import optuna\n",
    "\n",
    "import numpy as np\n",
    "\n",
    "pd.options.display.float_format = '{:.2f}'.format\n",
    "random.seed(42)\n",
    "np.random.seed(42)"
   ],
   "outputs": [],
   "execution_count": 1
  },
  {
   "metadata": {
    "ExecuteTime": {
     "end_time": "2024-12-04T11:47:43.379703Z",
     "start_time": "2024-12-04T11:47:43.378161Z"
    }
   },
   "cell_type": "code",
   "source": [
    "# Если возникают проблемы с catboost то понизь версию numpy.\n",
    "#%pip install numpy==1.9"
   ],
   "id": "e30b3296f6539e56",
   "outputs": [],
   "execution_count": 2
  },
  {
   "metadata": {
    "ExecuteTime": {
     "end_time": "2024-12-04T11:47:43.381570Z",
     "start_time": "2024-12-04T11:47:43.380210Z"
    }
   },
   "cell_type": "code",
   "source": [
    "# Попытка ускорить svc\n",
    "# python меньше 3.10\n",
    "#!python3 --version\n",
    "#!python3 -m pip install --upgrade pip --break-system-packages\n",
    "#!python3 -m pip install scikit-learn-intelex --break-system-packages\n"
   ],
   "id": "eef975e1748180c0",
   "outputs": [],
   "execution_count": 3
  },
  {
   "metadata": {
    "ExecuteTime": {
     "end_time": "2024-12-04T11:47:43.384091Z",
     "start_time": "2024-12-04T11:47:43.382667Z"
    }
   },
   "cell_type": "code",
   "source": [
    "# from sklearnex import patch_sklearn\n",
    "# patch_sklearn()"
   ],
   "id": "2283f7e76ea03731",
   "outputs": [],
   "execution_count": 4
  },
  {
   "metadata": {
    "ExecuteTime": {
     "end_time": "2024-12-04T11:48:02.882918Z",
     "start_time": "2024-12-04T11:47:43.384643Z"
    }
   },
   "cell_type": "code",
   "source": "df = pd.read_csv('modified_train.csv', index_col=0)",
   "id": "8afc31e5cacedf85",
   "outputs": [],
   "execution_count": 5
  },
  {
   "metadata": {
    "ExecuteTime": {
     "end_time": "2024-12-04T11:48:02.967358Z",
     "start_time": "2024-12-04T11:48:02.884200Z"
    }
   },
   "cell_type": "code",
   "source": "df['ctws'].fillna('', inplace=True)",
   "id": "6f6c3655fbbc5c2d",
   "outputs": [
    {
     "name": "stderr",
     "output_type": "stream",
     "text": [
      "/var/folders/v9/61pbr9j16zx7f0dxmvmrh7500000gn/T/ipykernel_63194/3334934365.py:1: FutureWarning: A value is trying to be set on a copy of a DataFrame or Series through chained assignment using an inplace method.\n",
      "The behavior will change in pandas 3.0. This inplace method will never work because the intermediate object on which we are setting values always behaves as a copy.\n",
      "\n",
      "For example, when doing 'df[col].method(value, inplace=True)', try using 'df.method({col: value}, inplace=True)' or df[col] = df[col].method(value) instead, to perform the operation inplace on the original object.\n",
      "\n",
      "\n",
      "  df['ctws'].fillna('', inplace=True)\n"
     ]
    }
   ],
   "execution_count": 6
  },
  {
   "metadata": {
    "ExecuteTime": {
     "end_time": "2024-12-04T11:48:02.969789Z",
     "start_time": "2024-12-04T11:48:02.968084Z"
    }
   },
   "cell_type": "code",
   "source": [
    "X = df['ctws']\n",
    "y = df['toxicity_b']"
   ],
   "id": "570678166c974c4b",
   "outputs": [],
   "execution_count": 7
  },
  {
   "metadata": {},
   "cell_type": "markdown",
   "source": "Разделение на train/val/test",
   "id": "8f857d943007d759"
  },
  {
   "metadata": {
    "ExecuteTime": {
     "end_time": "2024-12-04T11:48:03.431667Z",
     "start_time": "2024-12-04T11:48:02.970357Z"
    }
   },
   "cell_type": "code",
   "source": [
    "X_train, X_test, y_train, y_test = train_test_split(\n",
    "    X, y, test_size=0.2, random_state=42, stratify=y\n",
    ")\n",
    "\n",
    "X_train, X_val, y_train, y_val = train_test_split(X_train, y_train, test_size=0.2, random_state=42, stratify=y_train)"
   ],
   "id": "24a5ea4fabfd9d2c",
   "outputs": [],
   "execution_count": 8
  },
  {
   "metadata": {},
   "cell_type": "markdown",
   "source": "Давайте посмотрим на распределение выборок",
   "id": "47d584355aa1135f"
  },
  {
   "metadata": {
    "ExecuteTime": {
     "end_time": "2024-12-04T11:48:03.564057Z",
     "start_time": "2024-12-04T11:48:03.432572Z"
    }
   },
   "cell_type": "code",
   "source": [
    "import numpy as np\n",
    "\n",
    "datasets_labels = ['Train', 'Validation', 'Test']\n",
    "distributions = [\n",
    "    np.bincount(y_train),\n",
    "    np.bincount(y_val),\n",
    "    np.bincount(y_test)\n",
    "]\n",
    "\n",
    "bar_width = 0.2\n",
    "\n",
    "fig, ax = plt.subplots(figsize=(10, 6))\n",
    "\n",
    "for i, dist in enumerate(distributions):\n",
    "    ax.bar(\n",
    "        i * bar_width, dist, bar_width, label=datasets_labels[i]\n",
    "    )\n",
    "\n",
    "ax.set_xlabel('Class')\n",
    "ax.set_ylabel('Count')\n",
    "ax.set_title('Class Distribution Across Train, Validation, and Test')\n",
    "ax.legend()\n",
    "\n",
    "plt.tight_layout()\n",
    "plt.show()\n"
   ],
   "id": "abf9f9b57f03cc0f",
   "outputs": [
    {
     "data": {
      "text/plain": [
       "<Figure size 1000x600 with 1 Axes>"
      ],
      "image/png": "[encoded data removed]"
     },
     "metadata": {},
     "output_type": "display_data"
    }
   ],
   "execution_count": 9
  },
  {
   "metadata": {},
   "cell_type": "markdown",
   "source": "Разбиение на train и test выборки по Out-Of-Time (OOT) ",
   "id": "16d4f104f5b4cd30"
  },
  {
   "metadata": {
    "ExecuteTime": {
     "end_time": "2024-12-04T11:48:03.954984Z",
     "start_time": "2024-12-04T11:48:03.565929Z"
    }
   },
   "cell_type": "code",
   "source": [
    "split_date = \"2017-04-01\"\n",
    "\n",
    "train_data = df[df['created_date'] < split_date]\n",
    "test_data = df[df['created_date'] >= split_date]"
   ],
   "id": "d9803b9106723bfa",
   "outputs": [],
   "execution_count": 10
  },
  {
   "metadata": {},
   "cell_type": "markdown",
   "source": "Для разбиения на train и val выборки будем использовать In-Sample",
   "id": "3b64222ef4164692"
  },
  {
   "metadata": {
    "ExecuteTime": {
     "end_time": "2024-12-04T11:48:03.995644Z",
     "start_time": "2024-12-04T11:48:03.955756Z"
    }
   },
   "cell_type": "code",
   "source": [
    "X = train_data['ctws']\n",
    "y = train_data['toxicity_b']\n",
    "\n",
    "X_train, X_val, y_train, y_val = train_test_split(X, y, test_size=0.2)"
   ],
   "id": "b38c3cb92669ae3c",
   "outputs": [],
   "execution_count": 11
  },
  {
   "metadata": {
    "ExecuteTime": {
     "end_time": "2024-12-04T11:48:04.001434Z",
     "start_time": "2024-12-04T11:48:03.996453Z"
    }
   },
   "cell_type": "code",
   "source": [
    "# Test данные\n",
    "X_test = test_data['ctws']\n",
    "y_test = test_data['toxicity_b']"
   ],
   "id": "65c7236b88e84344",
   "outputs": [],
   "execution_count": 12
  },
  {
   "metadata": {
    "ExecuteTime": {
     "end_time": "2024-12-04T11:48:04.009099Z",
     "start_time": "2024-12-04T11:48:04.002279Z"
    }
   },
   "cell_type": "code",
   "source": [
    "# Функция обучения модели и предсказания и визуализации результатов\n",
    "def logistic_regression_objective(trial, X_train, X_val, y_train, y_val):\n",
    "    # Подбор гиперпараметров\n",
    "    C = trial.suggest_float('C', 1e-4, 1e2, log=True)  # Регуляризация\n",
    "    penalty = trial.suggest_categorical('penalty', ['l2', 'l1'])  # Тип регуляризации\n",
    "\n",
    "    solver = 'liblinear' if penalty in ['l1', 'l2'] else 'saga'\n",
    "\n",
    "    # Создаём модель\n",
    "    model = LogisticRegression(\n",
    "        C=C,\n",
    "        penalty=penalty,\n",
    "        solver=solver,\n",
    "        max_iter=1000,\n",
    "    )\n",
    "\n",
    "    # Обучение модели\n",
    "    model.fit(X_train, y_train)\n",
    "    y_pred = model.predict(X_val)\n",
    "    y_pred_proba = model.predict_proba(X_val)[:, 1]\n",
    "\n",
    "    # Рассчитываем метрики\n",
    "    f1 = f1_score(y_val, y_pred)\n",
    "    auc_roc = roc_auc_score(y_val, y_pred_proba)\n",
    "    precision = precision_score(y_val, y_pred)\n",
    "    recall = recall_score(y_val, y_pred)\n",
    "\n",
    "    trial.set_user_attr(\"auc_roc\", auc_roc)\n",
    "    trial.set_user_attr(\"precision\", precision)\n",
    "    trial.set_user_attr(\"recall\", recall)\n",
    "\n",
    "\n",
    "    return f1\n",
    "\n",
    "\n",
    "def naive_bayes_objective(trial, X_train, X_val, y_train, y_val):\n",
    "    # Параметры Naive Bayes\n",
    "    # MultinomialNB чаще используется для текстовых данных\n",
    "    alpha = trial.suggest_float('alpha', 1e-3, 10.0, log=True)\n",
    "\n",
    "    model = MultinomialNB(alpha=alpha)\n",
    "    model.fit(X_train, y_train)\n",
    "\n",
    "    y_pred = model.predict(X_val)\n",
    "    y_pred_proba = model.predict_proba(X_val)[:, 1]\n",
    "\n",
    "    f1 = f1_score(y_val, y_pred)\n",
    "    auc_roc = roc_auc_score(y_val, y_pred_proba)\n",
    "    precision = precision_score(y_val, y_pred)\n",
    "    recall = recall_score(y_val, y_pred)\n",
    "\n",
    "    # Сохраняем метрики для каждого испытания\n",
    "    trial.set_user_attr('f1', f1)\n",
    "    trial.set_user_attr('auc_roc', auc_roc)\n",
    "    trial.set_user_attr('precision', precision)\n",
    "    trial.set_user_attr('recall', recall)\n",
    "\n",
    "    return f1\n",
    "\n",
    "\n",
    "\n",
    "# Функция получения мешка слов\n",
    "def get_bows(X_train, X_val, X_test=None):\n",
    "    vectorizer = CountVectorizer()\n",
    "\n",
    "    X_train_bow = vectorizer.fit_transform(X_train)\n",
    "    X_val_bow = vectorizer.transform(X_val)\n",
    "\n",
    "    # Если переданы тестовые данные, также трансформируем их\n",
    "    X_test_bow = vectorizer.transform(X_test) if X_test is not None else None\n",
    "\n",
    "    return X_train_bow, X_val_bow, X_test_bow\n",
    "\n",
    "\n",
    "# Векторизация  TF-IDF\n",
    "def get_tfidf(X_train, X_val, X_test):\n",
    "    vectorizer = TfidfVectorizer()\n",
    "    \n",
    "    X_train_tfidf = vectorizer.fit_transform(X_train)\n",
    "    X_val_tfidf = vectorizer.transform(X_val)\n",
    "    X_test_tfidf = vectorizer.transform(X_test) if X_test is not None else None\n",
    "\n",
    "    return X_train_tfidf, X_val_tfidf, X_test_tfidf\n",
    "\n",
    "def svc_objective(trial, X_train, X_val, y_train, y_val):\n",
    "    C = trial.suggest_float('C', 1e-5, 1e2, log=True)\n",
    "    svc = SVC(C=C, kernel='linear', probability=True)\n",
    "    svc.fit(X_train, y_train)\n",
    "    y_pred = svc.predict(X_val)\n",
    "    y_pred_proba = svc.predict_proba(X_val)[:, 1]\n",
    "\n",
    "    f1 = f1_score(y_val, y_pred)\n",
    "    auc_roc = roc_auc_score(y_val, y_pred_proba)\n",
    "    precision = precision_score(y_val, y_pred)\n",
    "    recall = recall_score(y_val, y_pred)\n",
    "\n",
    "    # Логируем метрики в user_attrs\n",
    "    trial.set_user_attr(\"f1\", f1)\n",
    "    trial.set_user_attr(\"auc_roc\", auc_roc)\n",
    "    trial.set_user_attr(\"precision\", precision)\n",
    "    trial.set_user_attr(\"recall\", recall)\n",
    "\n",
    "    return f1\n",
    "\n"
   ],
   "id": "a9bf3b09487b2490",
   "outputs": [],
   "execution_count": 13
  },
  {
   "metadata": {},
   "cell_type": "markdown",
   "source": "Настраиваем Boosting для устранения смещения",
   "id": "94a42c0b2d2e9c19"
  },
  {
   "metadata": {
    "ExecuteTime": {
     "end_time": "2024-12-04T12:22:25.656018Z",
     "start_time": "2024-12-04T12:22:25.638956Z"
    }
   },
   "cell_type": "code",
   "source": [
    "def make_boosting_with_report(X_train, X_val, y_train, y_val):\n",
    "    # Обучение модели CatBoost\n",
    "    model = CatBoostClassifier(\n",
    "        iterations=100,     # Количество итераций\n",
    "        depth=5,            # Максимальная глубина деревьев\n",
    "        learning_rate=0.1,  # Скорость обучения\n",
    "        verbose=0           # Отключить вывод логов во время обучения\n",
    "    )\n",
    "\n",
    "    model.fit(X_train, y_train)\n",
    "\n",
    "    # Предсказания\n",
    "    y_pred = model.predict(X_val)\n",
    "\n",
    "    # Метрики\n",
    "    print(\"Accuracy:\", accuracy_score(y_val, y_pred))\n",
    "    print(\"\\nClassification Report:\")\n",
    "    print(classification_report(y_val, y_pred))\n",
    "\n",
    "    # Пример на одном объекте\n",
    "    sample = X_val.iloc[[0]]\n",
    "    print(f\"Features: {sample}\")\n",
    "    print(f\"Predicted Class: {model.predict(sample)[0]}\")\n",
    "    print(f\"Predicted Probability: {model.predict_proba(sample)[0]}\")\n",
    "\n",
    "\n"
   ],
   "id": "f466a0ffa6cde3e5",
   "outputs": [],
   "execution_count": 28
  },
  {
   "metadata": {},
   "cell_type": "markdown",
   "source": "# Обучение с мешком слов",
   "id": "3f9e6137db65eadc"
  },
  {
   "metadata": {
    "ExecuteTime": {
     "end_time": "2024-12-04T11:49:09.214612Z",
     "start_time": "2024-12-04T11:48:50.971440Z"
    }
   },
   "cell_type": "code",
   "source": "X_train_bow, X_val_bow, X_test_bow = get_bows(X_train, X_val, X_test)\n",
   "id": "d1c34f7515536e2d",
   "outputs": [],
   "execution_count": 15
  },
  {
   "metadata": {},
   "cell_type": "markdown",
   "source": "### Логистическая регрессия",
   "id": "a870a3b16c8fd786"
  },
  {
   "metadata": {
    "ExecuteTime": {
     "end_time": "2024-12-04T11:45:50.807646Z",
     "start_time": "2024-12-04T11:45:32.528924Z"
    }
   },
   "cell_type": "code",
   "source": [
    "# Запуск Optuna\n",
    "def launch_optuna(trial):\n",
    "    return logistic_regression_objective(trial, X_train_bow, X_val_bow, y_train, y_val)\n",
    "\n",
    "study = optuna.create_study(direction=\"minimize\")\n",
    "study.optimize(launch_optuna, n_trials=2)\n",
    "\n",
    "trials = study.trials\n",
    "\n",
    "for trial in trials:\n",
    "    print(f\"Попытка {trial.number}:\")\n",
    "    print(f\"  AUC-ROC: {trial.user_attrs.get('auc_roc')}\")\n",
    "    print(f\"  Precision: {trial.user_attrs.get('precision')}\")\n",
    "    print(f\"  Recall: {trial.user_attrs.get('recall')}\")\n",
    "    print(f\"  Best Params: {trial.params}\")"
   ],
   "id": "1dd2d379f0fb4dd4",
   "outputs": [
    {
     "name": "stderr",
     "output_type": "stream",
     "text": [
      "[I 2024-12-04 16:45:32,531] A new study created in memory with name: no-name-6344be78-571a-435b-b8bf-ca291ef6fd47\n",
      "[I 2024-12-04 16:45:45,830] Trial 0 finished with value: 0.5699405311565028 and parameters: {'C': 0.14949894406828093, 'penalty': 'l2'}. Best is trial 0 with value: 0.5699405311565028.\n",
      "[I 2024-12-04 16:45:50,805] Trial 1 finished with value: 0.5730884071141114 and parameters: {'C': 37.26481397980149, 'penalty': 'l1'}. Best is trial 0 with value: 0.5699405311565028.\n"
     ]
    },
    {
     "name": "stdout",
     "output_type": "stream",
     "text": [
      "Попытка 0:\n",
      "  AUC-ROC: 0.9143892865082408\n",
      "  Precision: 0.7630303629710217\n",
      "  Recall: 0.4548402311048225\n",
      "  Best Params: {'C': 0.14949894406828093, 'penalty': 'l2'}\n",
      "Попытка 1:\n",
      "  AUC-ROC: 0.860559150207518\n",
      "  Precision: 0.6374729241877256\n",
      "  Recall: 0.5205164485320127\n",
      "  Best Params: {'C': 37.26481397980149, 'penalty': 'l1'}\n"
     ]
    }
   ],
   "execution_count": 16
  },
  {
   "metadata": {},
   "cell_type": "markdown",
   "source": "### SVM - используем SVC",
   "id": "7494426208c102e8"
  },
  {
   "metadata": {
    "ExecuteTime": {
     "start_time": "2024-12-04T11:45:50.808402Z"
    }
   },
   "cell_type": "code",
   "source": [
    "def launch_optuna_svc(trial):\n",
    "    return svc_objective(trial, X_train_bow, X_val_bow, y_train, y_val)\n",
    "\n",
    "study = optuna.create_study(direction=\"minimize\")\n",
    "study.optimize(launch_optuna_svc, n_trials=2)\n",
    "\n",
    "trials = study.trials\n",
    "\n",
    "for trial in trials:\n",
    "    print(f\"Trial {trial.number}:\")\n",
    "    print(f\"  AUC-ROC: {trial.user_attrs.get('auc_roc')}\")\n",
    "    print(f\"  Precision: {trial.user_attrs.get('precision')}\")\n",
    "    print(f\"  Recall: {trial.user_attrs.get('recall')}\")\n",
    "    print(f\"  Best Params: {trial.params}\")"
   ],
   "id": "59c45f4bfc4e0a3b",
   "outputs": [
    {
     "name": "stderr",
     "output_type": "stream",
     "text": [
      "[I 2024-12-04 16:45:50,809] A new study created in memory with name: no-name-91ba29e7-b625-4709-935c-de48a340d9f4\n"
     ]
    }
   ],
   "execution_count": null
  },
  {
   "metadata": {},
   "cell_type": "markdown",
   "source": "### Наивный Байес (Наивный байесовский классификатор)",
   "id": "491f18aec75e3af3"
  },
  {
   "metadata": {
    "ExecuteTime": {
     "end_time": "2024-12-04T11:49:50.099719Z",
     "start_time": "2024-12-04T11:49:49.635323Z"
    }
   },
   "cell_type": "code",
   "source": [
    "def launch_optuna_naive_bayes(trial):\n",
    "    return naive_bayes_objective(trial, X_train_bow, X_val_bow, y_train, y_val)\n",
    "\n",
    "study = optuna.create_study(direction=\"minimize\")\n",
    "study.optimize(launch_optuna_naive_bayes, n_trials=2)\n",
    "\n",
    "trials = study.trials\n",
    "\n",
    "for trial in trials:\n",
    "    print(f\"Trial {trial.number}:\")\n",
    "    print(f\"  AUC-ROC: {trial.user_attrs.get('auc_roc')}\")\n",
    "    print(f\"  Precision: {trial.user_attrs.get('precision')}\")\n",
    "    print(f\"  Recall: {trial.user_attrs.get('recall')}\")\n",
    "    print(f\"  Best Params: {trial.params}\")\n"
   ],
   "id": "760841de6036465a",
   "outputs": [
    {
     "name": "stderr",
     "output_type": "stream",
     "text": [
      "[I 2024-12-04 16:49:49,640] A new study created in memory with name: no-name-978d5300-9730-44a8-9a91-8ddf3dc04913\n",
      "[I 2024-12-04 16:49:49,913] Trial 0 finished with value: 0.5139885133969286 and parameters: {'alpha': 0.01179635144991194}. Best is trial 0 with value: 0.5139885133969286.\n",
      "[I 2024-12-04 16:49:50,097] Trial 1 finished with value: 0.5100697807246268 and parameters: {'alpha': 0.0035737476959786085}. Best is trial 1 with value: 0.5100697807246268.\n"
     ]
    },
    {
     "name": "stdout",
     "output_type": "stream",
     "text": [
      "Trial 0:\n",
      "  AUC-ROC: 0.8313334810888722\n",
      "  Precision: 0.4416486635320032\n",
      "  Recall: 0.6146680815941516\n",
      "  Best Params: {'alpha': 0.01179635144991194}\n",
      "Trial 1:\n",
      "  AUC-ROC: 0.8233292035880386\n",
      "  Precision: 0.4406401510275883\n",
      "  Recall: 0.6054710529418701\n",
      "  Best Params: {'alpha': 0.0035737476959786085}\n"
     ]
    }
   ],
   "execution_count": 16
  },
  {
   "metadata": {},
   "cell_type": "markdown",
   "source": "### Применяем Boosting с Мешком слов",
   "id": "f2bccf901816cf10"
  },
  {
   "metadata": {
    "ExecuteTime": {
     "end_time": "2024-12-04T12:23:56.768945Z",
     "start_time": "2024-12-04T12:22:33.439911Z"
    }
   },
   "cell_type": "code",
   "source": "make_boosting_with_report(X_train_bow, X_val_bow, y_train, y_val)",
   "id": "46b9e9ac01436cfc",
   "outputs": [
    {
     "name": "stdout",
     "output_type": "stream",
     "text": [
      "Accuracy: 0.9102712356576598\n",
      "\n",
      "Classification Report:\n",
      "              precision    recall  f1-score   support\n",
      "\n",
      "           0       0.91      0.99      0.95    138696\n",
      "           1       0.84      0.22      0.35     16962\n",
      "\n",
      "    accuracy                           0.91    155658\n",
      "   macro avg       0.88      0.61      0.65    155658\n",
      "weighted avg       0.90      0.91      0.89    155658\n",
      "\n"
     ]
    },
    {
     "ename": "AttributeError",
     "evalue": "'csr_matrix' object has no attribute 'iloc'",
     "output_type": "error",
     "traceback": [
      "\u001B[0;31m---------------------------------------------------------------------------\u001B[0m",
      "\u001B[0;31mAttributeError\u001B[0m                            Traceback (most recent call last)",
      "Cell \u001B[0;32mIn[29], line 1\u001B[0m\n\u001B[0;32m----> 1\u001B[0m \u001B[43mmake_boosting_with_report\u001B[49m\u001B[43m(\u001B[49m\u001B[43mX_train_bow\u001B[49m\u001B[43m,\u001B[49m\u001B[43m \u001B[49m\u001B[43mX_val_bow\u001B[49m\u001B[43m,\u001B[49m\u001B[43m \u001B[49m\u001B[43my_train\u001B[49m\u001B[43m,\u001B[49m\u001B[43m \u001B[49m\u001B[43my_val\u001B[49m\u001B[43m)\u001B[49m\n",
      "Cell \u001B[0;32mIn[28], line 21\u001B[0m, in \u001B[0;36mmake_boosting_with_report\u001B[0;34m(X_train, X_val, y_train, y_val)\u001B[0m\n\u001B[1;32m     18\u001B[0m \u001B[38;5;28mprint\u001B[39m(classification_report(y_val, y_pred))\n\u001B[1;32m     20\u001B[0m \u001B[38;5;66;03m# Пример на одном объекте\u001B[39;00m\n\u001B[0;32m---> 21\u001B[0m sample \u001B[38;5;241m=\u001B[39m \u001B[43mX_val\u001B[49m\u001B[38;5;241;43m.\u001B[39;49m\u001B[43miloc\u001B[49m[[\u001B[38;5;241m0\u001B[39m]]\n\u001B[1;32m     22\u001B[0m \u001B[38;5;28mprint\u001B[39m(\u001B[38;5;124mf\u001B[39m\u001B[38;5;124m\"\u001B[39m\u001B[38;5;124mFeatures: \u001B[39m\u001B[38;5;132;01m{\u001B[39;00msample\u001B[38;5;132;01m}\u001B[39;00m\u001B[38;5;124m\"\u001B[39m)\n\u001B[1;32m     23\u001B[0m \u001B[38;5;28mprint\u001B[39m(\u001B[38;5;124mf\u001B[39m\u001B[38;5;124m\"\u001B[39m\u001B[38;5;124mPredicted Class: \u001B[39m\u001B[38;5;132;01m{\u001B[39;00mmodel\u001B[38;5;241m.\u001B[39mpredict(sample)[\u001B[38;5;241m0\u001B[39m]\u001B[38;5;132;01m}\u001B[39;00m\u001B[38;5;124m\"\u001B[39m)\n",
      "\u001B[0;31mAttributeError\u001B[0m: 'csr_matrix' object has no attribute 'iloc'"
     ]
    }
   ],
   "execution_count": 29
  },
  {
   "metadata": {},
   "cell_type": "markdown",
   "source": "# Обучение с TF-IDF",
   "id": "26044bd960b713a9"
  },
  {
   "metadata": {
    "ExecuteTime": {
     "end_time": "2024-12-04T11:55:20.276523Z",
     "start_time": "2024-12-04T11:55:02.196269Z"
    }
   },
   "cell_type": "code",
   "source": "X_train_tfidf, X_val_tfidf, X_test_tfidf = get_tfidf(X_train, X_val, X_test)",
   "id": "fd178580f92ac476",
   "outputs": [],
   "execution_count": 20
  },
  {
   "metadata": {},
   "cell_type": "markdown",
   "source": "### Логистическая регрессия",
   "id": "ac25c6b6dd91e6b0"
  },
  {
   "metadata": {
    "ExecuteTime": {
     "end_time": "2024-12-04T11:55:51.404960Z",
     "start_time": "2024-12-04T11:55:39.237108Z"
    }
   },
   "cell_type": "code",
   "source": [
    "# Запуск Optuna\n",
    "def launch_optuna(trial):\n",
    "    return logistic_regression_objective(trial, X_train_tfidf, X_val_tfidf, y_train, y_val)\n",
    "\n",
    "study = optuna.create_study(direction=\"minimize\")\n",
    "study.optimize(launch_optuna, n_trials=2)\n",
    "\n",
    "trials = study.trials\n",
    "\n",
    "for trial in trials:\n",
    "    print(f\"Попытка {trial.number}:\")\n",
    "    print(f\"  AUC-ROC: {trial.user_attrs.get('auc_roc')}\")\n",
    "    print(f\"  Precision: {trial.user_attrs.get('precision')}\")\n",
    "    print(f\"  Recall: {trial.user_attrs.get('recall')}\")\n",
    "    print(f\"  Best Params: {trial.params}\")"
   ],
   "id": "259a267b1693af3b",
   "outputs": [
    {
     "name": "stderr",
     "output_type": "stream",
     "text": [
      "[I 2024-12-04 16:55:39,244] A new study created in memory with name: no-name-4d494d0a-ef96-46c1-a8eb-40c92331b275\n",
      "[I 2024-12-04 16:55:43,462] Trial 0 finished with value: 0.4708929557131332 and parameters: {'C': 0.1471819863421775, 'penalty': 'l2'}. Best is trial 0 with value: 0.4708929557131332.\n",
      "[I 2024-12-04 16:55:51,372] Trial 1 finished with value: 0.6023115975947863 and parameters: {'C': 2.6285707494831505, 'penalty': 'l2'}. Best is trial 0 with value: 0.4708929557131332.\n"
     ]
    },
    {
     "name": "stdout",
     "output_type": "stream",
     "text": [
      "Попытка 0:\n",
      "  AUC-ROC: 0.9262906985993283\n",
      "  Precision: 0.8415541053270602\n",
      "  Recall: 0.32690720433911097\n",
      "  Best Params: {'C': 0.1471819863421775, 'penalty': 'l2'}\n",
      "Попытка 1:\n",
      "  AUC-ROC: 0.9335683980862746\n",
      "  Precision: 0.7736564610119323\n",
      "  Recall: 0.49310222851078883\n",
      "  Best Params: {'C': 2.6285707494831505, 'penalty': 'l2'}\n"
     ]
    }
   ],
   "execution_count": 21
  },
  {
   "metadata": {},
   "cell_type": "markdown",
   "source": "### SVM",
   "id": "44ce7a2b479536ff"
  },
  {
   "metadata": {},
   "cell_type": "code",
   "source": [
    "def launch_optuna_svc(trial):\n",
    "    return svc_objective(trial, X_train_tfidf, X_val_tfidf, y_train, y_val)\n",
    "\n",
    "study = optuna.create_study(direction=\"minimize\")\n",
    "study.optimize(launch_optuna_svc, n_trials=2)\n",
    "\n",
    "trials = study.trials\n",
    "\n",
    "for trial in trials:\n",
    "    print(f\"Trial {trial.number}:\")\n",
    "    print(f\"  AUC-ROC: {trial.user_attrs.get('auc_roc')}\")\n",
    "    print(f\"  Precision: {trial.user_attrs.get('precision')}\")\n",
    "    print(f\"  Recall: {trial.user_attrs.get('recall')}\")\n",
    "    print(f\"  Best Params: {trial.params}\")"
   ],
   "id": "f65597f14856b967",
   "outputs": [],
   "execution_count": null
  },
  {
   "metadata": {},
   "cell_type": "markdown",
   "source": "### Наивный Байес (Наивный байесовский классификатор)",
   "id": "6c0ead3e2183b8c3"
  },
  {
   "metadata": {
    "ExecuteTime": {
     "end_time": "2024-12-04T11:58:57.710944Z",
     "start_time": "2024-12-04T11:58:57.268743Z"
    }
   },
   "cell_type": "code",
   "source": [
    "def launch_optuna_naive_bayes(trial):\n",
    "    return naive_bayes_objective(trial, X_train_tfidf, X_val_tfidf, y_train, y_val)\n",
    "\n",
    "study = optuna.create_study(direction=\"minimize\")\n",
    "study.optimize(launch_optuna_naive_bayes, n_trials=2)\n",
    "\n",
    "trials = study.trials\n",
    "\n",
    "for trial in trials:\n",
    "    print(f\"Trial {trial.number}:\")\n",
    "    print(f\"  AUC-ROC: {trial.user_attrs.get('auc_roc')}\")\n",
    "    print(f\"  Precision: {trial.user_attrs.get('precision')}\")\n",
    "    print(f\"  Recall: {trial.user_attrs.get('recall')}\")\n",
    "    print(f\"  Best Params: {trial.params}\")"
   ],
   "id": "f21908f9a3892250",
   "outputs": [
    {
     "name": "stderr",
     "output_type": "stream",
     "text": [
      "[I 2024-12-04 16:58:57,283] A new study created in memory with name: no-name-9129e714-de70-4c3c-80c2-12255da97d44\n",
      "[I 2024-12-04 16:58:57,523] Trial 0 finished with value: 0.23453098869913344 and parameters: {'alpha': 0.02305846000789662}. Best is trial 0 with value: 0.23453098869913344.\n",
      "[I 2024-12-04 16:58:57,709] Trial 1 finished with value: 0.23575103399576314 and parameters: {'alpha': 0.005533153251493821}. Best is trial 0 with value: 0.23453098869913344.\n"
     ]
    },
    {
     "name": "stdout",
     "output_type": "stream",
     "text": [
      "Trial 0:\n",
      "  AUC-ROC: 0.85020271023285\n",
      "  Precision: 0.8350775893179357\n",
      "  Recall: 0.13642259167550996\n",
      "  Best Params: {'alpha': 0.02305846000789662}\n",
      "Trial 1:\n",
      "  AUC-ROC: 0.8342722016482228\n",
      "  Precision: 0.8159916201117319\n",
      "  Recall: 0.13777856384860276\n",
      "  Best Params: {'alpha': 0.005533153251493821}\n"
     ]
    }
   ],
   "execution_count": 23
  },
  {
   "metadata": {},
   "cell_type": "markdown",
   "source": "### Применяем Boosting с TF-IDF\n",
   "id": "99309d4aef93911c"
  },
  {
   "metadata": {
    "ExecuteTime": {
     "end_time": "2024-12-04T12:26:07.971772Z",
     "start_time": "2024-12-04T12:24:12.816223Z"
    }
   },
   "cell_type": "code",
   "source": "make_boosting_with_report(X_train_tfidf, X_val_tfidf, y_train, y_val)",
   "id": "2aac21263a29a786",
   "outputs": [
    {
     "name": "stdout",
     "output_type": "stream",
     "text": [
      "Accuracy: 0.9130915211553534\n",
      "\n",
      "Classification Report:\n",
      "              precision    recall  f1-score   support\n",
      "\n",
      "           0       0.91      1.00      0.95    138696\n",
      "           1       0.87      0.24      0.37     16962\n",
      "\n",
      "    accuracy                           0.91    155658\n",
      "   macro avg       0.89      0.62      0.66    155658\n",
      "weighted avg       0.91      0.91      0.89    155658\n",
      "\n"
     ]
    },
    {
     "ename": "AttributeError",
     "evalue": "'csr_matrix' object has no attribute 'iloc'",
     "output_type": "error",
     "traceback": [
      "\u001B[0;31m---------------------------------------------------------------------------\u001B[0m",
      "\u001B[0;31mAttributeError\u001B[0m                            Traceback (most recent call last)",
      "Cell \u001B[0;32mIn[30], line 1\u001B[0m\n\u001B[0;32m----> 1\u001B[0m \u001B[43mmake_boosting_with_report\u001B[49m\u001B[43m(\u001B[49m\u001B[43mX_train_tfidf\u001B[49m\u001B[43m,\u001B[49m\u001B[43m \u001B[49m\u001B[43mX_val_tfidf\u001B[49m\u001B[43m,\u001B[49m\u001B[43m \u001B[49m\u001B[43my_train\u001B[49m\u001B[43m,\u001B[49m\u001B[43m \u001B[49m\u001B[43my_val\u001B[49m\u001B[43m)\u001B[49m\n",
      "Cell \u001B[0;32mIn[28], line 21\u001B[0m, in \u001B[0;36mmake_boosting_with_report\u001B[0;34m(X_train, X_val, y_train, y_val)\u001B[0m\n\u001B[1;32m     18\u001B[0m \u001B[38;5;28mprint\u001B[39m(classification_report(y_val, y_pred))\n\u001B[1;32m     20\u001B[0m \u001B[38;5;66;03m# Пример на одном объекте\u001B[39;00m\n\u001B[0;32m---> 21\u001B[0m sample \u001B[38;5;241m=\u001B[39m \u001B[43mX_val\u001B[49m\u001B[38;5;241;43m.\u001B[39;49m\u001B[43miloc\u001B[49m[[\u001B[38;5;241m0\u001B[39m]]\n\u001B[1;32m     22\u001B[0m \u001B[38;5;28mprint\u001B[39m(\u001B[38;5;124mf\u001B[39m\u001B[38;5;124m\"\u001B[39m\u001B[38;5;124mFeatures: \u001B[39m\u001B[38;5;132;01m{\u001B[39;00msample\u001B[38;5;132;01m}\u001B[39;00m\u001B[38;5;124m\"\u001B[39m)\n\u001B[1;32m     23\u001B[0m \u001B[38;5;28mprint\u001B[39m(\u001B[38;5;124mf\u001B[39m\u001B[38;5;124m\"\u001B[39m\u001B[38;5;124mPredicted Class: \u001B[39m\u001B[38;5;132;01m{\u001B[39;00mmodel\u001B[38;5;241m.\u001B[39mpredict(sample)[\u001B[38;5;241m0\u001B[39m]\u001B[38;5;132;01m}\u001B[39;00m\u001B[38;5;124m\"\u001B[39m)\n",
      "\u001B[0;31mAttributeError\u001B[0m: 'csr_matrix' object has no attribute 'iloc'"
     ]
    }
   ],
   "execution_count": 30
  }
 ],
 "metadata": {
  "kernelspec": {
   "display_name": "Python 3",
   "language": "python",
   "name": "python3"
  },
  "language_info": {
   "codemirror_mode": {
    "name": "ipython",
    "version": 2
   },
   "file_extension": ".py",
   "mimetype": "text/x-python",
   "name": "python",
   "nbconvert_exporter": "python",
   "pygments_lexer": "ipython2",
   "version": "2.7.6"
  }
 },
 "nbformat": 4,
 "nbformat_minor": 5
}
